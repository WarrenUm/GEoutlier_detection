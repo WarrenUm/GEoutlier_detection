{
 "cells": [
  {
   "cell_type": "code",
   "execution_count": 1,
   "id": "9f82f79e-bd56-4a7f-aca6-efd8554e782f",
   "metadata": {},
   "outputs": [],
   "source": [
    "#fetching and viewing prices data table"
   ]
  },
  {
   "cell_type": "code",
   "execution_count": null,
   "id": "bfdda309-e84f-43c6-8c57-ac22cf3cfeb4",
   "metadata": {},
   "outputs": [],
   "source": []
  },
  {
   "cell_type": "code",
   "execution_count": 26,
   "id": "16911ae5-06c7-46c4-88e2-af028e9e9e28",
   "metadata": {},
   "outputs": [],
   "source": [
    "import sqlite3\n",
    "from sqlite3 import Error\n",
    "import pandas as pd"
   ]
  },
  {
   "cell_type": "code",
   "execution_count": 27,
   "id": "ea8ed3a8-5cda-4909-b43c-ec74de3a966c",
   "metadata": {},
   "outputs": [],
   "source": [
    "conn = sqlite3.connect('../geitems.db')\n",
    "cur = conn.cursor()"
   ]
  },
  {
   "cell_type": "code",
   "execution_count": 28,
   "id": "b6de076d-fad7-4d0b-b68d-88d2d625e5f9",
   "metadata": {},
   "outputs": [
    {
     "data": {
      "text/plain": [
       "<sqlite3.Cursor at 0x1e9f16aa2d0>"
      ]
     },
     "execution_count": 28,
     "metadata": {},
     "output_type": "execute_result"
    }
   ],
   "source": [
    "cur.execute(\"\"\"SELECT * FROM prices\"\"\")"
   ]
  },
  {
   "cell_type": "code",
   "execution_count": 29,
   "id": "cde9dfeb-1eef-4d25-8021-28c417568fea",
   "metadata": {},
   "outputs": [],
   "source": [
    "response = cur.fetchall()"
   ]
  },
  {
   "cell_type": "code",
   "execution_count": null,
   "id": "46f940eb-5e47-4bf5-9f1a-a1daf59273b7",
   "metadata": {},
   "outputs": [],
   "source": []
  },
  {
   "cell_type": "code",
   "execution_count": 30,
   "id": "da12493c-d146-4e81-83c5-e9ecc7c24fcb",
   "metadata": {},
   "outputs": [
    {
     "data": {
      "text/html": [
       "<div>\n",
       "<style scoped>\n",
       "    .dataframe tbody tr th:only-of-type {\n",
       "        vertical-align: middle;\n",
       "    }\n",
       "\n",
       "    .dataframe tbody tr th {\n",
       "        vertical-align: top;\n",
       "    }\n",
       "\n",
       "    .dataframe thead th {\n",
       "        text-align: right;\n",
       "    }\n",
       "</style>\n",
       "<table border=\"1\" class=\"dataframe\">\n",
       "  <thead>\n",
       "    <tr style=\"text-align: right;\">\n",
       "      <th></th>\n",
       "      <th>id</th>\n",
       "      <th>item_id</th>\n",
       "      <th>timestamp</th>\n",
       "      <th>avgHighPrice</th>\n",
       "      <th>highPriceVolume</th>\n",
       "      <th>avgLowPrice</th>\n",
       "      <th>lowPriceVolume</th>\n",
       "    </tr>\n",
       "  </thead>\n",
       "  <tbody>\n",
       "    <tr>\n",
       "      <th>0</th>\n",
       "      <td>1</td>\n",
       "      <td>9998</td>\n",
       "      <td>1647194100</td>\n",
       "      <td>6750.0</td>\n",
       "      <td>4</td>\n",
       "      <td>5.990000e+03</td>\n",
       "      <td>16</td>\n",
       "    </tr>\n",
       "    <tr>\n",
       "      <th>1</th>\n",
       "      <td>2</td>\n",
       "      <td>9998</td>\n",
       "      <td>1647194400</td>\n",
       "      <td>6934.0</td>\n",
       "      <td>31</td>\n",
       "      <td>NaN</td>\n",
       "      <td>0</td>\n",
       "    </tr>\n",
       "    <tr>\n",
       "      <th>2</th>\n",
       "      <td>3</td>\n",
       "      <td>9998</td>\n",
       "      <td>1647194700</td>\n",
       "      <td>6998.0</td>\n",
       "      <td>2</td>\n",
       "      <td>5.500000e+03</td>\n",
       "      <td>20</td>\n",
       "    </tr>\n",
       "    <tr>\n",
       "      <th>3</th>\n",
       "      <td>4</td>\n",
       "      <td>10010</td>\n",
       "      <td>1646679000</td>\n",
       "      <td>15.0</td>\n",
       "      <td>1</td>\n",
       "      <td>NaN</td>\n",
       "      <td>0</td>\n",
       "    </tr>\n",
       "    <tr>\n",
       "      <th>4</th>\n",
       "      <td>5</td>\n",
       "      <td>10029</td>\n",
       "      <td>1646679000</td>\n",
       "      <td>6.0</td>\n",
       "      <td>3</td>\n",
       "      <td>NaN</td>\n",
       "      <td>0</td>\n",
       "    </tr>\n",
       "    <tr>\n",
       "      <th>...</th>\n",
       "      <td>...</td>\n",
       "      <td>...</td>\n",
       "      <td>...</td>\n",
       "      <td>...</td>\n",
       "      <td>...</td>\n",
       "      <td>...</td>\n",
       "      <td>...</td>\n",
       "    </tr>\n",
       "    <tr>\n",
       "      <th>1362568</th>\n",
       "      <td>1362569</td>\n",
       "      <td>27014</td>\n",
       "      <td>1660515600</td>\n",
       "      <td>70000.0</td>\n",
       "      <td>1</td>\n",
       "      <td>NaN</td>\n",
       "      <td>0</td>\n",
       "    </tr>\n",
       "    <tr>\n",
       "      <th>1362569</th>\n",
       "      <td>1362570</td>\n",
       "      <td>27014</td>\n",
       "      <td>1660815600</td>\n",
       "      <td>NaN</td>\n",
       "      <td>0</td>\n",
       "      <td>6.900000e+04</td>\n",
       "      <td>1</td>\n",
       "    </tr>\n",
       "    <tr>\n",
       "      <th>1362570</th>\n",
       "      <td>1362571</td>\n",
       "      <td>26997</td>\n",
       "      <td>1661115600</td>\n",
       "      <td>4424.0</td>\n",
       "      <td>1</td>\n",
       "      <td>4.424000e+03</td>\n",
       "      <td>33</td>\n",
       "    </tr>\n",
       "    <tr>\n",
       "      <th>1362571</th>\n",
       "      <td>1362572</td>\n",
       "      <td>27272</td>\n",
       "      <td>1661415600</td>\n",
       "      <td>NaN</td>\n",
       "      <td>0</td>\n",
       "      <td>1.411500e+04</td>\n",
       "      <td>90</td>\n",
       "    </tr>\n",
       "    <tr>\n",
       "      <th>1362572</th>\n",
       "      <td>1362573</td>\n",
       "      <td>27277</td>\n",
       "      <td>1661715600</td>\n",
       "      <td>NaN</td>\n",
       "      <td>0</td>\n",
       "      <td>1.800000e+09</td>\n",
       "      <td>1</td>\n",
       "    </tr>\n",
       "  </tbody>\n",
       "</table>\n",
       "<p>1362573 rows × 7 columns</p>\n",
       "</div>"
      ],
      "text/plain": [
       "              id  item_id   timestamp  avgHighPrice  highPriceVolume  \\\n",
       "0              1     9998  1647194100        6750.0                4   \n",
       "1              2     9998  1647194400        6934.0               31   \n",
       "2              3     9998  1647194700        6998.0                2   \n",
       "3              4    10010  1646679000          15.0                1   \n",
       "4              5    10029  1646679000           6.0                3   \n",
       "...          ...      ...         ...           ...              ...   \n",
       "1362568  1362569    27014  1660515600       70000.0                1   \n",
       "1362569  1362570    27014  1660815600           NaN                0   \n",
       "1362570  1362571    26997  1661115600        4424.0                1   \n",
       "1362571  1362572    27272  1661415600           NaN                0   \n",
       "1362572  1362573    27277  1661715600           NaN                0   \n",
       "\n",
       "          avgLowPrice  lowPriceVolume  \n",
       "0        5.990000e+03              16  \n",
       "1                 NaN               0  \n",
       "2        5.500000e+03              20  \n",
       "3                 NaN               0  \n",
       "4                 NaN               0  \n",
       "...               ...             ...  \n",
       "1362568           NaN               0  \n",
       "1362569  6.900000e+04               1  \n",
       "1362570  4.424000e+03              33  \n",
       "1362571  1.411500e+04              90  \n",
       "1362572  1.800000e+09               1  \n",
       "\n",
       "[1362573 rows x 7 columns]"
      ]
     },
     "execution_count": 30,
     "metadata": {},
     "output_type": "execute_result"
    }
   ],
   "source": [
    "pd.DataFrame(response,columns=['id','item_id','timestamp','avgHighPrice','highPriceVolume','avgLowPrice','lowPriceVolume'])"
   ]
  },
  {
   "cell_type": "code",
   "execution_count": 23,
   "id": "f4c0aaaf-d0a4-4805-b17f-75a119fd494f",
   "metadata": {},
   "outputs": [],
   "source": [
    "conn.close()"
   ]
  },
  {
   "cell_type": "code",
   "execution_count": 25,
   "id": "faf98c5f-b7ab-4230-991e-c371f2a07e47",
   "metadata": {},
   "outputs": [
    {
     "name": "stdout",
     "output_type": "stream",
     "text": [
      "Table Contains 1362335 rows\n",
      "Table Contains 1362336 rows\n",
      "Table Contains 1362337 rows\n",
      "Table Contains 1362339 rows\n",
      "Table Contains 1362340 rows\n",
      "Table Contains 1362341 rows\n"
     ]
    },
    {
     "ename": "KeyboardInterrupt",
     "evalue": "",
     "output_type": "error",
     "traceback": [
      "\u001b[1;31m---------------------------------------------------------------------------\u001b[0m",
      "\u001b[1;31mKeyboardInterrupt\u001b[0m                         Traceback (most recent call last)",
      "\u001b[1;32m<ipython-input-25-765e66ad8315>\u001b[0m in \u001b[0;36m<module>\u001b[1;34m\u001b[0m\n\u001b[0;32m      3\u001b[0m     \u001b[0mcur\u001b[0m \u001b[1;33m=\u001b[0m \u001b[0mconn\u001b[0m\u001b[1;33m.\u001b[0m\u001b[0mcursor\u001b[0m\u001b[1;33m(\u001b[0m\u001b[1;33m)\u001b[0m\u001b[1;33m\u001b[0m\u001b[1;33m\u001b[0m\u001b[0m\n\u001b[0;32m      4\u001b[0m     \u001b[0mcur\u001b[0m\u001b[1;33m.\u001b[0m\u001b[0mexecute\u001b[0m\u001b[1;33m(\u001b[0m\u001b[1;34m\"\"\"SELECT * FROM prices\"\"\"\u001b[0m\u001b[1;33m)\u001b[0m\u001b[1;33m\u001b[0m\u001b[1;33m\u001b[0m\u001b[0m\n\u001b[1;32m----> 5\u001b[1;33m     \u001b[0mresponse\u001b[0m \u001b[1;33m=\u001b[0m \u001b[0mcur\u001b[0m\u001b[1;33m.\u001b[0m\u001b[0mfetchall\u001b[0m\u001b[1;33m(\u001b[0m\u001b[1;33m)\u001b[0m\u001b[1;33m\u001b[0m\u001b[1;33m\u001b[0m\u001b[0m\n\u001b[0m\u001b[0;32m      6\u001b[0m     \u001b[0mconn\u001b[0m\u001b[1;33m.\u001b[0m\u001b[0mclose\u001b[0m\u001b[1;33m(\u001b[0m\u001b[1;33m)\u001b[0m\u001b[1;33m\u001b[0m\u001b[1;33m\u001b[0m\u001b[0m\n\u001b[0;32m      7\u001b[0m     \u001b[0mtableContents\u001b[0m \u001b[1;33m=\u001b[0m \u001b[0mlen\u001b[0m\u001b[1;33m(\u001b[0m\u001b[0mpd\u001b[0m\u001b[1;33m.\u001b[0m\u001b[0mDataFrame\u001b[0m\u001b[1;33m(\u001b[0m\u001b[0mresponse\u001b[0m\u001b[1;33m,\u001b[0m\u001b[0mcolumns\u001b[0m\u001b[1;33m=\u001b[0m\u001b[1;33m[\u001b[0m\u001b[1;34m'id'\u001b[0m\u001b[1;33m,\u001b[0m\u001b[1;34m'item_id'\u001b[0m\u001b[1;33m,\u001b[0m\u001b[1;34m'timestamp'\u001b[0m\u001b[1;33m,\u001b[0m\u001b[1;34m'avgHighPrice'\u001b[0m\u001b[1;33m,\u001b[0m\u001b[1;34m'highPriceVolume'\u001b[0m\u001b[1;33m,\u001b[0m\u001b[1;34m'avgLowPrice'\u001b[0m\u001b[1;33m,\u001b[0m\u001b[1;34m'lowPriceVolume'\u001b[0m\u001b[1;33m]\u001b[0m\u001b[1;33m)\u001b[0m\u001b[1;33m.\u001b[0m\u001b[0mid\u001b[0m\u001b[1;33m)\u001b[0m\u001b[1;33m\u001b[0m\u001b[1;33m\u001b[0m\u001b[0m\n",
      "\u001b[1;31mKeyboardInterrupt\u001b[0m: "
     ]
    }
   ],
   "source": [
    "while(0<1):\n",
    "    conn = sqlite3.connect('../geitems.db')\n",
    "    cur = conn.cursor()\n",
    "    cur.execute(\"\"\"SELECT * FROM prices\"\"\")\n",
    "    response = cur.fetchall()\n",
    "    conn.close()\n",
    "    tableContents = len(pd.DataFrame(response,columns=['id','item_id','timestamp','avgHighPrice','highPriceVolume','avgLowPrice','lowPriceVolume']).id)\n",
    "    print('Table Contains {tableContents} rows')"
   ]
  },
  {
   "cell_type": "code",
   "execution_count": null,
   "id": "d3bb0212-1fb7-4eb3-96cd-9ae2c2f5ea19",
   "metadata": {},
   "outputs": [],
   "source": []
  }
 ],
 "metadata": {
  "kernelspec": {
   "display_name": "Python 3",
   "language": "python",
   "name": "python3"
  },
  "language_info": {
   "codemirror_mode": {
    "name": "ipython",
    "version": 3
   },
   "file_extension": ".py",
   "mimetype": "text/x-python",
   "name": "python",
   "nbconvert_exporter": "python",
   "pygments_lexer": "ipython3",
   "version": "3.8.8"
  }
 },
 "nbformat": 4,
 "nbformat_minor": 5
}
