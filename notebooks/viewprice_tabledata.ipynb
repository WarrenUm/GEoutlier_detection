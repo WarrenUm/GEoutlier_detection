{
 "cells": [
  {
   "cell_type": "code",
   "execution_count": 1,
   "id": "9f82f79e-bd56-4a7f-aca6-efd8554e782f",
   "metadata": {},
   "outputs": [],
   "source": [
    "#fetching and viewing prices data table"
   ]
  },
  {
   "cell_type": "code",
   "execution_count": null,
   "id": "bfdda309-e84f-43c6-8c57-ac22cf3cfeb4",
   "metadata": {},
   "outputs": [],
   "source": []
  },
  {
   "cell_type": "code",
   "execution_count": 2,
   "id": "16911ae5-06c7-46c4-88e2-af028e9e9e28",
   "metadata": {},
   "outputs": [],
   "source": [
    "import sqlite3\n",
    "from sqlite3 import Error\n",
    "import pandas as pd"
   ]
  },
  {
   "cell_type": "code",
   "execution_count": 3,
   "id": "ea8ed3a8-5cda-4909-b43c-ec74de3a966c",
   "metadata": {},
   "outputs": [],
   "source": [
    "conn = sqlite3.connect('../geitems.db')\n",
    "cur = conn.cursor()"
   ]
  },
  {
   "cell_type": "code",
   "execution_count": 4,
   "id": "b6de076d-fad7-4d0b-b68d-88d2d625e5f9",
   "metadata": {},
   "outputs": [
    {
     "data": {
      "text/plain": [
       "<sqlite3.Cursor at 0x1dc46d46ea0>"
      ]
     },
     "execution_count": 4,
     "metadata": {},
     "output_type": "execute_result"
    }
   ],
   "source": [
    "cur.execute(\"\"\"SELECT * FROM prices LIMIT 1000000\"\"\")"
   ]
  },
  {
   "cell_type": "code",
   "execution_count": 5,
   "id": "cde9dfeb-1eef-4d25-8021-28c417568fea",
   "metadata": {},
   "outputs": [],
   "source": [
    "response = cur.fetchall()"
   ]
  },
  {
   "cell_type": "code",
   "execution_count": null,
   "id": "46f940eb-5e47-4bf5-9f1a-a1daf59273b7",
   "metadata": {},
   "outputs": [],
   "source": []
  },
  {
   "cell_type": "code",
   "execution_count": 6,
   "id": "da12493c-d146-4e81-83c5-e9ecc7c24fcb",
   "metadata": {},
   "outputs": [
    {
     "data": {
      "text/html": [
       "<div>\n",
       "<style scoped>\n",
       "    .dataframe tbody tr th:only-of-type {\n",
       "        vertical-align: middle;\n",
       "    }\n",
       "\n",
       "    .dataframe tbody tr th {\n",
       "        vertical-align: top;\n",
       "    }\n",
       "\n",
       "    .dataframe thead th {\n",
       "        text-align: right;\n",
       "    }\n",
       "</style>\n",
       "<table border=\"1\" class=\"dataframe\">\n",
       "  <thead>\n",
       "    <tr style=\"text-align: right;\">\n",
       "      <th></th>\n",
       "      <th>id</th>\n",
       "      <th>item_id</th>\n",
       "      <th>timestamp</th>\n",
       "      <th>avgHighPrice</th>\n",
       "      <th>highPriceVolume</th>\n",
       "      <th>avgLowPrice</th>\n",
       "      <th>lowPriceVolume</th>\n",
       "    </tr>\n",
       "  </thead>\n",
       "  <tbody>\n",
       "    <tr>\n",
       "      <th>0</th>\n",
       "      <td>1</td>\n",
       "      <td>2</td>\n",
       "      <td>1615188900</td>\n",
       "      <td>161.0</td>\n",
       "      <td>50300</td>\n",
       "      <td>159.0</td>\n",
       "      <td>394</td>\n",
       "    </tr>\n",
       "    <tr>\n",
       "      <th>1</th>\n",
       "      <td>2</td>\n",
       "      <td>36</td>\n",
       "      <td>1615188900</td>\n",
       "      <td>150.0</td>\n",
       "      <td>2</td>\n",
       "      <td></td>\n",
       "      <td>0</td>\n",
       "    </tr>\n",
       "    <tr>\n",
       "      <th>2</th>\n",
       "      <td>3</td>\n",
       "      <td>45</td>\n",
       "      <td>1615188900</td>\n",
       "      <td></td>\n",
       "      <td>0</td>\n",
       "      <td>21.0</td>\n",
       "      <td>15</td>\n",
       "    </tr>\n",
       "    <tr>\n",
       "      <th>3</th>\n",
       "      <td>4</td>\n",
       "      <td>56</td>\n",
       "      <td>1615188900</td>\n",
       "      <td></td>\n",
       "      <td>0</td>\n",
       "      <td>34.0</td>\n",
       "      <td>1</td>\n",
       "    </tr>\n",
       "    <tr>\n",
       "      <th>4</th>\n",
       "      <td>5</td>\n",
       "      <td>91</td>\n",
       "      <td>1615188900</td>\n",
       "      <td>77.0</td>\n",
       "      <td>37</td>\n",
       "      <td></td>\n",
       "      <td>0</td>\n",
       "    </tr>\n",
       "    <tr>\n",
       "      <th>...</th>\n",
       "      <td>...</td>\n",
       "      <td>...</td>\n",
       "      <td>...</td>\n",
       "      <td>...</td>\n",
       "      <td>...</td>\n",
       "      <td>...</td>\n",
       "      <td>...</td>\n",
       "    </tr>\n",
       "    <tr>\n",
       "      <th>999995</th>\n",
       "      <td>999996</td>\n",
       "      <td>1963</td>\n",
       "      <td>1615196400</td>\n",
       "      <td>59.0</td>\n",
       "      <td>2</td>\n",
       "      <td>58.0</td>\n",
       "      <td>2</td>\n",
       "    </tr>\n",
       "    <tr>\n",
       "      <th>999996</th>\n",
       "      <td>999997</td>\n",
       "      <td>1965</td>\n",
       "      <td>1615196400</td>\n",
       "      <td>40.0</td>\n",
       "      <td>1</td>\n",
       "      <td>37.0</td>\n",
       "      <td>14</td>\n",
       "    </tr>\n",
       "    <tr>\n",
       "      <th>999997</th>\n",
       "      <td>999998</td>\n",
       "      <td>1969</td>\n",
       "      <td>1615196400</td>\n",
       "      <td></td>\n",
       "      <td>0</td>\n",
       "      <td>65.0</td>\n",
       "      <td>8</td>\n",
       "    </tr>\n",
       "    <tr>\n",
       "      <th>999998</th>\n",
       "      <td>999999</td>\n",
       "      <td>1971</td>\n",
       "      <td>1615196400</td>\n",
       "      <td></td>\n",
       "      <td>0</td>\n",
       "      <td>54.0</td>\n",
       "      <td>13</td>\n",
       "    </tr>\n",
       "    <tr>\n",
       "      <th>999999</th>\n",
       "      <td>1000000</td>\n",
       "      <td>1975</td>\n",
       "      <td>1615196400</td>\n",
       "      <td>41.0</td>\n",
       "      <td>102</td>\n",
       "      <td></td>\n",
       "      <td>0</td>\n",
       "    </tr>\n",
       "  </tbody>\n",
       "</table>\n",
       "<p>1000000 rows × 7 columns</p>\n",
       "</div>"
      ],
      "text/plain": [
       "             id  item_id   timestamp avgHighPrice  highPriceVolume  \\\n",
       "0             1        2  1615188900        161.0            50300   \n",
       "1             2       36  1615188900        150.0                2   \n",
       "2             3       45  1615188900                             0   \n",
       "3             4       56  1615188900                             0   \n",
       "4             5       91  1615188900         77.0               37   \n",
       "...         ...      ...         ...          ...              ...   \n",
       "999995   999996     1963  1615196400         59.0                2   \n",
       "999996   999997     1965  1615196400         40.0                1   \n",
       "999997   999998     1969  1615196400                             0   \n",
       "999998   999999     1971  1615196400                             0   \n",
       "999999  1000000     1975  1615196400         41.0              102   \n",
       "\n",
       "       avgLowPrice  lowPriceVolume  \n",
       "0            159.0             394  \n",
       "1                                0  \n",
       "2             21.0              15  \n",
       "3             34.0               1  \n",
       "4                                0  \n",
       "...            ...             ...  \n",
       "999995        58.0               2  \n",
       "999996        37.0              14  \n",
       "999997        65.0               8  \n",
       "999998        54.0              13  \n",
       "999999                           0  \n",
       "\n",
       "[1000000 rows x 7 columns]"
      ]
     },
     "execution_count": 6,
     "metadata": {},
     "output_type": "execute_result"
    }
   ],
   "source": [
    "pd.DataFrame(response,columns=['id','item_id','timestamp','avgHighPrice','highPriceVolume','avgLowPrice','lowPriceVolume'])"
   ]
  },
  {
   "cell_type": "code",
   "execution_count": 7,
   "id": "f4c0aaaf-d0a4-4805-b17f-75a119fd494f",
   "metadata": {},
   "outputs": [],
   "source": [
    "conn.close()"
   ]
  },
  {
   "cell_type": "code",
   "execution_count": 8,
   "id": "faf98c5f-b7ab-4230-991e-c371f2a07e47",
   "metadata": {},
   "outputs": [],
   "source": [
    "# while(0<1):\n",
    "#     conn = sqlite3.connect('../geitems.db')\n",
    "#     cur = conn.cursor()\n",
    "#     cur.execute(\"\"\"SELECT * FROM prices\"\"\")\n",
    "#     response = cur.fetchall()\n",
    "#     conn.close()\n",
    "#     tableContents = len(pd.DataFrame(response,columns=['id','item_id','timestamp','avgHighPrice','highPriceVolume','avgLowPrice','lowPriceVolume']).id)\n",
    "#     print('Table Contains {tableContents} rows')"
   ]
  },
  {
   "cell_type": "code",
   "execution_count": null,
   "id": "d3bb0212-1fb7-4eb3-96cd-9ae2c2f5ea19",
   "metadata": {},
   "outputs": [],
   "source": []
  }
 ],
 "metadata": {
  "kernelspec": {
   "display_name": "Python 3",
   "language": "python",
   "name": "python3"
  },
  "language_info": {
   "codemirror_mode": {
    "name": "ipython",
    "version": 3
   },
   "file_extension": ".py",
   "mimetype": "text/x-python",
   "name": "python",
   "nbconvert_exporter": "python",
   "pygments_lexer": "ipython3",
   "version": "3.8.8"
  }
 },
 "nbformat": 4,
 "nbformat_minor": 5
}
