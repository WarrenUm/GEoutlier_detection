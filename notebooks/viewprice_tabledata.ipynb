{
 "cells": [
  {
   "cell_type": "code",
   "execution_count": 1,
   "id": "9f82f79e-bd56-4a7f-aca6-efd8554e782f",
   "metadata": {},
   "outputs": [],
   "source": [
    "#fetching and viewing prices data table"
   ]
  },
  {
   "cell_type": "code",
   "execution_count": null,
   "id": "bfdda309-e84f-43c6-8c57-ac22cf3cfeb4",
   "metadata": {},
   "outputs": [],
   "source": []
  },
  {
   "cell_type": "code",
   "execution_count": 2,
   "id": "16911ae5-06c7-46c4-88e2-af028e9e9e28",
   "metadata": {},
   "outputs": [],
   "source": [
    "import sqlite3\n",
    "from sqlite3 import Error\n",
    "import pandas as pd"
   ]
  },
  {
   "cell_type": "code",
   "execution_count": 3,
   "id": "ea8ed3a8-5cda-4909-b43c-ec74de3a966c",
   "metadata": {},
   "outputs": [],
   "source": [
    "conn = sqlite3.connect('../geitems.db')\n",
    "cur = conn.cursor()"
   ]
  },
  {
   "cell_type": "code",
   "execution_count": 4,
   "id": "b6de076d-fad7-4d0b-b68d-88d2d625e5f9",
   "metadata": {},
   "outputs": [
    {
     "data": {
      "text/plain": [
       "<sqlite3.Cursor at 0x15a33c79ea0>"
      ]
     },
     "execution_count": 4,
     "metadata": {},
     "output_type": "execute_result"
    }
   ],
   "source": [
    "cur.execute(\"\"\"SELECT * FROM prices\"\"\")"
   ]
  },
  {
   "cell_type": "code",
   "execution_count": 5,
   "id": "cde9dfeb-1eef-4d25-8021-28c417568fea",
   "metadata": {},
   "outputs": [],
   "source": [
    "response = cur.fetchall()"
   ]
  },
  {
   "cell_type": "code",
   "execution_count": null,
   "id": "46f940eb-5e47-4bf5-9f1a-a1daf59273b7",
   "metadata": {},
   "outputs": [],
   "source": []
  },
  {
   "cell_type": "code",
   "execution_count": 6,
   "id": "da12493c-d146-4e81-83c5-e9ecc7c24fcb",
   "metadata": {},
   "outputs": [
    {
     "data": {
      "text/html": [
       "<div>\n",
       "<style scoped>\n",
       "    .dataframe tbody tr th:only-of-type {\n",
       "        vertical-align: middle;\n",
       "    }\n",
       "\n",
       "    .dataframe tbody tr th {\n",
       "        vertical-align: top;\n",
       "    }\n",
       "\n",
       "    .dataframe thead th {\n",
       "        text-align: right;\n",
       "    }\n",
       "</style>\n",
       "<table border=\"1\" class=\"dataframe\">\n",
       "  <thead>\n",
       "    <tr style=\"text-align: right;\">\n",
       "      <th></th>\n",
       "      <th>id</th>\n",
       "      <th>item_id</th>\n",
       "      <th>timestamp</th>\n",
       "      <th>avgHighPrice</th>\n",
       "      <th>highPriceVolume</th>\n",
       "      <th>avgLowPrice</th>\n",
       "      <th>lowPriceVolume</th>\n",
       "    </tr>\n",
       "  </thead>\n",
       "  <tbody>\n",
       "    <tr>\n",
       "      <th>0</th>\n",
       "      <td>1</td>\n",
       "      <td>9998</td>\n",
       "      <td>1647194100</td>\n",
       "      <td>6750.0</td>\n",
       "      <td>4</td>\n",
       "      <td>5990.0</td>\n",
       "      <td>16</td>\n",
       "    </tr>\n",
       "    <tr>\n",
       "      <th>1</th>\n",
       "      <td>2</td>\n",
       "      <td>9998</td>\n",
       "      <td>1647194400</td>\n",
       "      <td>6934.0</td>\n",
       "      <td>31</td>\n",
       "      <td>NaN</td>\n",
       "      <td>0</td>\n",
       "    </tr>\n",
       "    <tr>\n",
       "      <th>2</th>\n",
       "      <td>3</td>\n",
       "      <td>9998</td>\n",
       "      <td>1647194700</td>\n",
       "      <td>6998.0</td>\n",
       "      <td>2</td>\n",
       "      <td>5500.0</td>\n",
       "      <td>20</td>\n",
       "    </tr>\n",
       "    <tr>\n",
       "      <th>3</th>\n",
       "      <td>4</td>\n",
       "      <td>10010</td>\n",
       "      <td>1646679000</td>\n",
       "      <td>15.0</td>\n",
       "      <td>1</td>\n",
       "      <td>NaN</td>\n",
       "      <td>0</td>\n",
       "    </tr>\n",
       "    <tr>\n",
       "      <th>4</th>\n",
       "      <td>5</td>\n",
       "      <td>10029</td>\n",
       "      <td>1646679000</td>\n",
       "      <td>6.0</td>\n",
       "      <td>3</td>\n",
       "      <td>NaN</td>\n",
       "      <td>0</td>\n",
       "    </tr>\n",
       "    <tr>\n",
       "      <th>...</th>\n",
       "      <td>...</td>\n",
       "      <td>...</td>\n",
       "      <td>...</td>\n",
       "      <td>...</td>\n",
       "      <td>...</td>\n",
       "      <td>...</td>\n",
       "      <td>...</td>\n",
       "    </tr>\n",
       "    <tr>\n",
       "      <th>366324</th>\n",
       "      <td>366325</td>\n",
       "      <td>987</td>\n",
       "      <td>1647983100</td>\n",
       "      <td>9106.0</td>\n",
       "      <td>5</td>\n",
       "      <td>9106.0</td>\n",
       "      <td>12</td>\n",
       "    </tr>\n",
       "    <tr>\n",
       "      <th>366325</th>\n",
       "      <td>366326</td>\n",
       "      <td>989</td>\n",
       "      <td>1647983100</td>\n",
       "      <td>19612.0</td>\n",
       "      <td>9</td>\n",
       "      <td>19591.0</td>\n",
       "      <td>34</td>\n",
       "    </tr>\n",
       "    <tr>\n",
       "      <th>366326</th>\n",
       "      <td>366327</td>\n",
       "      <td>99</td>\n",
       "      <td>1647983100</td>\n",
       "      <td>8099.0</td>\n",
       "      <td>610</td>\n",
       "      <td>8000.0</td>\n",
       "      <td>343</td>\n",
       "    </tr>\n",
       "    <tr>\n",
       "      <th>366327</th>\n",
       "      <td>366328</td>\n",
       "      <td>991</td>\n",
       "      <td>1647983100</td>\n",
       "      <td>NaN</td>\n",
       "      <td>0</td>\n",
       "      <td>3714.0</td>\n",
       "      <td>1</td>\n",
       "    </tr>\n",
       "    <tr>\n",
       "      <th>366328</th>\n",
       "      <td>366329</td>\n",
       "      <td>9978</td>\n",
       "      <td>1647983100</td>\n",
       "      <td>20.0</td>\n",
       "      <td>4</td>\n",
       "      <td>NaN</td>\n",
       "      <td>0</td>\n",
       "    </tr>\n",
       "  </tbody>\n",
       "</table>\n",
       "<p>366329 rows × 7 columns</p>\n",
       "</div>"
      ],
      "text/plain": [
       "            id  item_id   timestamp  avgHighPrice  highPriceVolume  \\\n",
       "0            1     9998  1647194100        6750.0                4   \n",
       "1            2     9998  1647194400        6934.0               31   \n",
       "2            3     9998  1647194700        6998.0                2   \n",
       "3            4    10010  1646679000          15.0                1   \n",
       "4            5    10029  1646679000           6.0                3   \n",
       "...        ...      ...         ...           ...              ...   \n",
       "366324  366325      987  1647983100        9106.0                5   \n",
       "366325  366326      989  1647983100       19612.0                9   \n",
       "366326  366327       99  1647983100        8099.0              610   \n",
       "366327  366328      991  1647983100           NaN                0   \n",
       "366328  366329     9978  1647983100          20.0                4   \n",
       "\n",
       "        avgLowPrice  lowPriceVolume  \n",
       "0            5990.0              16  \n",
       "1               NaN               0  \n",
       "2            5500.0              20  \n",
       "3               NaN               0  \n",
       "4               NaN               0  \n",
       "...             ...             ...  \n",
       "366324       9106.0              12  \n",
       "366325      19591.0              34  \n",
       "366326       8000.0             343  \n",
       "366327       3714.0               1  \n",
       "366328          NaN               0  \n",
       "\n",
       "[366329 rows x 7 columns]"
      ]
     },
     "execution_count": 6,
     "metadata": {},
     "output_type": "execute_result"
    }
   ],
   "source": [
    "pd.DataFrame(response,columns=['id','item_id','timestamp','avgHighPrice','highPriceVolume','avgLowPrice','lowPriceVolume'])"
   ]
  },
  {
   "cell_type": "code",
   "execution_count": null,
   "id": "f4c0aaaf-d0a4-4805-b17f-75a119fd494f",
   "metadata": {},
   "outputs": [],
   "source": []
  }
 ],
 "metadata": {
  "kernelspec": {
   "display_name": "Python 3",
   "language": "python",
   "name": "python3"
  },
  "language_info": {
   "codemirror_mode": {
    "name": "ipython",
    "version": 3
   },
   "file_extension": ".py",
   "mimetype": "text/x-python",
   "name": "python",
   "nbconvert_exporter": "python",
   "pygments_lexer": "ipython3",
   "version": "3.8.8"
  }
 },
 "nbformat": 4,
 "nbformat_minor": 5
}
