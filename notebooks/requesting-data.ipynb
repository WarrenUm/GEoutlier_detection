{
 "cells": [
  {
   "cell_type": "code",
   "execution_count": 1,
   "id": "75bc9550-250c-47ed-b212-21b42398ac2a",
   "metadata": {},
   "outputs": [],
   "source": [
    "#get updated ge data from the api and store it with the date and time in a folder.\n",
    "#make a function that gets updates continuously."
   ]
  },
  {
   "cell_type": "code",
   "execution_count": 1,
   "id": "c14c5ad9-6c94-46f0-8d01-b38a379e76d2",
   "metadata": {},
   "outputs": [],
   "source": [
    "import pandas as pd\n",
    "import numpy as np\n",
    "import requests\n",
    "import json\n",
    "from datetime import datetime"
   ]
  },
  {
   "cell_type": "code",
   "execution_count": 2,
   "id": "af668976-8bbd-4205-ad4c-cfa93ff02d0b",
   "metadata": {},
   "outputs": [],
   "source": [
    "headers = {'User-Agent':'GEoutlier-detection'}"
   ]
  },
  {
   "cell_type": "code",
   "execution_count": 3,
   "id": "e1ccd580-aac6-4957-ba62-97662babfcb0",
   "metadata": {},
   "outputs": [],
   "source": [
    "api_endpt = \"https://prices.runescape.wiki/api/v1/osrs\""
   ]
  },
  {
   "cell_type": "code",
   "execution_count": 4,
   "id": "279df762-6042-48e5-a679-59e1ff59e8fb",
   "metadata": {},
   "outputs": [],
   "source": [
    "items_endpt = \"/mapping\"\n",
    "latest_endpt = \"/latest\"\n",
    "five_min_endpt = \"/5m\"\n",
    "five_min_timestamp = \"/5m?timestamp=\""
   ]
  },
  {
   "cell_type": "code",
   "execution_count": 5,
   "id": "225e457c-f037-478b-b385-63265fa2449d",
   "metadata": {},
   "outputs": [],
   "source": [
    "items_response = requests.get((api_endpt+items_endpt), headers=headers)\n",
    "all_items = pd.DataFrame.from_dict(json.loads(items_response.text))"
   ]
  },
  {
   "cell_type": "code",
   "execution_count": null,
   "id": "0802c614-d5a3-4e38-88b9-f11435992cb0",
   "metadata": {},
   "outputs": [],
   "source": []
  },
  {
   "cell_type": "code",
   "execution_count": 6,
   "id": "34a86171-2312-46eb-ae94-e8763fb8232a",
   "metadata": {},
   "outputs": [
    {
     "data": {
      "text/html": [
       "<div>\n",
       "<style scoped>\n",
       "    .dataframe tbody tr th:only-of-type {\n",
       "        vertical-align: middle;\n",
       "    }\n",
       "\n",
       "    .dataframe tbody tr th {\n",
       "        vertical-align: top;\n",
       "    }\n",
       "\n",
       "    .dataframe thead th {\n",
       "        text-align: right;\n",
       "    }\n",
       "</style>\n",
       "<table border=\"1\" class=\"dataframe\">\n",
       "  <thead>\n",
       "    <tr style=\"text-align: right;\">\n",
       "      <th></th>\n",
       "      <th>examine</th>\n",
       "      <th>id</th>\n",
       "      <th>members</th>\n",
       "      <th>lowalch</th>\n",
       "      <th>limit</th>\n",
       "      <th>value</th>\n",
       "      <th>highalch</th>\n",
       "      <th>icon</th>\n",
       "      <th>name</th>\n",
       "    </tr>\n",
       "  </thead>\n",
       "  <tbody>\n",
       "    <tr>\n",
       "      <th>0</th>\n",
       "      <td>Fabulously ancient mage protection enchanted i...</td>\n",
       "      <td>10344</td>\n",
       "      <td>True</td>\n",
       "      <td>20200.0</td>\n",
       "      <td>8.0</td>\n",
       "      <td>50500</td>\n",
       "      <td>30300.0</td>\n",
       "      <td>3rd age amulet.png</td>\n",
       "      <td>3rd age amulet</td>\n",
       "    </tr>\n",
       "    <tr>\n",
       "      <th>1</th>\n",
       "      <td>A beautifully crafted axe, shaped by ancient s...</td>\n",
       "      <td>20011</td>\n",
       "      <td>True</td>\n",
       "      <td>22000.0</td>\n",
       "      <td>40.0</td>\n",
       "      <td>55000</td>\n",
       "      <td>33000.0</td>\n",
       "      <td>3rd age axe.png</td>\n",
       "      <td>3rd age axe</td>\n",
       "    </tr>\n",
       "    <tr>\n",
       "      <th>2</th>\n",
       "      <td>A beautifully crafted bow carved by ancient ar...</td>\n",
       "      <td>12424</td>\n",
       "      <td>True</td>\n",
       "      <td>60000.0</td>\n",
       "      <td>8.0</td>\n",
       "      <td>150000</td>\n",
       "      <td>90000.0</td>\n",
       "      <td>3rd age bow.png</td>\n",
       "      <td>3rd age bow</td>\n",
       "    </tr>\n",
       "    <tr>\n",
       "      <th>3</th>\n",
       "      <td>A beautiful cloak woven by ancient tailors.</td>\n",
       "      <td>12437</td>\n",
       "      <td>True</td>\n",
       "      <td>34000.0</td>\n",
       "      <td>8.0</td>\n",
       "      <td>85000</td>\n",
       "      <td>51000.0</td>\n",
       "      <td>3rd age cloak.png</td>\n",
       "      <td>3rd age cloak</td>\n",
       "    </tr>\n",
       "    <tr>\n",
       "      <th>4</th>\n",
       "      <td>A fabulously ancient vine cloak as worn by the...</td>\n",
       "      <td>23345</td>\n",
       "      <td>True</td>\n",
       "      <td>80000.0</td>\n",
       "      <td>8.0</td>\n",
       "      <td>200000</td>\n",
       "      <td>120000.0</td>\n",
       "      <td>3rd age druidic cloak.png</td>\n",
       "      <td>3rd age druidic cloak</td>\n",
       "    </tr>\n",
       "    <tr>\n",
       "      <th>...</th>\n",
       "      <td>...</td>\n",
       "      <td>...</td>\n",
       "      <td>...</td>\n",
       "      <td>...</td>\n",
       "      <td>...</td>\n",
       "      <td>...</td>\n",
       "      <td>...</td>\n",
       "      <td>...</td>\n",
       "      <td>...</td>\n",
       "    </tr>\n",
       "    <tr>\n",
       "      <th>3903</th>\n",
       "      <td>A pile of Zombie Ogre bones.</td>\n",
       "      <td>4812</td>\n",
       "      <td>True</td>\n",
       "      <td>1.0</td>\n",
       "      <td>3000.0</td>\n",
       "      <td>1</td>\n",
       "      <td>1.0</td>\n",
       "      <td>Zogre bones.png</td>\n",
       "      <td>Zogre bones</td>\n",
       "    </tr>\n",
       "    <tr>\n",
       "      <th>3904</th>\n",
       "      <td>Get a head in life.</td>\n",
       "      <td>19912</td>\n",
       "      <td>True</td>\n",
       "      <td>2000.0</td>\n",
       "      <td>4.0</td>\n",
       "      <td>5000</td>\n",
       "      <td>3000.0</td>\n",
       "      <td>Zombie head (Treasure Trails).png</td>\n",
       "      <td>Zombie head (Treasure Trails)</td>\n",
       "    </tr>\n",
       "    <tr>\n",
       "      <th>3905</th>\n",
       "      <td>Teleports you to Zul-Andra.</td>\n",
       "      <td>12938</td>\n",
       "      <td>True</td>\n",
       "      <td>4.0</td>\n",
       "      <td>10000.0</td>\n",
       "      <td>10</td>\n",
       "      <td>6.0</td>\n",
       "      <td>Zul-andra teleport.png</td>\n",
       "      <td>Zul-andra teleport</td>\n",
       "    </tr>\n",
       "    <tr>\n",
       "      <th>3906</th>\n",
       "      <td>Flakes of toxic snakeskin.</td>\n",
       "      <td>12934</td>\n",
       "      <td>True</td>\n",
       "      <td>8.0</td>\n",
       "      <td>30000.0</td>\n",
       "      <td>20</td>\n",
       "      <td>12.0</td>\n",
       "      <td>Zulrah's scales 5.png</td>\n",
       "      <td>Zulrah's scales</td>\n",
       "    </tr>\n",
       "    <tr>\n",
       "      <th>3907</th>\n",
       "      <td>A powerful staff.</td>\n",
       "      <td>22647</td>\n",
       "      <td>True</td>\n",
       "      <td>120000.0</td>\n",
       "      <td>10.0</td>\n",
       "      <td>300000</td>\n",
       "      <td>180000.0</td>\n",
       "      <td>Zuriel's staff.png</td>\n",
       "      <td>Zuriel's staff</td>\n",
       "    </tr>\n",
       "  </tbody>\n",
       "</table>\n",
       "<p>3908 rows × 9 columns</p>\n",
       "</div>"
      ],
      "text/plain": [
       "                                                examine     id  members  \\\n",
       "0     Fabulously ancient mage protection enchanted i...  10344     True   \n",
       "1     A beautifully crafted axe, shaped by ancient s...  20011     True   \n",
       "2     A beautifully crafted bow carved by ancient ar...  12424     True   \n",
       "3           A beautiful cloak woven by ancient tailors.  12437     True   \n",
       "4     A fabulously ancient vine cloak as worn by the...  23345     True   \n",
       "...                                                 ...    ...      ...   \n",
       "3903                       A pile of Zombie Ogre bones.   4812     True   \n",
       "3904                                Get a head in life.  19912     True   \n",
       "3905                        Teleports you to Zul-Andra.  12938     True   \n",
       "3906                         Flakes of toxic snakeskin.  12934     True   \n",
       "3907                                  A powerful staff.  22647     True   \n",
       "\n",
       "       lowalch    limit   value  highalch                               icon  \\\n",
       "0      20200.0      8.0   50500   30300.0                 3rd age amulet.png   \n",
       "1      22000.0     40.0   55000   33000.0                    3rd age axe.png   \n",
       "2      60000.0      8.0  150000   90000.0                    3rd age bow.png   \n",
       "3      34000.0      8.0   85000   51000.0                  3rd age cloak.png   \n",
       "4      80000.0      8.0  200000  120000.0          3rd age druidic cloak.png   \n",
       "...        ...      ...     ...       ...                                ...   \n",
       "3903       1.0   3000.0       1       1.0                    Zogre bones.png   \n",
       "3904    2000.0      4.0    5000    3000.0  Zombie head (Treasure Trails).png   \n",
       "3905       4.0  10000.0      10       6.0             Zul-andra teleport.png   \n",
       "3906       8.0  30000.0      20      12.0              Zulrah's scales 5.png   \n",
       "3907  120000.0     10.0  300000  180000.0                 Zuriel's staff.png   \n",
       "\n",
       "                               name  \n",
       "0                    3rd age amulet  \n",
       "1                       3rd age axe  \n",
       "2                       3rd age bow  \n",
       "3                     3rd age cloak  \n",
       "4             3rd age druidic cloak  \n",
       "...                             ...  \n",
       "3903                    Zogre bones  \n",
       "3904  Zombie head (Treasure Trails)  \n",
       "3905             Zul-andra teleport  \n",
       "3906                Zulrah's scales  \n",
       "3907                 Zuriel's staff  \n",
       "\n",
       "[3908 rows x 9 columns]"
      ]
     },
     "execution_count": 6,
     "metadata": {},
     "output_type": "execute_result"
    }
   ],
   "source": [
    "all_items"
   ]
  },
  {
   "cell_type": "code",
   "execution_count": 8,
   "id": "0e68d54b-2ad6-4f7b-b7b6-c33f363b652f",
   "metadata": {},
   "outputs": [],
   "source": [
    "latest_response = requests.get((api_endpt+latest_endpt), headers=headers)\n"
   ]
  },
  {
   "cell_type": "code",
   "execution_count": 9,
   "id": "239abdfa-c85d-4fd8-b36a-121de24387c1",
   "metadata": {},
   "outputs": [],
   "source": [
    "latest_data = pd.DataFrame.from_dict(json.loads(latest_response.text[8:-1]),orient='columns').T\n",
    "latest_data['id'] = latest_data.index"
   ]
  },
  {
   "cell_type": "code",
   "execution_count": 10,
   "id": "8ad3a668-ebf1-41ee-84d8-6f0181bb92b0",
   "metadata": {},
   "outputs": [],
   "source": [
    "#high and low Time need to be converted to unix time\n",
    "latest_data.highTime = pd.to_datetime(latest_data['highTime'], unit='s')"
   ]
  },
  {
   "cell_type": "code",
   "execution_count": null,
   "id": "c906c895-c407-4d4c-8a68-819e260aedc8",
   "metadata": {},
   "outputs": [],
   "source": []
  },
  {
   "cell_type": "code",
   "execution_count": 11,
   "id": "7b92271c-5333-4cdc-9961-d56fbe0b777c",
   "metadata": {},
   "outputs": [],
   "source": [
    "def unix_conv(df,col):\n",
    "    converted_col = pd.to_datetime(df[col], unit='s')\n",
    "    \n",
    "    return pd.DataFrame(converted_col, columns=[col])"
   ]
  },
  {
   "cell_type": "code",
   "execution_count": 12,
   "id": "b9cfca70-7eae-4a61-aca1-292de5727ae7",
   "metadata": {},
   "outputs": [],
   "source": [
    "latest_data.lowTime = unix_conv(latest_data,'lowTime')"
   ]
  },
  {
   "cell_type": "code",
   "execution_count": 13,
   "id": "959193c2-d545-4935-bd1c-fad6e4b81f02",
   "metadata": {},
   "outputs": [
    {
     "name": "stdout",
     "output_type": "stream",
     "text": [
      "<class 'pandas.core.frame.DataFrame'>\n",
      "Index: 3796 entries, 2 to 26394\n",
      "Data columns (total 5 columns):\n",
      " #   Column    Non-Null Count  Dtype         \n",
      "---  ------    --------------  -----         \n",
      " 0   high      3795 non-null   float64       \n",
      " 1   highTime  3795 non-null   datetime64[ns]\n",
      " 2   low       3795 non-null   float64       \n",
      " 3   lowTime   3795 non-null   datetime64[ns]\n",
      " 4   id        3796 non-null   object        \n",
      "dtypes: datetime64[ns](2), float64(2), object(1)\n",
      "memory usage: 177.9+ KB\n"
     ]
    }
   ],
   "source": [
    "latest_data.info()"
   ]
  },
  {
   "cell_type": "code",
   "execution_count": 14,
   "id": "d349a0dd-65b9-4bc3-b65f-dcd108e5df43",
   "metadata": {},
   "outputs": [
    {
     "data": {
      "text/html": [
       "<div>\n",
       "<style scoped>\n",
       "    .dataframe tbody tr th:only-of-type {\n",
       "        vertical-align: middle;\n",
       "    }\n",
       "\n",
       "    .dataframe tbody tr th {\n",
       "        vertical-align: top;\n",
       "    }\n",
       "\n",
       "    .dataframe thead th {\n",
       "        text-align: right;\n",
       "    }\n",
       "</style>\n",
       "<table border=\"1\" class=\"dataframe\">\n",
       "  <thead>\n",
       "    <tr style=\"text-align: right;\">\n",
       "      <th></th>\n",
       "      <th>high</th>\n",
       "      <th>highTime</th>\n",
       "      <th>low</th>\n",
       "      <th>lowTime</th>\n",
       "      <th>id</th>\n",
       "    </tr>\n",
       "  </thead>\n",
       "  <tbody>\n",
       "    <tr>\n",
       "      <th>2</th>\n",
       "      <td>152.0</td>\n",
       "      <td>2022-03-07 18:39:53</td>\n",
       "      <td>150.0</td>\n",
       "      <td>2022-03-07 18:37:03</td>\n",
       "      <td>2</td>\n",
       "    </tr>\n",
       "    <tr>\n",
       "      <th>6</th>\n",
       "      <td>194500.0</td>\n",
       "      <td>2022-03-07 18:22:05</td>\n",
       "      <td>176323.0</td>\n",
       "      <td>2022-03-07 18:37:22</td>\n",
       "      <td>6</td>\n",
       "    </tr>\n",
       "    <tr>\n",
       "      <th>8</th>\n",
       "      <td>194500.0</td>\n",
       "      <td>2022-03-07 18:09:16</td>\n",
       "      <td>179238.0</td>\n",
       "      <td>2022-03-07 18:37:14</td>\n",
       "      <td>8</td>\n",
       "    </tr>\n",
       "    <tr>\n",
       "      <th>10</th>\n",
       "      <td>194500.0</td>\n",
       "      <td>2022-03-07 18:08:21</td>\n",
       "      <td>175659.0</td>\n",
       "      <td>2022-03-07 18:37:11</td>\n",
       "      <td>10</td>\n",
       "    </tr>\n",
       "    <tr>\n",
       "      <th>12</th>\n",
       "      <td>209328.0</td>\n",
       "      <td>2022-03-07 18:08:42</td>\n",
       "      <td>185567.0</td>\n",
       "      <td>2022-03-07 18:37:17</td>\n",
       "      <td>12</td>\n",
       "    </tr>\n",
       "    <tr>\n",
       "      <th>...</th>\n",
       "      <td>...</td>\n",
       "      <td>...</td>\n",
       "      <td>...</td>\n",
       "      <td>...</td>\n",
       "      <td>...</td>\n",
       "    </tr>\n",
       "    <tr>\n",
       "      <th>26382</th>\n",
       "      <td>263901659.0</td>\n",
       "      <td>2022-03-07 18:19:00</td>\n",
       "      <td>260771000.0</td>\n",
       "      <td>2022-03-07 17:29:14</td>\n",
       "      <td>26382</td>\n",
       "    </tr>\n",
       "    <tr>\n",
       "      <th>26384</th>\n",
       "      <td>485000000.0</td>\n",
       "      <td>2022-03-07 18:03:18</td>\n",
       "      <td>485000000.0</td>\n",
       "      <td>2022-03-07 18:22:28</td>\n",
       "      <td>26384</td>\n",
       "    </tr>\n",
       "    <tr>\n",
       "      <th>26386</th>\n",
       "      <td>490398000.0</td>\n",
       "      <td>2022-03-07 18:03:08</td>\n",
       "      <td>483222222.0</td>\n",
       "      <td>2022-03-07 18:26:50</td>\n",
       "      <td>26386</td>\n",
       "    </tr>\n",
       "    <tr>\n",
       "      <th>26390</th>\n",
       "      <td>139916.0</td>\n",
       "      <td>2022-03-07 18:33:25</td>\n",
       "      <td>137443.0</td>\n",
       "      <td>2022-03-07 18:36:56</td>\n",
       "      <td>26390</td>\n",
       "    </tr>\n",
       "    <tr>\n",
       "      <th>26394</th>\n",
       "      <td>8589999.0</td>\n",
       "      <td>2022-03-07 16:11:36</td>\n",
       "      <td>8410005.0</td>\n",
       "      <td>2022-03-06 16:24:37</td>\n",
       "      <td>26394</td>\n",
       "    </tr>\n",
       "  </tbody>\n",
       "</table>\n",
       "<p>3796 rows × 5 columns</p>\n",
       "</div>"
      ],
      "text/plain": [
       "              high            highTime          low             lowTime     id\n",
       "2            152.0 2022-03-07 18:39:53        150.0 2022-03-07 18:37:03      2\n",
       "6         194500.0 2022-03-07 18:22:05     176323.0 2022-03-07 18:37:22      6\n",
       "8         194500.0 2022-03-07 18:09:16     179238.0 2022-03-07 18:37:14      8\n",
       "10        194500.0 2022-03-07 18:08:21     175659.0 2022-03-07 18:37:11     10\n",
       "12        209328.0 2022-03-07 18:08:42     185567.0 2022-03-07 18:37:17     12\n",
       "...            ...                 ...          ...                 ...    ...\n",
       "26382  263901659.0 2022-03-07 18:19:00  260771000.0 2022-03-07 17:29:14  26382\n",
       "26384  485000000.0 2022-03-07 18:03:18  485000000.0 2022-03-07 18:22:28  26384\n",
       "26386  490398000.0 2022-03-07 18:03:08  483222222.0 2022-03-07 18:26:50  26386\n",
       "26390     139916.0 2022-03-07 18:33:25     137443.0 2022-03-07 18:36:56  26390\n",
       "26394    8589999.0 2022-03-07 16:11:36    8410005.0 2022-03-06 16:24:37  26394\n",
       "\n",
       "[3796 rows x 5 columns]"
      ]
     },
     "execution_count": 14,
     "metadata": {},
     "output_type": "execute_result"
    }
   ],
   "source": [
    "latest_data"
   ]
  },
  {
   "cell_type": "code",
   "execution_count": 15,
   "id": "3daa83ee-7378-4881-9c1d-7618778a5dff",
   "metadata": {},
   "outputs": [],
   "source": [
    "five_min_response = requests.get((api_endpt+five_min_endpt), headers=headers)\n"
   ]
  },
  {
   "cell_type": "code",
   "execution_count": 16,
   "id": "8fa6e386-a6de-4e11-9273-0f7290367f57",
   "metadata": {},
   "outputs": [],
   "source": [
    "five_min_data = pd.DataFrame.from_dict(json.loads(five_min_response.text))"
   ]
  },
  {
   "cell_type": "code",
   "execution_count": 17,
   "id": "d2819ea4-8dd1-444f-af35-bc79bdb1f708",
   "metadata": {},
   "outputs": [
    {
     "data": {
      "text/plain": [
       "10       {'avgHighPrice': None, 'highPriceVolume': 0, '...\n",
       "10004    {'avgHighPrice': None, 'highPriceVolume': 0, '...\n",
       "10008    {'avgHighPrice': 54, 'highPriceVolume': 30, 'a...\n",
       "10010    {'avgHighPrice': None, 'highPriceVolume': 0, '...\n",
       "10012    {'avgHighPrice': None, 'highPriceVolume': 0, '...\n",
       "                               ...                        \n",
       "987      {'avgHighPrice': None, 'highPriceVolume': 0, '...\n",
       "989      {'avgHighPrice': None, 'highPriceVolume': 0, '...\n",
       "99       {'avgHighPrice': 9908, 'highPriceVolume': 383,...\n",
       "991      {'avgHighPrice': None, 'highPriceVolume': 0, '...\n",
       "9978     {'avgHighPrice': None, 'highPriceVolume': 0, '...\n",
       "Name: data, Length: 1345, dtype: object"
      ]
     },
     "execution_count": 17,
     "metadata": {},
     "output_type": "execute_result"
    }
   ],
   "source": [
    "five_min_data.data"
   ]
  },
  {
   "cell_type": "code",
   "execution_count": 18,
   "id": "2c89461f-2b75-4744-985c-cb9cca8c8d9d",
   "metadata": {},
   "outputs": [],
   "source": [
    "five_min_timestamp = pd.DataFrame.from_dict(json.loads(five_min_response.text))['timestamp']"
   ]
  },
  {
   "cell_type": "code",
   "execution_count": 19,
   "id": "8fb8122e-575b-4001-a59e-e400e67c5efc",
   "metadata": {},
   "outputs": [
    {
     "data": {
      "text/plain": [
       "10       1646678100\n",
       "10004    1646678100\n",
       "10008    1646678100\n",
       "10010    1646678100\n",
       "10012    1646678100\n",
       "            ...    \n",
       "987      1646678100\n",
       "989      1646678100\n",
       "99       1646678100\n",
       "991      1646678100\n",
       "9978     1646678100\n",
       "Name: timestamp, Length: 1345, dtype: int64"
      ]
     },
     "execution_count": 19,
     "metadata": {},
     "output_type": "execute_result"
    }
   ],
   "source": [
    "five_min_timestamp"
   ]
  },
  {
   "cell_type": "code",
   "execution_count": 20,
   "id": "da3cd5a1-b7c9-4bfe-8b47-3a76ff962d62",
   "metadata": {},
   "outputs": [],
   "source": [
    "five_min_data_data = pd.json_normalize(five_min_data['data'])"
   ]
  },
  {
   "cell_type": "code",
   "execution_count": 21,
   "id": "9df55f76-027c-4c17-8d7c-cdadb5f04f78",
   "metadata": {},
   "outputs": [],
   "source": [
    "five_min_data_data.index = five_min_data.index"
   ]
  },
  {
   "cell_type": "code",
   "execution_count": 22,
   "id": "251d1080-ad41-4e45-b936-7ed71084b9af",
   "metadata": {},
   "outputs": [],
   "source": [
    "five_min_data_data['timestamp'] = five_min_timestamp"
   ]
  },
  {
   "cell_type": "code",
   "execution_count": null,
   "id": "cbb50c29-570c-46f5-b45a-50b5e769d52d",
   "metadata": {},
   "outputs": [],
   "source": []
  },
  {
   "cell_type": "code",
   "execution_count": 23,
   "id": "36ec9ae3-9831-4de1-92f9-746b871e9be1",
   "metadata": {},
   "outputs": [],
   "source": [
    "five_min_data = five_min_data_data"
   ]
  },
  {
   "cell_type": "code",
   "execution_count": null,
   "id": "bedaa460-1d4e-4b12-a5c9-295f0e2957dd",
   "metadata": {},
   "outputs": [],
   "source": []
  },
  {
   "cell_type": "code",
   "execution_count": null,
   "id": "3c8858a2-28c6-4da4-ac07-079fd3ff3122",
   "metadata": {},
   "outputs": [],
   "source": []
  },
  {
   "cell_type": "code",
   "execution_count": null,
   "id": "56c0891f-946e-4777-a1df-32c7fc8dac7e",
   "metadata": {},
   "outputs": [],
   "source": [
    " "
   ]
  },
  {
   "cell_type": "code",
   "execution_count": 24,
   "id": "be947071-ee8a-4de8-be93-bbba1cb9c72a",
   "metadata": {},
   "outputs": [],
   "source": [
    "\n",
    "five_min_data['id'] = five_min_data.index"
   ]
  },
  {
   "cell_type": "code",
   "execution_count": 25,
   "id": "7895342d-ef9c-49ff-b783-15cf6e27cda2",
   "metadata": {},
   "outputs": [
    {
     "data": {
      "text/html": [
       "<div>\n",
       "<style scoped>\n",
       "    .dataframe tbody tr th:only-of-type {\n",
       "        vertical-align: middle;\n",
       "    }\n",
       "\n",
       "    .dataframe tbody tr th {\n",
       "        vertical-align: top;\n",
       "    }\n",
       "\n",
       "    .dataframe thead th {\n",
       "        text-align: right;\n",
       "    }\n",
       "</style>\n",
       "<table border=\"1\" class=\"dataframe\">\n",
       "  <thead>\n",
       "    <tr style=\"text-align: right;\">\n",
       "      <th></th>\n",
       "      <th>avgHighPrice</th>\n",
       "      <th>highPriceVolume</th>\n",
       "      <th>avgLowPrice</th>\n",
       "      <th>lowPriceVolume</th>\n",
       "      <th>timestamp</th>\n",
       "      <th>id</th>\n",
       "    </tr>\n",
       "  </thead>\n",
       "  <tbody>\n",
       "    <tr>\n",
       "      <th>10</th>\n",
       "      <td>NaN</td>\n",
       "      <td>0</td>\n",
       "      <td>175659.0</td>\n",
       "      <td>1</td>\n",
       "      <td>1646678100</td>\n",
       "      <td>10</td>\n",
       "    </tr>\n",
       "    <tr>\n",
       "      <th>10004</th>\n",
       "      <td>NaN</td>\n",
       "      <td>0</td>\n",
       "      <td>1710.0</td>\n",
       "      <td>1</td>\n",
       "      <td>1646678100</td>\n",
       "      <td>10004</td>\n",
       "    </tr>\n",
       "    <tr>\n",
       "      <th>10008</th>\n",
       "      <td>54.0</td>\n",
       "      <td>30</td>\n",
       "      <td>NaN</td>\n",
       "      <td>0</td>\n",
       "      <td>1646678100</td>\n",
       "      <td>10008</td>\n",
       "    </tr>\n",
       "    <tr>\n",
       "      <th>10010</th>\n",
       "      <td>NaN</td>\n",
       "      <td>0</td>\n",
       "      <td>11.0</td>\n",
       "      <td>1</td>\n",
       "      <td>1646678100</td>\n",
       "      <td>10010</td>\n",
       "    </tr>\n",
       "    <tr>\n",
       "      <th>10012</th>\n",
       "      <td>NaN</td>\n",
       "      <td>0</td>\n",
       "      <td>89.0</td>\n",
       "      <td>20</td>\n",
       "      <td>1646678100</td>\n",
       "      <td>10012</td>\n",
       "    </tr>\n",
       "    <tr>\n",
       "      <th>...</th>\n",
       "      <td>...</td>\n",
       "      <td>...</td>\n",
       "      <td>...</td>\n",
       "      <td>...</td>\n",
       "      <td>...</td>\n",
       "      <td>...</td>\n",
       "    </tr>\n",
       "    <tr>\n",
       "      <th>987</th>\n",
       "      <td>NaN</td>\n",
       "      <td>0</td>\n",
       "      <td>9500.0</td>\n",
       "      <td>24</td>\n",
       "      <td>1646678100</td>\n",
       "      <td>987</td>\n",
       "    </tr>\n",
       "    <tr>\n",
       "      <th>989</th>\n",
       "      <td>NaN</td>\n",
       "      <td>0</td>\n",
       "      <td>19900.0</td>\n",
       "      <td>9</td>\n",
       "      <td>1646678100</td>\n",
       "      <td>989</td>\n",
       "    </tr>\n",
       "    <tr>\n",
       "      <th>99</th>\n",
       "      <td>9908.0</td>\n",
       "      <td>383</td>\n",
       "      <td>9913.0</td>\n",
       "      <td>3689</td>\n",
       "      <td>1646678100</td>\n",
       "      <td>99</td>\n",
       "    </tr>\n",
       "    <tr>\n",
       "      <th>991</th>\n",
       "      <td>NaN</td>\n",
       "      <td>0</td>\n",
       "      <td>2055.0</td>\n",
       "      <td>1</td>\n",
       "      <td>1646678100</td>\n",
       "      <td>991</td>\n",
       "    </tr>\n",
       "    <tr>\n",
       "      <th>9978</th>\n",
       "      <td>NaN</td>\n",
       "      <td>0</td>\n",
       "      <td>25.0</td>\n",
       "      <td>20</td>\n",
       "      <td>1646678100</td>\n",
       "      <td>9978</td>\n",
       "    </tr>\n",
       "  </tbody>\n",
       "</table>\n",
       "<p>1345 rows × 6 columns</p>\n",
       "</div>"
      ],
      "text/plain": [
       "       avgHighPrice  highPriceVolume  avgLowPrice  lowPriceVolume   timestamp  \\\n",
       "10              NaN                0     175659.0               1  1646678100   \n",
       "10004           NaN                0       1710.0               1  1646678100   \n",
       "10008          54.0               30          NaN               0  1646678100   \n",
       "10010           NaN                0         11.0               1  1646678100   \n",
       "10012           NaN                0         89.0              20  1646678100   \n",
       "...             ...              ...          ...             ...         ...   \n",
       "987             NaN                0       9500.0              24  1646678100   \n",
       "989             NaN                0      19900.0               9  1646678100   \n",
       "99           9908.0              383       9913.0            3689  1646678100   \n",
       "991             NaN                0       2055.0               1  1646678100   \n",
       "9978            NaN                0         25.0              20  1646678100   \n",
       "\n",
       "          id  \n",
       "10        10  \n",
       "10004  10004  \n",
       "10008  10008  \n",
       "10010  10010  \n",
       "10012  10012  \n",
       "...      ...  \n",
       "987      987  \n",
       "989      989  \n",
       "99        99  \n",
       "991      991  \n",
       "9978    9978  \n",
       "\n",
       "[1345 rows x 6 columns]"
      ]
     },
     "execution_count": 25,
     "metadata": {},
     "output_type": "execute_result"
    }
   ],
   "source": [
    "five_min_data"
   ]
  },
  {
   "cell_type": "code",
   "execution_count": 26,
   "id": "90969580-071b-46d3-984c-dc84a21429f5",
   "metadata": {},
   "outputs": [
    {
     "name": "stderr",
     "output_type": "stream",
     "text": [
      "<ipython-input-26-8a2f6c03e618>:2: UserWarning: Pandas doesn't allow columns to be created via a new attribute name - see https://pandas.pydata.org/pandas-docs/stable/indexing.html#attribute-access\n",
      "  five_min_data.highTime = unix_conv(five_min_data,'timestamp')\n",
      "<ipython-input-26-8a2f6c03e618>:3: UserWarning: Pandas doesn't allow columns to be created via a new attribute name - see https://pandas.pydata.org/pandas-docs/stable/indexing.html#attribute-access\n",
      "  five_min_data.lowTime = unix_conv(five_min_data,'timestamp')\n"
     ]
    }
   ],
   "source": [
    "#changing datetimes\n",
    "five_min_data.highTime = unix_conv(five_min_data,'timestamp')\n",
    "five_min_data.lowTime = unix_conv(five_min_data,'timestamp')"
   ]
  },
  {
   "cell_type": "code",
   "execution_count": 27,
   "id": "77a62a06-72c7-44d6-9c8a-dc67b3e6e9d8",
   "metadata": {},
   "outputs": [],
   "source": [
    "#the id columns for the latest data and five_min data needs to be changed to an int64 type\n",
    "latest_data.id = latest_data.id.astype('int64')\n",
    "five_min_data.id = five_min_data.id.astype('int64')"
   ]
  },
  {
   "cell_type": "code",
   "execution_count": 28,
   "id": "feb1bffa-df67-4e73-8f1d-69af5de9bb97",
   "metadata": {},
   "outputs": [],
   "source": [
    "#merge the five_min_data with all_items\n",
    "#this will only include data that has new information\n",
    "all_w_latest = all_items.merge(five_min_data,on='id')"
   ]
  },
  {
   "cell_type": "code",
   "execution_count": 29,
   "id": "5472c225-8005-4b22-a9bb-a5073db31f9e",
   "metadata": {},
   "outputs": [
    {
     "name": "stdout",
     "output_type": "stream",
     "text": [
      "<class 'pandas.core.frame.DataFrame'>\n",
      "Int64Index: 1345 entries, 0 to 1344\n",
      "Data columns (total 14 columns):\n",
      " #   Column           Non-Null Count  Dtype  \n",
      "---  ------           --------------  -----  \n",
      " 0   examine          1345 non-null   object \n",
      " 1   id               1345 non-null   int64  \n",
      " 2   members          1345 non-null   bool   \n",
      " 3   lowalch          1344 non-null   float64\n",
      " 4   limit            1322 non-null   float64\n",
      " 5   value            1345 non-null   int64  \n",
      " 6   highalch         1344 non-null   float64\n",
      " 7   icon             1345 non-null   object \n",
      " 8   name             1345 non-null   object \n",
      " 9   avgHighPrice     890 non-null    float64\n",
      " 10  highPriceVolume  1345 non-null   int64  \n",
      " 11  avgLowPrice      912 non-null    float64\n",
      " 12  lowPriceVolume   1345 non-null   int64  \n",
      " 13  timestamp        1345 non-null   int64  \n",
      "dtypes: bool(1), float64(5), int64(5), object(3)\n",
      "memory usage: 148.4+ KB\n"
     ]
    }
   ],
   "source": [
    "all_w_latest.info()"
   ]
  },
  {
   "cell_type": "code",
   "execution_count": 30,
   "id": "82bb76ee-34ef-4056-bfd2-ec7e0cc6133e",
   "metadata": {},
   "outputs": [
    {
     "data": {
      "text/plain": [
       "'1646678100'"
      ]
     },
     "execution_count": 30,
     "metadata": {},
     "output_type": "execute_result"
    }
   ],
   "source": [
    "str(all_w_latest['timestamp'][0])"
   ]
  },
  {
   "cell_type": "code",
   "execution_count": 31,
   "id": "cebc1b8b-c975-4fe6-9a98-98d091dd54a7",
   "metadata": {},
   "outputs": [],
   "source": [
    "current_time = datetime.now()"
   ]
  },
  {
   "cell_type": "code",
   "execution_count": 32,
   "id": "ee3815e9-33f8-4a42-8b4f-ec0176e4dc86",
   "metadata": {},
   "outputs": [],
   "source": [
    "timestamp = current_time.strftime(\"%Y-%m-%d %H-%M-%S\")"
   ]
  },
  {
   "cell_type": "code",
   "execution_count": 33,
   "id": "4a90b61c-fc6c-4a44-a3f7-22a784611e40",
   "metadata": {},
   "outputs": [],
   "source": [
    "all_items.to_csv(f'latest_osrs_items{str(timestamp)}.csv',index=False)"
   ]
  },
  {
   "cell_type": "code",
   "execution_count": 34,
   "id": "8a8d0be9-8488-4faf-99a3-79f47bae86da",
   "metadata": {},
   "outputs": [],
   "source": [
    "from datetime import datetime"
   ]
  },
  {
   "cell_type": "code",
   "execution_count": null,
   "id": "1fb2bd3f-11dc-4b44-8979-d1169b53e3aa",
   "metadata": {},
   "outputs": [],
   "source": []
  },
  {
   "cell_type": "code",
   "execution_count": 35,
   "id": "9e2d7917-f175-4fd4-9a7b-4caea1a49b21",
   "metadata": {},
   "outputs": [],
   "source": [
    "timestamp = current_time.strftime(\"%Y-%m-%d %H:%M:%S\")"
   ]
  },
  {
   "cell_type": "code",
   "execution_count": 36,
   "id": "784a0006-7b4d-4fbb-99cd-2a8b931caafd",
   "metadata": {},
   "outputs": [
    {
     "data": {
      "text/plain": [
       "'2022-03-07 12:41:21'"
      ]
     },
     "execution_count": 36,
     "metadata": {},
     "output_type": "execute_result"
    }
   ],
   "source": [
    "timestamp"
   ]
  },
  {
   "cell_type": "code",
   "execution_count": 37,
   "id": "e711ed73-a6f8-4a2d-b303-9fe2e76dac42",
   "metadata": {},
   "outputs": [
    {
     "name": "stdout",
     "output_type": "stream",
     "text": [
      "tick\n",
      "tick\n",
      "tick\n",
      "tick\n",
      "tick\n",
      "tick\n",
      "tick\n",
      "tick\n",
      "tick\n"
     ]
    },
    {
     "ename": "KeyboardInterrupt",
     "evalue": "",
     "output_type": "error",
     "traceback": [
      "\u001b[1;31m---------------------------------------------------------------------------\u001b[0m",
      "\u001b[1;31mKeyboardInterrupt\u001b[0m                         Traceback (most recent call last)",
      "\u001b[1;32m<ipython-input-37-082f3c70bb01>\u001b[0m in \u001b[0;36m<module>\u001b[1;34m\u001b[0m\n\u001b[0;32m      4\u001b[0m \u001b[1;32mwhile\u001b[0m \u001b[1;32mTrue\u001b[0m\u001b[1;33m:\u001b[0m\u001b[1;33m\u001b[0m\u001b[1;33m\u001b[0m\u001b[0m\n\u001b[0;32m      5\u001b[0m     \u001b[0mprint\u001b[0m\u001b[1;33m(\u001b[0m\u001b[1;34m\"tick\"\u001b[0m\u001b[1;33m)\u001b[0m\u001b[1;33m\u001b[0m\u001b[1;33m\u001b[0m\u001b[0m\n\u001b[1;32m----> 6\u001b[1;33m     \u001b[0mtime\u001b[0m\u001b[1;33m.\u001b[0m\u001b[0msleep\u001b[0m\u001b[1;33m(\u001b[0m\u001b[1;36m60.0\u001b[0m \u001b[1;33m-\u001b[0m \u001b[1;33m(\u001b[0m\u001b[1;33m(\u001b[0m\u001b[0mtime\u001b[0m\u001b[1;33m.\u001b[0m\u001b[0mtime\u001b[0m\u001b[1;33m(\u001b[0m\u001b[1;33m)\u001b[0m \u001b[1;33m-\u001b[0m \u001b[0mstarttime\u001b[0m\u001b[1;33m)\u001b[0m \u001b[1;33m%\u001b[0m \u001b[1;36m60.0\u001b[0m\u001b[1;33m)\u001b[0m\u001b[1;33m)\u001b[0m\u001b[1;33m\u001b[0m\u001b[1;33m\u001b[0m\u001b[0m\n\u001b[0m",
      "\u001b[1;31mKeyboardInterrupt\u001b[0m: "
     ]
    }
   ],
   "source": [
    "import time\n",
    "\n",
    "starttime = time.time()\n",
    "while True:\n",
    "    print(\"tick\")\n",
    "    time.sleep(60.0 - ((time.time() - starttime) % 60.0))"
   ]
  },
  {
   "cell_type": "code",
   "execution_count": null,
   "id": "277ee4b9-c3d5-4fd3-b7eb-267d0667d979",
   "metadata": {},
   "outputs": [],
   "source": []
  },
  {
   "cell_type": "code",
   "execution_count": null,
   "id": "1c593bbf-0a11-4dc9-ae0a-af4efae5cd42",
   "metadata": {},
   "outputs": [],
   "source": []
  }
 ],
 "metadata": {
  "kernelspec": {
   "display_name": "Python 3",
   "language": "python",
   "name": "python3"
  },
  "language_info": {
   "codemirror_mode": {
    "name": "ipython",
    "version": 3
   },
   "file_extension": ".py",
   "mimetype": "text/x-python",
   "name": "python",
   "nbconvert_exporter": "python",
   "pygments_lexer": "ipython3",
   "version": "3.8.8"
  }
 },
 "nbformat": 4,
 "nbformat_minor": 5
}
