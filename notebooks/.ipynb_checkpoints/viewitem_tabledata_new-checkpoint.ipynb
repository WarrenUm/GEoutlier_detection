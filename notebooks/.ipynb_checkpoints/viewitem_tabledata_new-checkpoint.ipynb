{
 "cells": [
  {
   "cell_type": "code",
   "execution_count": 1,
   "id": "30b65c5d-4d92-4862-9bb3-e5190e6684fd",
   "metadata": {},
   "outputs": [],
   "source": [
    "#fetching data from the db and formatting it into a dataframe"
   ]
  },
  {
   "cell_type": "code",
   "execution_count": 2,
   "id": "fcdc0db3-7608-4713-a4b4-507dfb9f5da7",
   "metadata": {},
   "outputs": [],
   "source": [
    "import sqlite3\n",
    "from sqlite3 import Error\n",
<<<<<<< HEAD
    "import pandas as pd\n",
    "import numpy as np"
=======
    "import pandas as pd"
>>>>>>> ed85c93d83e3c402cdc671af7be1d1922a11e1f1
   ]
  },
  {
   "cell_type": "code",
   "execution_count": 3,
   "id": "a973baa7-84ca-4c59-b551-816f41ace813",
   "metadata": {},
   "outputs": [],
   "source": [
    "conn = sqlite3.connect('../geitems.db')\n",
    "cur = conn.cursor()"
   ]
  },
  {
   "cell_type": "code",
   "execution_count": 4,
   "id": "1b74afeb-275a-458a-bc60-b5331393f355",
   "metadata": {},
   "outputs": [
    {
     "data": {
      "text/plain": [
<<<<<<< HEAD
       "<sqlite3.Cursor at 0x25ebcc6edc0>"
=======
       "<sqlite3.Cursor at 0x24acd1b21f0>"
>>>>>>> ed85c93d83e3c402cdc671af7be1d1922a11e1f1
      ]
     },
     "execution_count": 4,
     "metadata": {},
     "output_type": "execute_result"
    }
   ],
   "source": [
    "cur.execute(\"\"\"SELECT * FROM items\"\"\")"
   ]
  },
  {
   "cell_type": "code",
   "execution_count": 5,
   "id": "c2196e53-dd3d-45fb-9b2b-24c790830dae",
   "metadata": {},
   "outputs": [],
   "source": [
    "response = cur.fetchall()"
   ]
  },
  {
   "cell_type": "code",
   "execution_count": 6,
   "id": "017d45e5-2e6c-44dc-abb4-514e628557fa",
   "metadata": {},
   "outputs": [
    {
     "data": {
      "text/plain": [
       "(1,\n",
       " 10344,\n",
       " 'True',\n",
       " 20200.0,\n",
       " 8.0,\n",
       " 50500.0,\n",
       " 30300.0,\n",
       " '3rd age amulet.png',\n",
       " '3rd age amulet',\n",
       " 'Fabulously ancient mage protection enchanted in the 3rd Age.')"
      ]
     },
     "execution_count": 6,
     "metadata": {},
     "output_type": "execute_result"
    }
   ],
   "source": [
    "response[0]"
   ]
  },
  {
   "cell_type": "code",
   "execution_count": 7,
   "id": "9d8cc849-c13d-48c7-ae0d-4688fbfce4a0",
   "metadata": {},
<<<<<<< HEAD
   "outputs": [],
   "source": [
    "items = pd.DataFrame(response,columns=['id','item_id','members','lowalch','buyLimit','value','highalch','icon','name','examine'])"
   ]
  },
  {
   "cell_type": "code",
   "execution_count": 8,
   "id": "f0320e01-0715-4ae9-ba6a-1f8de727d9c8",
   "metadata": {},
=======
>>>>>>> ed85c93d83e3c402cdc671af7be1d1922a11e1f1
   "outputs": [
    {
     "data": {
      "text/html": [
       "<div>\n",
       "<style scoped>\n",
       "    .dataframe tbody tr th:only-of-type {\n",
       "        vertical-align: middle;\n",
       "    }\n",
       "\n",
       "    .dataframe tbody tr th {\n",
       "        vertical-align: top;\n",
       "    }\n",
       "\n",
       "    .dataframe thead th {\n",
       "        text-align: right;\n",
       "    }\n",
       "</style>\n",
       "<table border=\"1\" class=\"dataframe\">\n",
       "  <thead>\n",
       "    <tr style=\"text-align: right;\">\n",
       "      <th></th>\n",
       "      <th>id</th>\n",
       "      <th>item_id</th>\n",
       "      <th>members</th>\n",
       "      <th>lowalch</th>\n",
       "      <th>buyLimit</th>\n",
       "      <th>value</th>\n",
       "      <th>highalch</th>\n",
       "      <th>icon</th>\n",
       "      <th>name</th>\n",
       "      <th>examine</th>\n",
       "    </tr>\n",
       "  </thead>\n",
       "  <tbody>\n",
       "    <tr>\n",
<<<<<<< HEAD
       "      <th>459</th>\n",
       "      <td>460</td>\n",
       "      <td>1391</td>\n",
       "      <td>True</td>\n",
       "      <td>2800.0</td>\n",
       "      <td>11000.0</td>\n",
       "      <td>7000.0</td>\n",
       "      <td>4200.0</td>\n",
       "      <td>Battlestaff.png</td>\n",
       "      <td>Battlestaff</td>\n",
       "      <td>It's a slightly magical stick.</td>\n",
       "    </tr>\n",
       "  </tbody>\n",
       "</table>\n",
       "</div>"
      ],
      "text/plain": [
       "      id  item_id members  lowalch  buyLimit   value  highalch  \\\n",
       "459  460     1391    True   2800.0   11000.0  7000.0    4200.0   \n",
       "\n",
       "                icon         name                         examine  \n",
       "459  Battlestaff.png  Battlestaff  It's a slightly magical stick.  "
      ]
     },
     "execution_count": 8,
=======
       "      <th>0</th>\n",
       "      <td>1</td>\n",
       "      <td>10344</td>\n",
       "      <td>True</td>\n",
       "      <td>20200.0</td>\n",
       "      <td>8.0</td>\n",
       "      <td>50500.0</td>\n",
       "      <td>30300.0</td>\n",
       "      <td>3rd age amulet.png</td>\n",
       "      <td>3rd age amulet</td>\n",
       "      <td>Fabulously ancient mage protection enchanted i...</td>\n",
       "    </tr>\n",
       "    <tr>\n",
       "      <th>1</th>\n",
       "      <td>2</td>\n",
       "      <td>20011</td>\n",
       "      <td>True</td>\n",
       "      <td>22000.0</td>\n",
       "      <td>40.0</td>\n",
       "      <td>55000.0</td>\n",
       "      <td>33000.0</td>\n",
       "      <td>3rd age axe.png</td>\n",
       "      <td>3rd age axe</td>\n",
       "      <td>A beautifully crafted axe, shaped by ancient s...</td>\n",
       "    </tr>\n",
       "    <tr>\n",
       "      <th>2</th>\n",
       "      <td>3</td>\n",
       "      <td>12424</td>\n",
       "      <td>True</td>\n",
       "      <td>60000.0</td>\n",
       "      <td>8.0</td>\n",
       "      <td>150000.0</td>\n",
       "      <td>90000.0</td>\n",
       "      <td>3rd age bow.png</td>\n",
       "      <td>3rd age bow</td>\n",
       "      <td>A beautifully crafted bow carved by ancient ar...</td>\n",
       "    </tr>\n",
       "    <tr>\n",
       "      <th>3</th>\n",
       "      <td>4</td>\n",
       "      <td>12437</td>\n",
       "      <td>True</td>\n",
       "      <td>34000.0</td>\n",
       "      <td>8.0</td>\n",
       "      <td>85000.0</td>\n",
       "      <td>51000.0</td>\n",
       "      <td>3rd age cloak.png</td>\n",
       "      <td>3rd age cloak</td>\n",
       "      <td>A beautiful cloak woven by ancient tailors.</td>\n",
       "    </tr>\n",
       "    <tr>\n",
       "      <th>4</th>\n",
       "      <td>5</td>\n",
       "      <td>23345</td>\n",
       "      <td>True</td>\n",
       "      <td>80000.0</td>\n",
       "      <td>8.0</td>\n",
       "      <td>200000.0</td>\n",
       "      <td>120000.0</td>\n",
       "      <td>3rd age druidic cloak.png</td>\n",
       "      <td>3rd age druidic cloak</td>\n",
       "      <td>A fabulously ancient vine cloak as worn by the...</td>\n",
       "    </tr>\n",
       "    <tr>\n",
       "      <th>...</th>\n",
       "      <td>...</td>\n",
       "      <td>...</td>\n",
       "      <td>...</td>\n",
       "      <td>...</td>\n",
       "      <td>...</td>\n",
       "      <td>...</td>\n",
       "      <td>...</td>\n",
       "      <td>...</td>\n",
       "      <td>...</td>\n",
       "      <td>...</td>\n",
       "    </tr>\n",
       "    <tr>\n",
       "      <th>7759</th>\n",
       "      <td>7760</td>\n",
       "      <td>4812</td>\n",
       "      <td>True</td>\n",
       "      <td>1.0</td>\n",
       "      <td>3000.0</td>\n",
       "      <td>1.0</td>\n",
       "      <td>1.0</td>\n",
       "      <td>Zogre bones.png</td>\n",
       "      <td>Zogre bones</td>\n",
       "      <td>A pile of Zombie Ogre bones.</td>\n",
       "    </tr>\n",
       "    <tr>\n",
       "      <th>7760</th>\n",
       "      <td>7761</td>\n",
       "      <td>19912</td>\n",
       "      <td>True</td>\n",
       "      <td>2000.0</td>\n",
       "      <td>4.0</td>\n",
       "      <td>5000.0</td>\n",
       "      <td>3000.0</td>\n",
       "      <td>Zombie head (Treasure Trails).png</td>\n",
       "      <td>Zombie head (Treasure Trails)</td>\n",
       "      <td>Get a head in life.</td>\n",
       "    </tr>\n",
       "    <tr>\n",
       "      <th>7761</th>\n",
       "      <td>7762</td>\n",
       "      <td>12938</td>\n",
       "      <td>True</td>\n",
       "      <td>4.0</td>\n",
       "      <td>10000.0</td>\n",
       "      <td>10.0</td>\n",
       "      <td>6.0</td>\n",
       "      <td>Zul-andra teleport.png</td>\n",
       "      <td>Zul-andra teleport</td>\n",
       "      <td>Teleports you to Zul-Andra.</td>\n",
       "    </tr>\n",
       "    <tr>\n",
       "      <th>7762</th>\n",
       "      <td>7763</td>\n",
       "      <td>12934</td>\n",
       "      <td>True</td>\n",
       "      <td>8.0</td>\n",
       "      <td>30000.0</td>\n",
       "      <td>20.0</td>\n",
       "      <td>12.0</td>\n",
       "      <td>Zulrah's scales 5.png</td>\n",
       "      <td>Zulrah's scales</td>\n",
       "      <td>Flakes of toxic snakeskin.</td>\n",
       "    </tr>\n",
       "    <tr>\n",
       "      <th>7763</th>\n",
       "      <td>7764</td>\n",
       "      <td>22647</td>\n",
       "      <td>True</td>\n",
       "      <td>120000.0</td>\n",
       "      <td>10.0</td>\n",
       "      <td>300000.0</td>\n",
       "      <td>180000.0</td>\n",
       "      <td>Zuriel's staff.png</td>\n",
       "      <td>Zuriel's staff</td>\n",
       "      <td>A powerful staff.</td>\n",
       "    </tr>\n",
       "  </tbody>\n",
       "</table>\n",
       "<p>7764 rows × 10 columns</p>\n",
       "</div>"
      ],
      "text/plain": [
       "        id  item_id members   lowalch  buyLimit     value  highalch  \\\n",
       "0        1    10344    True   20200.0       8.0   50500.0   30300.0   \n",
       "1        2    20011    True   22000.0      40.0   55000.0   33000.0   \n",
       "2        3    12424    True   60000.0       8.0  150000.0   90000.0   \n",
       "3        4    12437    True   34000.0       8.0   85000.0   51000.0   \n",
       "4        5    23345    True   80000.0       8.0  200000.0  120000.0   \n",
       "...    ...      ...     ...       ...       ...       ...       ...   \n",
       "7759  7760     4812    True       1.0    3000.0       1.0       1.0   \n",
       "7760  7761    19912    True    2000.0       4.0    5000.0    3000.0   \n",
       "7761  7762    12938    True       4.0   10000.0      10.0       6.0   \n",
       "7762  7763    12934    True       8.0   30000.0      20.0      12.0   \n",
       "7763  7764    22647    True  120000.0      10.0  300000.0  180000.0   \n",
       "\n",
       "                                   icon                           name  \\\n",
       "0                    3rd age amulet.png                 3rd age amulet   \n",
       "1                       3rd age axe.png                    3rd age axe   \n",
       "2                       3rd age bow.png                    3rd age bow   \n",
       "3                     3rd age cloak.png                  3rd age cloak   \n",
       "4             3rd age druidic cloak.png          3rd age druidic cloak   \n",
       "...                                 ...                            ...   \n",
       "7759                    Zogre bones.png                    Zogre bones   \n",
       "7760  Zombie head (Treasure Trails).png  Zombie head (Treasure Trails)   \n",
       "7761             Zul-andra teleport.png             Zul-andra teleport   \n",
       "7762              Zulrah's scales 5.png                Zulrah's scales   \n",
       "7763                 Zuriel's staff.png                 Zuriel's staff   \n",
       "\n",
       "                                                examine  \n",
       "0     Fabulously ancient mage protection enchanted i...  \n",
       "1     A beautifully crafted axe, shaped by ancient s...  \n",
       "2     A beautifully crafted bow carved by ancient ar...  \n",
       "3           A beautiful cloak woven by ancient tailors.  \n",
       "4     A fabulously ancient vine cloak as worn by the...  \n",
       "...                                                 ...  \n",
       "7759                       A pile of Zombie Ogre bones.  \n",
       "7760                                Get a head in life.  \n",
       "7761                        Teleports you to Zul-Andra.  \n",
       "7762                         Flakes of toxic snakeskin.  \n",
       "7763                                  A powerful staff.  \n",
       "\n",
       "[7764 rows x 10 columns]"
      ]
     },
     "execution_count": 7,
>>>>>>> ed85c93d83e3c402cdc671af7be1d1922a11e1f1
     "metadata": {},
     "output_type": "execute_result"
    }
   ],
   "source": [
<<<<<<< HEAD
    "items.loc[items.item_id == 1391]"
   ]
  },
  {
   "cell_type": "code",
   "execution_count": 9,
   "id": "cdc0ce96-e6be-448f-90be-9559c7f98dd3",
   "metadata": {},
   "outputs": [],
   "source": [
    "def queryDB(query):\n",
    "    conn = sqlite3.connect('../geitems.db')\n",
    "    response = conn.cursor().execute(query).fetchall()\n",
    "    conn.close()\n",
    "    return response"
   ]
  },
  {
   "cell_type": "code",
   "execution_count": 10,
   "id": "5bc6f483-75ac-4d33-bd6e-0362e8001813",
   "metadata": {},
   "outputs": [],
   "source": [
    "# queryDB(\"\"\"SELECT * FROM items\"\"\")"
   ]
  },
  {
   "cell_type": "code",
   "execution_count": 11,
   "id": "0ac351b2-d25f-414d-a0d5-b4b9e595cffd",
   "metadata": {},
   "outputs": [],
   "source": [
    "def formatItemDF(response):\n",
    "    df = pd.DataFrame(response,columns=['id','item_id','members','lowalch','buyLimit','value','highalch','icon','name','examine'])\n",
    "    return df"
   ]
  },
  {
   "cell_type": "code",
   "execution_count": 12,
   "id": "2cc9b402-9e10-4c29-8c29-b6f25be88c31",
   "metadata": {},
   "outputs": [],
   "source": [
    "def formatPriceDF(response):\n",
    "    df = pd.DataFrame(response,columns=['id','item_id','timestamp','avgHighPrice','highPriceVolume','avgLowPrice','lowPriceVolume'])\n",
    "    return df"
   ]
  },
  {
   "cell_type": "code",
   "execution_count": 13,
   "id": "411facdc-92b5-42de-9c00-955197240452",
   "metadata": {},
   "outputs": [],
   "source": [
    "prices = formatPriceDF(queryDB(\"\"\"SELECT * FROM prices LIMIT 1000\"\"\"))"
   ]
  },
  {
   "cell_type": "code",
   "execution_count": 14,
   "id": "bab51eec-b9de-4c8e-9229-9f2ee62e33cb",
   "metadata": {},
   "outputs": [],
   "source": [
    "def cleanPriceDF(df):\n",
    "    #format timestamp and replace empty str with np.nan\n",
    "    df.timestamp = pd.to_datetime(df.timestamp,unit='s')\n",
    "    df.avgHighPrice.replace('',np.nan,inplace=True)\n",
    "    df.avgLowPrice.replace('',np.nan,inplace=True)\n",
    "    df.set_index('timestamp',inplace=True)\n",
    "    df.drop('id',inplace=True,axis=1)\n",
    "    return df"
   ]
  },
  {
   "cell_type": "code",
   "execution_count": 15,
   "id": "8d143fbd-fd0b-443c-bad0-668586a57cfb",
   "metadata": {},
   "outputs": [],
   "source": [
    "items = formatItemDF(queryDB(\"\"\"SELECT * FROM items LIMIT 1000\"\"\"))"
   ]
  },
  {
   "cell_type": "code",
   "execution_count": 16,
   "id": "5b64dffb-2fd5-4076-afa9-cd69afc3d45f",
   "metadata": {},
   "outputs": [],
   "source": [
    "def cleanItemDF(df):\n",
    "    items.members = items.members.astype(bool)\n",
    "    df.drop('id',inplace=True,axis=1)\n",
    "    return df"
   ]
  },
  {
   "cell_type": "code",
   "execution_count": 17,
   "id": "7523cf83-e64e-487d-a392-dff4c51feb3a",
   "metadata": {},
   "outputs": [],
   "source": [
    "items = cleanItemDF(items)"
   ]
  },
  {
   "cell_type": "code",
   "execution_count": 18,
   "id": "4274413f-f25f-40a2-a592-5fa4b41a19e5",
   "metadata": {},
   "outputs": [
    {
     "name": "stdout",
     "output_type": "stream",
     "text": [
      "<class 'pandas.core.frame.DataFrame'>\n",
      "RangeIndex: 1000 entries, 0 to 999\n",
      "Data columns (total 9 columns):\n",
      " #   Column    Non-Null Count  Dtype  \n",
      "---  ------    --------------  -----  \n",
      " 0   item_id   1000 non-null   int64  \n",
      " 1   members   1000 non-null   bool   \n",
      " 2   lowalch   1000 non-null   float64\n",
      " 3   buyLimit  973 non-null    float64\n",
      " 4   value     1000 non-null   float64\n",
      " 5   highalch  1000 non-null   float64\n",
      " 6   icon      1000 non-null   object \n",
      " 7   name      1000 non-null   object \n",
      " 8   examine   1000 non-null   object \n",
      "dtypes: bool(1), float64(4), int64(1), object(3)\n",
      "memory usage: 63.6+ KB\n"
     ]
    }
   ],
   "source": [
    "items.info()"
=======
    "pd.DataFrame(response,columns=['id','item_id','members','lowalch','buyLimit','value','highalch','icon','name','examine'])"
>>>>>>> ed85c93d83e3c402cdc671af7be1d1922a11e1f1
   ]
  },
  {
   "cell_type": "code",
   "execution_count": null,
<<<<<<< HEAD
   "id": "a0fa129a-ca05-4848-8109-c2e4b7fd650d",
   "metadata": {},
   "outputs": [],
   "source": []
  },
  {
   "cell_type": "code",
   "execution_count": null,
   "id": "05557514-eab8-4b96-9877-f1755f77b90a",
   "metadata": {},
   "outputs": [],
   "source": []
  },
  {
   "cell_type": "code",
   "execution_count": null,
   "id": "cb2008d7-8df5-46e3-b335-8ddce8d55473",
   "metadata": {},
   "outputs": [],
   "source": []
  },
  {
   "cell_type": "code",
   "execution_count": null,
   "id": "bc1ebc82-585e-4085-825a-fc6381c81baa",
   "metadata": {},
   "outputs": [],
   "source": []
  },
  {
   "cell_type": "code",
   "execution_count": null,
   "id": "89c0479c-11d1-4018-85a1-8cd51d214115",
   "metadata": {},
   "outputs": [],
   "source": []
  },
  {
   "cell_type": "code",
   "execution_count": null,
   "id": "f025e858-1c7f-4356-b9bc-00a48d773543",
   "metadata": {},
   "outputs": [],
   "source": []
  },
  {
   "cell_type": "code",
   "execution_count": null,
   "id": "63f1aedd-09ac-4499-9be0-2fc1a7fe1e23",
   "metadata": {},
   "outputs": [],
   "source": []
  },
  {
   "cell_type": "code",
   "execution_count": null,
   "id": "5ed62f62-4d6b-4bbb-95b7-b25ecb38ed7f",
   "metadata": {},
   "outputs": [],
   "source": []
  },
  {
   "cell_type": "code",
   "execution_count": null,
   "id": "a0f0b28d-d68f-45d0-a06f-509e5cb76df2",
   "metadata": {},
   "outputs": [],
   "source": []
  },
  {
   "cell_type": "code",
   "execution_count": null,
   "id": "16f6e428-7a99-41fa-a5a1-036b631a155b",
   "metadata": {},
   "outputs": [],
   "source": []
  },
  {
   "cell_type": "code",
   "execution_count": null,
   "id": "d6aa47aa-1349-434d-ad77-0c33db655dee",
=======
   "id": "f0320e01-0715-4ae9-ba6a-1f8de727d9c8",
>>>>>>> ed85c93d83e3c402cdc671af7be1d1922a11e1f1
   "metadata": {},
   "outputs": [],
   "source": []
  }
 ],
 "metadata": {
  "kernelspec": {
   "display_name": "Python 3",
   "language": "python",
   "name": "python3"
  },
  "language_info": {
   "codemirror_mode": {
    "name": "ipython",
    "version": 3
   },
   "file_extension": ".py",
   "mimetype": "text/x-python",
   "name": "python",
   "nbconvert_exporter": "python",
   "pygments_lexer": "ipython3",
   "version": "3.8.8"
  }
 },
 "nbformat": 4,
 "nbformat_minor": 5
}
