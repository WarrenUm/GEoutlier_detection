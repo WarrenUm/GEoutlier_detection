{
 "cells": [
  {
   "cell_type": "code",
   "execution_count": 1,
   "id": "a0b4b7d3-5c9f-4deb-a0fe-5de86d1f5f3c",
   "metadata": {},
   "outputs": [],
   "source": [
    "#creating a table for the prices"
   ]
  },
  {
   "cell_type": "code",
   "execution_count": 2,
   "id": "6bbb3005-a889-4f03-a63d-b2d5fe244cdc",
   "metadata": {},
   "outputs": [],
   "source": [
    "import sqlite3\n",
    "from sqlite3 import Error\n",
    "import pandas as pd"
   ]
  },
  {
   "cell_type": "code",
   "execution_count": 3,
   "id": "45db06b4-30d4-4200-b078-8e3810d6f81c",
   "metadata": {},
   "outputs": [],
   "source": [
    "conn = sqlite3.connect('../geitems.db')"
   ]
  },
  {
   "cell_type": "code",
   "execution_count": 4,
   "id": "83d24f1a-4984-4d66-adda-cd08c68a6d99",
   "metadata": {},
   "outputs": [],
   "source": [
    "cur = conn.cursor()"
   ]
  },
  {
   "cell_type": "code",
   "execution_count": 5,
   "id": "177e0144-c69a-44e7-b6b7-6ff71805199b",
   "metadata": {},
   "outputs": [],
   "source": [
    "#make items table\n",
    "query = \"\"\" CREATE TABLE prices (id integer primary key, item_id integer, timestamp integer, avgHighPrice real, highPriceVolume integer, avgLowPrice real, lowPriceVolume integer) \"\"\"\n",
    "\n"
   ]
  },
  {
   "cell_type": "code",
   "execution_count": 6,
   "id": "4feeceae-201e-4935-9aa8-7c119276a13f",
   "metadata": {},
   "outputs": [
    {
     "data": {
      "text/plain": [
       "<sqlite3.Cursor at 0x1ddcfeb63b0>"
      ]
     },
     "execution_count": 6,
     "metadata": {},
     "output_type": "execute_result"
    }
   ],
   "source": [
    "cur.execute(query)\n"
   ]
  },
  {
   "cell_type": "code",
   "execution_count": 7,
   "id": "56118822-5adc-48a6-9daf-7e964c1c91f8",
   "metadata": {},
   "outputs": [],
   "source": [
    "conn.close()"
   ]
  },
  {
   "cell_type": "code",
   "execution_count": null,
   "id": "20170a5a-5561-49ad-8a9b-3f25867c122b",
   "metadata": {},
   "outputs": [],
   "source": []
  }
 ],
 "metadata": {
  "kernelspec": {
   "display_name": "Python 3",
   "language": "python",
   "name": "python3"
  },
  "language_info": {
   "codemirror_mode": {
    "name": "ipython",
    "version": 3
   },
   "file_extension": ".py",
   "mimetype": "text/x-python",
   "name": "python",
   "nbconvert_exporter": "python",
   "pygments_lexer": "ipython3",
   "version": "3.8.8"
  }
 },
 "nbformat": 4,
 "nbformat_minor": 5
}
