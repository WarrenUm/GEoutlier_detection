{
 "cells": [
  {
   "cell_type": "code",
   "execution_count": 18,
   "id": "44e27247-7a12-404f-8bdd-49eb2e9bf897",
   "metadata": {},
   "outputs": [],
   "source": [
    "import sqlite3\n",
    "from sqlite3 import Error\n",
    "import pandas as pd"
   ]
  },
  {
   "cell_type": "code",
   "execution_count": 19,
   "id": "98427495-b1ac-4eab-b549-be5c19adc156",
   "metadata": {},
   "outputs": [],
   "source": [
    "conn = sqlite3.connect('../geitems.db')"
   ]
  },
  {
   "cell_type": "code",
   "execution_count": 20,
   "id": "b96bc414-4b17-4a27-89f1-792fe0cfb716",
   "metadata": {},
   "outputs": [],
   "source": [
    "cur = conn.cursor()"
   ]
  },
  {
   "cell_type": "code",
   "execution_count": 21,
   "id": "051d3fd4-db60-4448-b9f4-68ea8836c883",
   "metadata": {},
   "outputs": [],
   "source": [
    "def add_items(conn, item):\n",
    "    \"\"\"\n",
    "    Create a new project into the items table\n",
    "    :param conn:\n",
    "    :param item:\n",
    "    :return: item id\n",
    "    \"\"\"\n",
    "    sql = ''' INSERT INTO items(item_id,members,lowalch,buyLimit,value,highalch,icon,name,examine)\n",
    "              VALUES(?,?,?,?,?,?,?,?,?) '''\n",
    "    cur = conn.cursor()\n",
    "    cur.execute(sql, item)\n",
    "    conn.commit()\n",
    "    return cur.lastrowid"
   ]
  },
  {
   "cell_type": "code",
   "execution_count": 22,
   "id": "5a33f927-a2b6-4e50-bf68-27a64c833255",
   "metadata": {},
   "outputs": [],
   "source": [
    "#connection\n",
    "\n",
    "def create_connection(db_file):\n",
    "    \"\"\"Create conn to sqlite db\"\"\"\n",
    "    \n",
    "    conn = None\n",
    "    \n",
    "    try:\n",
    "        conn = sqlite3.connect(db_file)\n",
    "        print(sqlite3.version)\n",
    "    except Error as e:\n",
    "        print(e)\n",
    "    return conn"
   ]
  },
  {
   "cell_type": "code",
   "execution_count": 23,
   "id": "799c89cf-badb-45b4-aa49-4d38610df318",
   "metadata": {},
   "outputs": [],
   "source": [
    "item_df = pd.read_csv('latest_osrs_items2022-03-07 12-41-21.csv')"
   ]
  },
  {
   "cell_type": "code",
   "execution_count": 24,
   "id": "460c3505-639d-41eb-925b-0ab37149196a",
   "metadata": {},
   "outputs": [
    {
     "name": "stdout",
     "output_type": "stream",
     "text": [
      "<class 'pandas.core.frame.DataFrame'>\n",
      "RangeIndex: 3882 entries, 0 to 3881\n",
      "Data columns (total 9 columns):\n",
      " #   Column    Non-Null Count  Dtype  \n",
      "---  ------    --------------  -----  \n",
      " 0   examine   3882 non-null   object \n",
      " 1   id        3882 non-null   int64  \n",
      " 2   members   3882 non-null   bool   \n",
      " 3   lowalch   3880 non-null   float64\n",
      " 4   limit     3776 non-null   float64\n",
      " 5   value     3882 non-null   int64  \n",
      " 6   highalch  3880 non-null   float64\n",
      " 7   icon      3882 non-null   object \n",
      " 8   name      3882 non-null   object \n",
      "dtypes: bool(1), float64(3), int64(2), object(3)\n",
      "memory usage: 246.5+ KB\n"
     ]
    }
   ],
   "source": [
    "item_df.info()"
   ]
  },
  {
   "cell_type": "code",
   "execution_count": 25,
   "id": "eefa40ab-65ba-4087-a48b-b0ef45e510fb",
   "metadata": {},
   "outputs": [
    {
     "data": {
      "text/plain": [
       "0       10344\n",
       "1       20011\n",
       "2       12424\n",
       "3       12437\n",
       "4       23345\n",
       "        ...  \n",
       "3877     4812\n",
       "3878    19912\n",
       "3879    12938\n",
       "3880    12934\n",
       "3881    22647\n",
       "Name: id, Length: 3882, dtype: int64"
      ]
     },
     "execution_count": 25,
     "metadata": {},
     "output_type": "execute_result"
    }
   ],
   "source": [
    "item_df.id"
   ]
  },
  {
   "cell_type": "code",
   "execution_count": 26,
   "id": "8a4bf224-5a50-4953-b150-8894c7d8ee63",
   "metadata": {},
   "outputs": [
    {
     "data": {
      "text/plain": [
       "'Fabulously ancient mage protection enchanted in the 3rd Age.'"
      ]
     },
     "execution_count": 26,
     "metadata": {},
     "output_type": "execute_result"
    }
   ],
   "source": [
    "item_df.iloc[0]['examine']"
   ]
  },
  {
   "cell_type": "code",
   "execution_count": 27,
   "id": "27211584-d527-4d6d-b3ec-0fdb48641f5c",
   "metadata": {},
   "outputs": [],
   "source": [
    "# conn = create_connection('geitems.db')\n",
    "\n",
    "# #id,members,lowalch,buyLimit,value,highalch,icon,name,examine\n",
    "# #add item\n",
    "\n",
    "# item_id = int(item_df.iloc[0]['id'])\n",
    "# mems = str(item_df.iloc[0]['members'])\n",
    "# lowal = item_df.iloc[0]['lowalch']\n",
    "# lim = item_df.iloc[0]['limit']\n",
    "# val = int(item_df.iloc[0]['value'])\n",
    "# highal = item_df.iloc[0]['highalch']\n",
    "# icon = item_df.iloc[0]['icon']\n",
    "# name = item_df.iloc[0]['name']\n",
    "# examine = item_df.iloc[0]['examine']\n",
    "\n",
    "# item = (item_id,mems,lowal,lim,val,highal,icon,name,examine);\n",
    "# item_id = add_items(conn, item)"
   ]
  },
  {
   "cell_type": "code",
   "execution_count": null,
   "id": "c1e1c527-73f4-467c-a8de-d90c576d2992",
   "metadata": {},
   "outputs": [],
   "source": []
  },
  {
   "cell_type": "code",
   "execution_count": 28,
   "id": "6d282cb8-e7e9-4297-ae10-97e0d246aed9",
   "metadata": {},
   "outputs": [],
   "source": [
    "for row in range(0,len(item_df)):\n",
    "    item_id = int(item_df.iloc[row]['id'])\n",
    "    mems = str(item_df.iloc[row]['members'])\n",
    "    lowal = item_df.iloc[row]['lowalch']\n",
    "    lim = item_df.iloc[row]['limit']\n",
    "    val = int(item_df.iloc[row]['value'])\n",
    "    highal = item_df.iloc[row]['highalch']\n",
    "    icon = item_df.iloc[row]['icon']\n",
    "    name = item_df.iloc[row]['name']\n",
    "    examine = item_df.iloc[row]['examine']\n",
    "\n",
    "    \n",
    "    item = (item_id,mems,lowal,lim,val,highal,icon,name,examine);\n",
    "    item_id = add_items(conn, item)"
   ]
  },
  {
   "cell_type": "code",
   "execution_count": 29,
   "id": "7967b2de-661e-4ff9-9e99-d0bcc366104b",
   "metadata": {},
   "outputs": [],
   "source": [
    "conn.close()"
   ]
  },
  {
   "cell_type": "code",
   "execution_count": null,
   "id": "5fbec92b-0a47-42bb-9fee-64e339c3d912",
   "metadata": {},
   "outputs": [],
   "source": []
  },
  {
   "cell_type": "code",
   "execution_count": null,
   "id": "3c7eed39-feb7-40f6-b3cc-ad1175d02962",
   "metadata": {},
   "outputs": [],
   "source": []
  }
 ],
 "metadata": {
  "kernelspec": {
   "display_name": "Python 3",
   "language": "python",
   "name": "python3"
  },
  "language_info": {
   "codemirror_mode": {
    "name": "ipython",
    "version": 3
   },
   "file_extension": ".py",
   "mimetype": "text/x-python",
   "name": "python",
   "nbconvert_exporter": "python",
   "pygments_lexer": "ipython3",
   "version": "3.8.8"
  }
 },
 "nbformat": 4,
 "nbformat_minor": 5
}
