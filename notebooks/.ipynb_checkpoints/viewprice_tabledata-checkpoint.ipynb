{
 "cells": [
  {
   "cell_type": "code",
   "execution_count": 1,
   "id": "9f82f79e-bd56-4a7f-aca6-efd8554e782f",
   "metadata": {},
   "outputs": [],
   "source": [
    "#fetching and viewing prices data table"
   ]
  },
  {
   "cell_type": "code",
   "execution_count": null,
   "id": "bfdda309-e84f-43c6-8c57-ac22cf3cfeb4",
   "metadata": {},
   "outputs": [],
   "source": []
  },
  {
   "cell_type": "code",
   "execution_count": 2,
   "id": "16911ae5-06c7-46c4-88e2-af028e9e9e28",
   "metadata": {},
   "outputs": [],
   "source": [
    "import sqlite3\n",
    "from sqlite3 import Error\n",
    "import pandas as pd"
   ]
  },
  {
   "cell_type": "code",
   "execution_count": 3,
   "id": "ea8ed3a8-5cda-4909-b43c-ec74de3a966c",
   "metadata": {},
   "outputs": [],
   "source": [
    "conn = sqlite3.connect('../geitems.db')\n",
    "cur = conn.cursor()"
   ]
  },
  {
   "cell_type": "code",
   "execution_count": 4,
   "id": "b6de076d-fad7-4d0b-b68d-88d2d625e5f9",
   "metadata": {},
   "outputs": [
    {
     "data": {
      "text/plain": [
       "<sqlite3.Cursor at 0x22917467f10>"
      ]
     },
     "execution_count": 4,
     "metadata": {},
     "output_type": "execute_result"
    }
   ],
   "source": [
    "cur.execute(\"\"\"SELECT * FROM prices\"\"\")"
   ]
  },
  {
   "cell_type": "code",
   "execution_count": 5,
   "id": "cde9dfeb-1eef-4d25-8021-28c417568fea",
   "metadata": {},
   "outputs": [],
   "source": [
    "response = cur.fetchall()"
   ]
  },
  {
   "cell_type": "code",
   "execution_count": null,
   "id": "46f940eb-5e47-4bf5-9f1a-a1daf59273b7",
   "metadata": {},
   "outputs": [],
   "source": []
  },
  {
   "cell_type": "code",
   "execution_count": 6,
   "id": "da12493c-d146-4e81-83c5-e9ecc7c24fcb",
   "metadata": {},
   "outputs": [
    {
     "data": {
      "text/html": [
       "<div>\n",
       "<style scoped>\n",
       "    .dataframe tbody tr th:only-of-type {\n",
       "        vertical-align: middle;\n",
       "    }\n",
       "\n",
       "    .dataframe tbody tr th {\n",
       "        vertical-align: top;\n",
       "    }\n",
       "\n",
       "    .dataframe thead th {\n",
       "        text-align: right;\n",
       "    }\n",
       "</style>\n",
       "<table border=\"1\" class=\"dataframe\">\n",
       "  <thead>\n",
       "    <tr style=\"text-align: right;\">\n",
       "      <th></th>\n",
       "      <th>id</th>\n",
       "      <th>item_id</th>\n",
       "      <th>timestamp</th>\n",
       "      <th>avgHighPrice</th>\n",
       "      <th>highPriceVolume</th>\n",
       "      <th>avgLowPrice</th>\n",
       "      <th>lowPriceVolume</th>\n",
       "    </tr>\n",
       "  </thead>\n",
       "  <tbody>\n",
       "    <tr>\n",
       "      <th>0</th>\n",
       "      <td>1</td>\n",
       "      <td>9998</td>\n",
       "      <td>1647194100</td>\n",
       "      <td>6750.0</td>\n",
       "      <td>4</td>\n",
       "      <td>5990.0</td>\n",
       "      <td>16</td>\n",
       "    </tr>\n",
       "    <tr>\n",
       "      <th>1</th>\n",
       "      <td>2</td>\n",
       "      <td>9998</td>\n",
       "      <td>1647194400</td>\n",
       "      <td>6934.0</td>\n",
       "      <td>31</td>\n",
       "      <td>NaN</td>\n",
       "      <td>0</td>\n",
       "    </tr>\n",
       "    <tr>\n",
       "      <th>2</th>\n",
       "      <td>3</td>\n",
       "      <td>9998</td>\n",
       "      <td>1647194700</td>\n",
       "      <td>6998.0</td>\n",
       "      <td>2</td>\n",
       "      <td>5500.0</td>\n",
       "      <td>20</td>\n",
       "    </tr>\n",
       "    <tr>\n",
       "      <th>3</th>\n",
       "      <td>4</td>\n",
       "      <td>10010</td>\n",
       "      <td>1646679000</td>\n",
       "      <td>15.0</td>\n",
       "      <td>1</td>\n",
       "      <td>NaN</td>\n",
       "      <td>0</td>\n",
       "    </tr>\n",
       "    <tr>\n",
       "      <th>4</th>\n",
       "      <td>5</td>\n",
       "      <td>10029</td>\n",
       "      <td>1646679000</td>\n",
       "      <td>6.0</td>\n",
       "      <td>3</td>\n",
       "      <td>NaN</td>\n",
       "      <td>0</td>\n",
       "    </tr>\n",
       "    <tr>\n",
       "      <th>...</th>\n",
       "      <td>...</td>\n",
       "      <td>...</td>\n",
       "      <td>...</td>\n",
       "      <td>...</td>\n",
       "      <td>...</td>\n",
       "      <td>...</td>\n",
       "      <td>...</td>\n",
       "    </tr>\n",
       "    <tr>\n",
       "      <th>295450</th>\n",
       "      <td>295451</td>\n",
       "      <td>989</td>\n",
       "      <td>1647967200</td>\n",
       "      <td>20197.0</td>\n",
       "      <td>10</td>\n",
       "      <td>20000.0</td>\n",
       "      <td>12</td>\n",
       "    </tr>\n",
       "    <tr>\n",
       "      <th>295451</th>\n",
       "      <td>295452</td>\n",
       "      <td>99</td>\n",
       "      <td>1647967200</td>\n",
       "      <td>NaN</td>\n",
       "      <td>0</td>\n",
       "      <td>8130.0</td>\n",
       "      <td>141</td>\n",
       "    </tr>\n",
       "    <tr>\n",
       "      <th>295452</th>\n",
       "      <td>295453</td>\n",
       "      <td>993</td>\n",
       "      <td>1647967200</td>\n",
       "      <td>NaN</td>\n",
       "      <td>0</td>\n",
       "      <td>35001.0</td>\n",
       "      <td>73</td>\n",
       "    </tr>\n",
       "    <tr>\n",
       "      <th>295453</th>\n",
       "      <td>295454</td>\n",
       "      <td>9978</td>\n",
       "      <td>1647967200</td>\n",
       "      <td>20.0</td>\n",
       "      <td>10</td>\n",
       "      <td>20.0</td>\n",
       "      <td>310</td>\n",
       "    </tr>\n",
       "    <tr>\n",
       "      <th>295454</th>\n",
       "      <td>295455</td>\n",
       "      <td>9998</td>\n",
       "      <td>1647967200</td>\n",
       "      <td>7988.0</td>\n",
       "      <td>10</td>\n",
       "      <td>7988.0</td>\n",
       "      <td>10</td>\n",
       "    </tr>\n",
       "  </tbody>\n",
       "</table>\n",
       "<p>295455 rows × 7 columns</p>\n",
       "</div>"
      ],
      "text/plain": [
       "            id  item_id   timestamp  avgHighPrice  highPriceVolume  \\\n",
       "0            1     9998  1647194100        6750.0                4   \n",
       "1            2     9998  1647194400        6934.0               31   \n",
       "2            3     9998  1647194700        6998.0                2   \n",
       "3            4    10010  1646679000          15.0                1   \n",
       "4            5    10029  1646679000           6.0                3   \n",
       "...        ...      ...         ...           ...              ...   \n",
       "295450  295451      989  1647967200       20197.0               10   \n",
       "295451  295452       99  1647967200           NaN                0   \n",
       "295452  295453      993  1647967200           NaN                0   \n",
       "295453  295454     9978  1647967200          20.0               10   \n",
       "295454  295455     9998  1647967200        7988.0               10   \n",
       "\n",
       "        avgLowPrice  lowPriceVolume  \n",
       "0            5990.0              16  \n",
       "1               NaN               0  \n",
       "2            5500.0              20  \n",
       "3               NaN               0  \n",
       "4               NaN               0  \n",
       "...             ...             ...  \n",
       "295450      20000.0              12  \n",
       "295451       8130.0             141  \n",
       "295452      35001.0              73  \n",
       "295453         20.0             310  \n",
       "295454       7988.0              10  \n",
       "\n",
       "[295455 rows x 7 columns]"
      ]
     },
     "execution_count": 6,
     "metadata": {},
     "output_type": "execute_result"
    }
   ],
   "source": [
    "pd.DataFrame(response,columns=['id','item_id','timestamp','avgHighPrice','highPriceVolume','avgLowPrice','lowPriceVolume'])"
   ]
  },
  {
   "cell_type": "code",
   "execution_count": null,
   "id": "f4c0aaaf-d0a4-4805-b17f-75a119fd494f",
   "metadata": {},
   "outputs": [],
   "source": []
  }
 ],
 "metadata": {
  "kernelspec": {
   "display_name": "Python 3",
   "language": "python",
   "name": "python3"
  },
  "language_info": {
   "codemirror_mode": {
    "name": "ipython",
    "version": 3
   },
   "file_extension": ".py",
   "mimetype": "text/x-python",
   "name": "python",
   "nbconvert_exporter": "python",
   "pygments_lexer": "ipython3",
   "version": "3.8.8"
  }
 },
 "nbformat": 4,
 "nbformat_minor": 5
}
