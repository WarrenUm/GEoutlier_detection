{
 "cells": [
  {
   "cell_type": "markdown",
   "id": "d2ef5a93-11b1-4b0a-9507-58df9627c4e9",
   "metadata": {},
   "source": [
    "I need to find a better way to identify outliers. I can't store all transactions to access later and I can't access the GE database directly. The api has a timeseries api that returns the last 300 entries for 5 min, 1 hr, and 6 hr price averages. I am going to see if I can compare these sets of data to find outliers."
   ]
  },
  {
   "cell_type": "code",
   "execution_count": 1,
   "id": "347e1b1f-8a4d-4c9a-9364-3ed50646bb27",
   "metadata": {},
   "outputs": [],
   "source": [
    "#get updated ge data from the api and store it with the date and time in a folder.\n",
    "#make a function that gets updates continuously."
   ]
  },
  {
   "cell_type": "code",
   "execution_count": 2,
   "id": "dc8171de-3ffe-47e7-88d5-9cad12c646b8",
   "metadata": {},
   "outputs": [],
   "source": [
    "import pandas as pd\n",
    "import numpy as np\n",
    "import requests\n",
    "import json\n",
    "from datetime import datetime\n",
    "import time"
   ]
  },
  {
   "cell_type": "code",
   "execution_count": 3,
   "id": "fc35cca6-5faa-4ce8-82fd-6933eb2dd933",
   "metadata": {},
   "outputs": [],
   "source": [
    "headers = {'User-Agent':'GEoutlier-detection'}"
   ]
  },
  {
   "cell_type": "code",
   "execution_count": 4,
   "id": "f6e6a792-da42-4643-b588-e6938d548394",
   "metadata": {},
   "outputs": [],
   "source": [
    "api_endpt = \"https://prices.runescape.wiki/api/v1/osrs\""
   ]
  },
  {
   "cell_type": "code",
   "execution_count": 5,
   "id": "77d9f496-7614-4775-9d2a-7ee4c7359e90",
   "metadata": {},
   "outputs": [],
   "source": [
    "timeseries_5m = '/timeseries?timestep=5m&id='\n",
    "timeseries_1h = '/timeseries?timestep=1h&id='\n",
    "timeseries_6h = '/timeseries?timestep=6h&id='"
   ]
  },
  {
   "cell_type": "code",
   "execution_count": 6,
   "id": "93c3a599-6184-405a-9c14-3b49e4041d11",
   "metadata": {},
   "outputs": [],
   "source": [
    "def get_series(api_endpt,timeseries,headers,item_id):\n",
    "    items_response = requests.get((api_endpt+timeseries+str(item_id)), headers=headers)\n",
    "    return items_response"
   ]
  },
  {
   "cell_type": "code",
   "execution_count": 7,
   "id": "3a2baf16-ab4d-4857-9f0e-41d345a1f3d9",
   "metadata": {},
   "outputs": [],
   "source": [
    "def format_response(response):\n",
    "    df = pd.DataFrame.from_dict(json.loads(response.text)['data'],orient='columns')\n",
    "    return df"
   ]
  },
  {
   "cell_type": "code",
   "execution_count": 8,
   "id": "e31f8e94-109e-402a-871d-b26a6dfc8e64",
   "metadata": {},
   "outputs": [],
   "source": [
    "def formated_df(timeseries_pt,item_id):\n",
    "    time_format = '%B-%d %Y %H:%M:%S'\n",
    "    response = get_series(api_endpt,timeseries_pt,headers,item_id)\n",
    "    df = format_response(response)\n",
    "    df.timestamp = pd.to_datetime(df.timestamp,unit='s')\n",
    "#     df.timestamp = df.timestamp.dt.strftime(time_format)\n",
    "    return df"
   ]
  },
  {
   "cell_type": "code",
   "execution_count": 9,
   "id": "93d1c878-a635-4c0a-8255-487e2ab7662a",
   "metadata": {},
   "outputs": [],
   "source": [
    "item_id = 23267"
   ]
  },
  {
   "cell_type": "code",
   "execution_count": 10,
   "id": "27e81d50-49f2-410e-9019-36844615b2c9",
   "metadata": {},
   "outputs": [],
   "source": [
    "data_5m = formated_df(timeseries_5m,item_id)\n",
    "data_1h = formated_df(timeseries_1h,item_id)\n",
    "data_6h = formated_df(timeseries_6h,item_id)"
   ]
  },
  {
   "cell_type": "code",
   "execution_count": 11,
   "id": "a003a4a7-12d0-4527-a83f-d07382b4e924",
   "metadata": {},
   "outputs": [],
   "source": [
    "def time_range(date_5m):\n",
    "    end_time = data_5m.timestamp.iloc[0]\n",
    "    start_time = data_5m.timestamp.iloc[-1]\n",
    "    time_range = (start_time,end_time)\n",
    "    return time_range"
   ]
  },
  {
   "cell_type": "code",
   "execution_count": 12,
   "id": "006b2e88-65f1-4a04-b17c-8839944f3f54",
   "metadata": {},
   "outputs": [],
   "source": [
    "times = time_range(data_5m)"
   ]
  },
  {
   "cell_type": "code",
   "execution_count": 13,
   "id": "77176a1b-31b8-4eae-8652-8425bca66b5c",
   "metadata": {},
   "outputs": [
    {
     "data": {
      "text/plain": [
       "Timestamp('2022-04-09 20:10:00')"
      ]
     },
     "execution_count": 13,
     "metadata": {},
     "output_type": "execute_result"
    }
   ],
   "source": [
    "data_5m.timestamp.iloc[-1]"
   ]
  },
  {
   "cell_type": "code",
   "execution_count": 14,
   "id": "402d7381-4730-403e-a728-5ca47d52d899",
   "metadata": {},
   "outputs": [],
   "source": [
    "# data_1h = data_1h.loc[(data_1h.timestamp < times[0]) & (data_1h.timestamp > times[1])]"
   ]
  },
  {
   "cell_type": "code",
   "execution_count": 15,
   "id": "228e4b59-bc6a-4282-97ed-060a5b882ce5",
   "metadata": {},
   "outputs": [],
   "source": [
    "# data_6h = data_6h.loc[(data_6h.timestamp < times[0]) & (data_6h.timestamp > times[1])]"
   ]
  },
  {
   "cell_type": "code",
   "execution_count": null,
   "id": "09bade15-ae92-4f67-a5e8-8188b04eb212",
   "metadata": {},
   "outputs": [],
   "source": []
  },
  {
   "cell_type": "code",
   "execution_count": 16,
   "id": "b80ac3ac-3df7-4581-bc3e-b82aee81c4a2",
   "metadata": {},
   "outputs": [],
   "source": [
    "# time_range(data_5m.timestamp)"
   ]
  },
  {
   "cell_type": "code",
   "execution_count": 17,
   "id": "9c891a0b-1157-4050-b10b-df98f988b657",
   "metadata": {},
   "outputs": [],
   "source": [
    "# time_range(data_1h.timestamp)"
   ]
  },
  {
   "cell_type": "code",
   "execution_count": 18,
   "id": "709e6400-1ae8-4c73-b626-5a9127422a4a",
   "metadata": {},
   "outputs": [],
   "source": [
    "# time_range(data_6h.timestamp)"
   ]
  },
  {
   "cell_type": "code",
   "execution_count": 19,
   "id": "2468e4df-1524-4cc1-98ce-6e3ed5555f9a",
   "metadata": {},
   "outputs": [],
   "source": [
    "data_list = [data_5m,data_1h,data_6h]"
   ]
  },
  {
   "cell_type": "code",
   "execution_count": 20,
   "id": "ca1f5bee-fbd5-4cca-8ca2-990c3410812e",
   "metadata": {},
   "outputs": [],
   "source": [
    "# for data in data_list:\n",
    "#     print(data.describe())"
   ]
  },
  {
   "cell_type": "code",
   "execution_count": 21,
   "id": "ed6ad280-264e-40f0-990f-c1c48ec9d86e",
   "metadata": {},
   "outputs": [],
   "source": [
    "import seaborn as sns\n",
    "import matplotlib.pyplot as plt"
   ]
  },
  {
   "cell_type": "code",
   "execution_count": 22,
   "id": "fb85652e-2436-43a0-89e6-f390f0e33adc",
   "metadata": {},
   "outputs": [
    {
     "name": "stderr",
     "output_type": "stream",
     "text": [
      "C:\\Users\\umbac\\anaconda3\\lib\\site-packages\\seaborn\\_decorators.py:36: FutureWarning: Pass the following variables as keyword args: x, y. From version 0.12, the only valid positional argument will be `data`, and passing other arguments without an explicit keyword will result in an error or misinterpretation.\n",
      "  warnings.warn(\n",
      "C:\\Users\\umbac\\anaconda3\\lib\\site-packages\\seaborn\\_decorators.py:36: FutureWarning: Pass the following variables as keyword args: x, y. From version 0.12, the only valid positional argument will be `data`, and passing other arguments without an explicit keyword will result in an error or misinterpretation.\n",
      "  warnings.warn(\n",
      "C:\\Users\\umbac\\anaconda3\\lib\\site-packages\\seaborn\\_decorators.py:36: FutureWarning: Pass the following variables as keyword args: x, y. From version 0.12, the only valid positional argument will be `data`, and passing other arguments without an explicit keyword will result in an error or misinterpretation.\n",
      "  warnings.warn(\n"
     ]
    },
    {
     "data": {
      "text/plain": [
       "<AxesSubplot:xlabel='timestamp', ylabel='avgHighPrice'>"
      ]
     },
     "execution_count": 22,
     "metadata": {},
     "output_type": "execute_result"
    },
    {
     "data": {
      "image/png": "[encoded data removed]",
      "text/plain": [
       "<Figure size 1440x360 with 1 Axes>"
      ]
     },
     "metadata": {
      "needs_background": "light"
     },
     "output_type": "display_data"
    }
   ],
   "source": [
    "fig, ax = plt.subplots(figsize=(20,5))\n",
    "\n",
    "sns.lineplot('timestamp','avgHighPrice',data=data_5m,label='5m')\n",
    "sns.lineplot('timestamp','avgHighPrice',data=data_1h,label='1h')\n",
    "sns.lineplot('timestamp','avgHighPrice',data=data_6h,label='6h')"
   ]
  },
  {
   "cell_type": "markdown",
   "id": "0467484d-6ad6-4483-bedc-7aa35753108e",
   "metadata": {},
   "source": [
    "I should constrain the 1h and 6h timeseries to the range of the 5m data and then plot again."
   ]
  },
  {
   "cell_type": "markdown",
   "id": "840480eb-902e-4476-9dbe-21aaa065cb8f",
   "metadata": {},
   "source": [
    "I could try calculating an IQR for the 6hr and 1hr avgs and then comparing the 5m avgs to see if there is one that is obviously an outlier from all the data."
   ]
  },
  {
   "cell_type": "code",
   "execution_count": 23,
   "id": "50f90e5d-2119-4110-81b2-3e3939ba6cf7",
   "metadata": {},
   "outputs": [],
   "source": [
    "from scipy.stats import iqr"
   ]
  },
  {
   "cell_type": "code",
   "execution_count": 24,
   "id": "57b42e80-5734-4c38-89cc-352795549e20",
   "metadata": {},
   "outputs": [
    {
     "name": "stdout",
     "output_type": "stream",
     "text": [
      "<class 'pandas.core.frame.DataFrame'>\n",
      "RangeIndex: 300 entries, 0 to 299\n",
      "Data columns (total 5 columns):\n",
      " #   Column           Non-Null Count  Dtype         \n",
      "---  ------           --------------  -----         \n",
      " 0   timestamp        300 non-null    datetime64[ns]\n",
      " 1   avgHighPrice     275 non-null    float64       \n",
      " 2   avgLowPrice      282 non-null    float64       \n",
      " 3   highPriceVolume  300 non-null    int64         \n",
      " 4   lowPriceVolume   300 non-null    int64         \n",
      "dtypes: datetime64[ns](1), float64(2), int64(2)\n",
      "memory usage: 11.8 KB\n"
     ]
    }
   ],
   "source": [
    "data_6h.info()"
   ]
  },
  {
   "cell_type": "code",
   "execution_count": 25,
   "id": "3660a957-0332-4f89-97cc-aaeaf8a35fc1",
   "metadata": {},
   "outputs": [],
   "source": [
    "iqr_6h = iqr(data_6h.avgHighPrice,nan_policy='omit')"
   ]
  },
  {
   "cell_type": "code",
   "execution_count": 26,
   "id": "31798565-a1ec-42da-bbc9-6a4c65eab9a5",
   "metadata": {},
   "outputs": [],
   "source": [
    "iqr_1h = iqr(data_1h.avgHighPrice,nan_policy='omit')"
   ]
  },
  {
   "cell_type": "code",
   "execution_count": 27,
   "id": "542bc0a6-d833-4dd9-b3ab-8743a0aa369c",
   "metadata": {},
   "outputs": [
    {
     "data": {
      "text/plain": [
       "14915000.0"
      ]
     },
     "execution_count": 27,
     "metadata": {},
     "output_type": "execute_result"
    }
   ],
   "source": [
    "data_1h.avgHighPrice.quantile()"
   ]
  },
  {
   "cell_type": "code",
   "execution_count": 28,
   "id": "ed2335bd-9061-4d7f-a30e-b2ca5cdaa1b6",
   "metadata": {},
   "outputs": [],
   "source": [
    "range_1h = (data_1h.avgHighPrice.quantile()-(iqr_1h/2),data_1h.avgHighPrice.quantile()+(iqr_1h/2))"
   ]
  },
  {
   "cell_type": "code",
   "execution_count": 29,
   "id": "86a4c0de-967f-4830-ad31-b088acbbc52d",
   "metadata": {},
   "outputs": [],
   "source": [
    "range_6h = (data_6h.avgHighPrice.quantile()-(iqr_6h/2),data_6h.avgHighPrice.quantile()+(iqr_6h/2))"
   ]
  },
  {
   "cell_type": "code",
   "execution_count": 30,
   "id": "852c0d3e-bcc4-465b-9110-ef9dbb2a19dc",
   "metadata": {},
   "outputs": [
    {
     "data": {
      "text/plain": [
       "(14762018.0, 15067982.0)"
      ]
     },
     "execution_count": 30,
     "metadata": {},
     "output_type": "execute_result"
    }
   ],
   "source": [
    "range_1h"
   ]
  },
  {
   "cell_type": "code",
   "execution_count": 31,
   "id": "f21b8a9d-fb66-4b01-9498-59d20507fc3a",
   "metadata": {},
   "outputs": [
    {
     "data": {
      "text/plain": [
       "(13870288.5, 15497473.5)"
      ]
     },
     "execution_count": 31,
     "metadata": {},
     "output_type": "execute_result"
    }
   ],
   "source": [
    "range_6h"
   ]
  },
  {
   "cell_type": "code",
   "execution_count": 32,
   "id": "4444cc5b-8404-4658-a859-e4476010ec93",
   "metadata": {},
   "outputs": [
    {
     "name": "stderr",
     "output_type": "stream",
     "text": [
      "<ipython-input-32-1e31c44fe967>:1: FutureWarning: DataFrame.mean and DataFrame.median with numeric_only=None will include datetime64 and datetime64tz columns in a future version.\n",
      "  data_5m.mean()\n"
     ]
    },
    {
     "data": {
      "text/plain": [
       "avgHighPrice       1.483479e+07\n",
       "avgLowPrice        1.449581e+07\n",
       "highPriceVolume    6.366667e-01\n",
       "lowPriceVolume     6.200000e-01\n",
       "dtype: float64"
      ]
     },
     "execution_count": 32,
     "metadata": {},
     "output_type": "execute_result"
    }
   ],
   "source": [
    "data_5m.mean()"
   ]
  },
  {
   "cell_type": "markdown",
   "id": "caeac134-f015-4a91-be75-2cb7e7de4989",
   "metadata": {},
   "source": [
    "Look to see if the average high and low prices for 5m data is outside the iqr from 1h and 6h data."
   ]
  },
  {
   "cell_type": "code",
   "execution_count": null,
   "id": "53f1884c-8d48-47e9-ada6-cef681a50e1c",
   "metadata": {},
   "outputs": [],
   "source": []
  }
 ],
 "metadata": {
  "kernelspec": {
   "display_name": "Python 3",
   "language": "python",
   "name": "python3"
  },
  "language_info": {
   "codemirror_mode": {
    "name": "ipython",
    "version": 3
   },
   "file_extension": ".py",
   "mimetype": "text/x-python",
   "name": "python",
   "nbconvert_exporter": "python",
   "pygments_lexer": "ipython3",
   "version": "3.8.8"
  }
 },
 "nbformat": 4,
 "nbformat_minor": 5
}
