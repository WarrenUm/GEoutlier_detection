{
 "cells": [
  {
   "cell_type": "markdown",
   "id": "270fae47-dc5f-4266-81be-e0133fc55fae",
   "metadata": {},
   "source": [
    "Loop over a list of every item id. Make a dict for each id and have keys for the iqr range of each time avg. Also, add key for the mean of the 5m range."
   ]
  },
  {
   "cell_type": "code",
   "execution_count": 1,
   "id": "a7c1c65e-3be2-48a7-8dd5-ddb01cb8fdd2",
   "metadata": {},
   "outputs": [],
   "source": [
    "import pandas as pd\n",
    "import numpy as np\n",
    "import requests\n",
    "import json\n",
    "from datetime import datetime\n",
    "import time\n",
    "from scipy.stats import iqr"
   ]
  },
  {
   "cell_type": "code",
   "execution_count": 2,
   "id": "35bd78a2-d21b-456e-8669-23a434e34418",
   "metadata": {},
   "outputs": [],
   "source": [
    "headers = {'User-Agent':'GEoutlier-detection'}"
   ]
  },
  {
   "cell_type": "code",
   "execution_count": 3,
   "id": "f10d0f59-d43a-4229-98e3-ba7051181e9a",
   "metadata": {},
   "outputs": [],
   "source": [
    "api_endpt = \"https://prices.runescape.wiki/api/v1/osrs\""
   ]
  },
  {
   "cell_type": "code",
   "execution_count": 4,
   "id": "62b6830b-b7ce-4211-becc-73fce515e199",
   "metadata": {},
   "outputs": [],
   "source": [
    "timeseries_5m = '/timeseries?timestep=5m&id='\n",
    "timeseries_1h = '/timeseries?timestep=1h&id='\n",
    "timeseries_6h = '/timeseries?timestep=6h&id='"
   ]
  },
  {
   "cell_type": "code",
   "execution_count": 5,
   "id": "f0ba2086-cdaf-46d5-a65f-021a43ab80a6",
   "metadata": {},
   "outputs": [],
   "source": [
    "def get_series(api_endpt,timeseries,headers,item_id):\n",
    "    items_response = requests.get((api_endpt+timeseries+str(item_id)), headers=headers)\n",
    "    return items_response"
   ]
  },
  {
   "cell_type": "code",
   "execution_count": 6,
   "id": "a139980a-a026-46b3-8178-199b28c9899c",
   "metadata": {},
   "outputs": [],
   "source": [
    "def format_response(response):\n",
    "    df = pd.DataFrame.from_dict(json.loads(response.text)['data'],orient='columns')\n",
    "    return df"
   ]
  },
  {
   "cell_type": "code",
   "execution_count": 7,
   "id": "2d4f5ff7-099c-4f71-b50a-e7d259365064",
   "metadata": {},
   "outputs": [],
   "source": [
    "def formated_df(timeseries_pt,item_id):\n",
    "    time_format = '%B-%d %Y %H:%M:%S'\n",
    "    response = get_series(api_endpt,timeseries_pt,headers,item_id)\n",
    "    df = format_response(response)\n",
    "    df.timestamp = pd.to_datetime(df.timestamp,unit='s')\n",
    "#     df.timestamp = df.timestamp.dt.strftime(time_format)\n",
    "    return df"
   ]
  },
  {
   "cell_type": "code",
   "execution_count": 8,
   "id": "8a6657c0-582e-48aa-b5a0-0dc67115ee4b",
   "metadata": {},
   "outputs": [],
   "source": [
    "def iqr_calc(timeseries_data):\n",
    "    interqr = iqr(timeseries_data.avgHighPrice,nan_policy='omit')\n",
    "    iqrange = (timeseries_data.avgHighPrice.quantile()-(interqr/2),timeseries_data.avgHighPrice.quantile()+(interqr/2))\n",
    "\n",
    "    return iqrange"
   ]
  },
  {
   "cell_type": "code",
   "execution_count": 9,
   "id": "28ed893c-3e33-4e65-818e-a8437a70062b",
   "metadata": {},
   "outputs": [],
   "source": [
    "import pickle\n",
    "with open('unique_ids.pkl', 'rb') as f:\n",
    "    unique_ids = pickle.load(f)"
   ]
  },
  {
   "cell_type": "code",
   "execution_count": 10,
   "id": "226055b7-8f18-4728-acdc-dc23d1fcb07f",
   "metadata": {},
   "outputs": [],
   "source": [
    "import time"
   ]
  },
  {
   "cell_type": "code",
   "execution_count": 11,
   "id": "826b24d7-dc22-478f-a281-d662082da36d",
   "metadata": {},
   "outputs": [],
   "source": [
    "#create item dict for stats\n",
    "stats_dict = {}"
   ]
  },
  {
   "cell_type": "code",
   "execution_count": 12,
   "id": "a792a4a0-44ef-4342-ae39-0c438950d8dc",
   "metadata": {},
   "outputs": [],
   "source": [
    "from tqdm.notebook import tqdm_notebook"
   ]
  },
  {
   "cell_type": "code",
   "execution_count": 13,
   "id": "b7c81e0a-fc62-4330-b17a-48d045cb8b8b",
   "metadata": {},
   "outputs": [
    {
     "data": {
      "application/vnd.jupyter.widget-view+json": {
       "model_id": "8ff7ee42b7a64f02877cf29c422504af",
       "version_major": 2,
       "version_minor": 0
      },
      "text/plain": [
       "  0%|          | 0/3721 [00:00<?, ?it/s]"
      ]
     },
     "metadata": {},
     "output_type": "display_data"
    }
   ],
   "source": [
    "    \n",
    "for item in tqdm_notebook(unique_ids):\n",
    "    \n",
    "    item_id = item\n",
    "    \n",
    "    #get the data\n",
    "    data_5m = formated_df(timeseries_5m,item_id)\n",
    "    data_1h = formated_df(timeseries_1h,item_id)\n",
    "    data_6h = formated_df(timeseries_6h,item_id)\n",
    "\n",
    "    data_list = [data_1h,data_6h]\n",
    "\n",
    "    try:\n",
    "        #calc the iqr\n",
    "        iqrange_5m = iqr_calc(data_5m)\n",
    "        iqrange_1h = iqr_calc(data_1h)\n",
    "        iqrange_6h = iqr_calc(data_6h)\n",
    "    except:\n",
    "        continue\n",
    "    #calc mean\n",
    "    five_min_mean = data_5m.avgHighPrice.mean()\n",
    "\n",
    "    #create dict for item_id\n",
    "    stats_dict[f'{item_id}'] = {}\n",
    "\n",
    "    #add stats\n",
    "    stats_dict[f'{item_id}']['5m_range'] = iqrange_5m\n",
    "    stats_dict[f'{item_id}']['1h_range'] = iqrange_1h\n",
    "    stats_dict[f'{item_id}']['6h_range'] = iqrange_6h\n",
    "\n",
    "    stats_dict[f'{item_id}']['5m_mean'] = five_min_mean\n",
    "\n",
    "    time.sleep(1)"
   ]
  },
  {
   "cell_type": "code",
   "execution_count": 18,
   "id": "63507751-3f50-45a4-938e-f43863569ae4",
   "metadata": {},
   "outputs": [],
   "source": [
    "all_items_IQR = pd.DataFrame.from_dict(stats_dict).T"
   ]
  },
  {
   "cell_type": "code",
   "execution_count": 19,
   "id": "ad74d326-26cf-4847-89cd-0f379a3fa958",
   "metadata": {},
   "outputs": [
    {
     "name": "stderr",
     "output_type": "stream",
     "text": [
      "<ipython-input-19-4d63de927cbf>:1: UserWarning: Pandas doesn't allow columns to be created via a new attribute name - see https://pandas.pydata.org/pandas-docs/stable/indexing.html#attribute-access\n",
      "  all_items_IQR.item_id = all_items_IQR.index\n"
     ]
    }
   ],
   "source": [
    "all_items_IQR.item_id = all_items_IQR.index "
   ]
  },
  {
   "cell_type": "code",
   "execution_count": 21,
   "id": "6bf80fb8-79ac-447d-bb55-9b70b304b670",
   "metadata": {},
   "outputs": [],
   "source": [
    "all_items_IQR.to_csv('all_items_IQR.csv',index=False)"
   ]
  },
  {
   "cell_type": "code",
   "execution_count": null,
   "id": "9e4ba399-4c68-48dd-b9d0-98e7f20c6984",
   "metadata": {},
   "outputs": [],
   "source": []
  }
 ],
 "metadata": {
  "kernelspec": {
   "display_name": "Python 3",
   "language": "python",
   "name": "python3"
  },
  "language_info": {
   "codemirror_mode": {
    "name": "ipython",
    "version": 3
   },
   "file_extension": ".py",
   "mimetype": "text/x-python",
   "name": "python",
   "nbconvert_exporter": "python",
   "pygments_lexer": "ipython3",
   "version": "3.8.8"
  }
 },
 "nbformat": 4,
 "nbformat_minor": 5
}
