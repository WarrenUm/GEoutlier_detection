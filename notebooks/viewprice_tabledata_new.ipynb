{
 "cells": [
  {
   "cell_type": "code",
   "execution_count": 1,
   "id": "9f82f79e-bd56-4a7f-aca6-efd8554e782f",
   "metadata": {},
   "outputs": [],
   "source": [
    "#fetching and viewing prices data table"
   ]
  },
  {
   "cell_type": "code",
   "execution_count": null,
   "id": "bfdda309-e84f-43c6-8c57-ac22cf3cfeb4",
   "metadata": {},
   "outputs": [],
   "source": []
  },
  {
   "cell_type": "code",
<<<<<<< HEAD
   "execution_count": 1,
=======
   "execution_count": 2,
>>>>>>> ed85c93d83e3c402cdc671af7be1d1922a11e1f1
   "id": "16911ae5-06c7-46c4-88e2-af028e9e9e28",
   "metadata": {},
   "outputs": [],
   "source": [
    "import sqlite3\n",
    "from sqlite3 import Error\n",
<<<<<<< HEAD
    "import pandas as pd\n",
    "import numpy as np"
=======
    "import pandas as pd"
>>>>>>> ed85c93d83e3c402cdc671af7be1d1922a11e1f1
   ]
  },
  {
   "cell_type": "code",
<<<<<<< HEAD
   "execution_count": 2,
=======
   "execution_count": 3,
>>>>>>> ed85c93d83e3c402cdc671af7be1d1922a11e1f1
   "id": "ea8ed3a8-5cda-4909-b43c-ec74de3a966c",
   "metadata": {},
   "outputs": [],
   "source": [
    "conn = sqlite3.connect('../geitems.db')\n",
    "cur = conn.cursor()"
   ]
  },
  {
   "cell_type": "code",
<<<<<<< HEAD
   "execution_count": 3,
=======
   "execution_count": 4,
>>>>>>> ed85c93d83e3c402cdc671af7be1d1922a11e1f1
   "id": "b6de076d-fad7-4d0b-b68d-88d2d625e5f9",
   "metadata": {},
   "outputs": [
    {
     "data": {
      "text/plain": [
<<<<<<< HEAD
       "<sqlite3.Cursor at 0x1f067b46960>"
      ]
     },
     "execution_count": 3,
=======
       "<sqlite3.Cursor at 0x1dc46d46ea0>"
      ]
     },
     "execution_count": 4,
>>>>>>> ed85c93d83e3c402cdc671af7be1d1922a11e1f1
     "metadata": {},
     "output_type": "execute_result"
    }
   ],
   "source": [
<<<<<<< HEAD
    "cur.execute(\"\"\"SELECT * FROM prices WHERE timestamp > 1659330000 and timestamp < 1662008400\"\"\")"
=======
    "cur.execute(\"\"\"SELECT * FROM prices LIMIT 1000000\"\"\")"
>>>>>>> ed85c93d83e3c402cdc671af7be1d1922a11e1f1
   ]
  },
  {
   "cell_type": "code",
<<<<<<< HEAD
   "execution_count": 4,
=======
   "execution_count": 5,
>>>>>>> ed85c93d83e3c402cdc671af7be1d1922a11e1f1
   "id": "cde9dfeb-1eef-4d25-8021-28c417568fea",
   "metadata": {},
   "outputs": [],
   "source": [
    "response = cur.fetchall()"
   ]
  },
  {
   "cell_type": "code",
   "execution_count": null,
   "id": "46f940eb-5e47-4bf5-9f1a-a1daf59273b7",
   "metadata": {},
   "outputs": [],
   "source": []
  },
  {
   "cell_type": "code",
<<<<<<< HEAD
   "execution_count": 5,
   "id": "da12493c-d146-4e81-83c5-e9ecc7c24fcb",
   "metadata": {},
   "outputs": [],
   "source": [
    "AugustDate = pd.DataFrame(response,columns=['id','item_id','timestamp','avgHighPrice','highPriceVolume','avgLowPrice','lowPriceVolume'])"
=======
   "execution_count": 6,
   "id": "da12493c-d146-4e81-83c5-e9ecc7c24fcb",
   "metadata": {},
   "outputs": [
    {
     "data": {
      "text/html": [
       "<div>\n",
       "<style scoped>\n",
       "    .dataframe tbody tr th:only-of-type {\n",
       "        vertical-align: middle;\n",
       "    }\n",
       "\n",
       "    .dataframe tbody tr th {\n",
       "        vertical-align: top;\n",
       "    }\n",
       "\n",
       "    .dataframe thead th {\n",
       "        text-align: right;\n",
       "    }\n",
       "</style>\n",
       "<table border=\"1\" class=\"dataframe\">\n",
       "  <thead>\n",
       "    <tr style=\"text-align: right;\">\n",
       "      <th></th>\n",
       "      <th>id</th>\n",
       "      <th>item_id</th>\n",
       "      <th>timestamp</th>\n",
       "      <th>avgHighPrice</th>\n",
       "      <th>highPriceVolume</th>\n",
       "      <th>avgLowPrice</th>\n",
       "      <th>lowPriceVolume</th>\n",
       "    </tr>\n",
       "  </thead>\n",
       "  <tbody>\n",
       "    <tr>\n",
       "      <th>0</th>\n",
       "      <td>1</td>\n",
       "      <td>2</td>\n",
       "      <td>1615188900</td>\n",
       "      <td>161.0</td>\n",
       "      <td>50300</td>\n",
       "      <td>159.0</td>\n",
       "      <td>394</td>\n",
       "    </tr>\n",
       "    <tr>\n",
       "      <th>1</th>\n",
       "      <td>2</td>\n",
       "      <td>36</td>\n",
       "      <td>1615188900</td>\n",
       "      <td>150.0</td>\n",
       "      <td>2</td>\n",
       "      <td></td>\n",
       "      <td>0</td>\n",
       "    </tr>\n",
       "    <tr>\n",
       "      <th>2</th>\n",
       "      <td>3</td>\n",
       "      <td>45</td>\n",
       "      <td>1615188900</td>\n",
       "      <td></td>\n",
       "      <td>0</td>\n",
       "      <td>21.0</td>\n",
       "      <td>15</td>\n",
       "    </tr>\n",
       "    <tr>\n",
       "      <th>3</th>\n",
       "      <td>4</td>\n",
       "      <td>56</td>\n",
       "      <td>1615188900</td>\n",
       "      <td></td>\n",
       "      <td>0</td>\n",
       "      <td>34.0</td>\n",
       "      <td>1</td>\n",
       "    </tr>\n",
       "    <tr>\n",
       "      <th>4</th>\n",
       "      <td>5</td>\n",
       "      <td>91</td>\n",
       "      <td>1615188900</td>\n",
       "      <td>77.0</td>\n",
       "      <td>37</td>\n",
       "      <td></td>\n",
       "      <td>0</td>\n",
       "    </tr>\n",
       "    <tr>\n",
       "      <th>...</th>\n",
       "      <td>...</td>\n",
       "      <td>...</td>\n",
       "      <td>...</td>\n",
       "      <td>...</td>\n",
       "      <td>...</td>\n",
       "      <td>...</td>\n",
       "      <td>...</td>\n",
       "    </tr>\n",
       "    <tr>\n",
       "      <th>999995</th>\n",
       "      <td>999996</td>\n",
       "      <td>1963</td>\n",
       "      <td>1615196400</td>\n",
       "      <td>59.0</td>\n",
       "      <td>2</td>\n",
       "      <td>58.0</td>\n",
       "      <td>2</td>\n",
       "    </tr>\n",
       "    <tr>\n",
       "      <th>999996</th>\n",
       "      <td>999997</td>\n",
       "      <td>1965</td>\n",
       "      <td>1615196400</td>\n",
       "      <td>40.0</td>\n",
       "      <td>1</td>\n",
       "      <td>37.0</td>\n",
       "      <td>14</td>\n",
       "    </tr>\n",
       "    <tr>\n",
       "      <th>999997</th>\n",
       "      <td>999998</td>\n",
       "      <td>1969</td>\n",
       "      <td>1615196400</td>\n",
       "      <td></td>\n",
       "      <td>0</td>\n",
       "      <td>65.0</td>\n",
       "      <td>8</td>\n",
       "    </tr>\n",
       "    <tr>\n",
       "      <th>999998</th>\n",
       "      <td>999999</td>\n",
       "      <td>1971</td>\n",
       "      <td>1615196400</td>\n",
       "      <td></td>\n",
       "      <td>0</td>\n",
       "      <td>54.0</td>\n",
       "      <td>13</td>\n",
       "    </tr>\n",
       "    <tr>\n",
       "      <th>999999</th>\n",
       "      <td>1000000</td>\n",
       "      <td>1975</td>\n",
       "      <td>1615196400</td>\n",
       "      <td>41.0</td>\n",
       "      <td>102</td>\n",
       "      <td></td>\n",
       "      <td>0</td>\n",
       "    </tr>\n",
       "  </tbody>\n",
       "</table>\n",
       "<p>1000000 rows × 7 columns</p>\n",
       "</div>"
      ],
      "text/plain": [
       "             id  item_id   timestamp avgHighPrice  highPriceVolume  \\\n",
       "0             1        2  1615188900        161.0            50300   \n",
       "1             2       36  1615188900        150.0                2   \n",
       "2             3       45  1615188900                             0   \n",
       "3             4       56  1615188900                             0   \n",
       "4             5       91  1615188900         77.0               37   \n",
       "...         ...      ...         ...          ...              ...   \n",
       "999995   999996     1963  1615196400         59.0                2   \n",
       "999996   999997     1965  1615196400         40.0                1   \n",
       "999997   999998     1969  1615196400                             0   \n",
       "999998   999999     1971  1615196400                             0   \n",
       "999999  1000000     1975  1615196400         41.0              102   \n",
       "\n",
       "       avgLowPrice  lowPriceVolume  \n",
       "0            159.0             394  \n",
       "1                                0  \n",
       "2             21.0              15  \n",
       "3             34.0               1  \n",
       "4                                0  \n",
       "...            ...             ...  \n",
       "999995        58.0               2  \n",
       "999996        37.0              14  \n",
       "999997        65.0               8  \n",
       "999998        54.0              13  \n",
       "999999                           0  \n",
       "\n",
       "[1000000 rows x 7 columns]"
      ]
     },
     "execution_count": 6,
     "metadata": {},
     "output_type": "execute_result"
    }
   ],
   "source": [
    "pd.DataFrame(response,columns=['id','item_id','timestamp','avgHighPrice','highPriceVolume','avgLowPrice','lowPriceVolume'])"
>>>>>>> ed85c93d83e3c402cdc671af7be1d1922a11e1f1
   ]
  },
  {
   "cell_type": "code",
<<<<<<< HEAD
   "execution_count": 6,
=======
   "execution_count": 7,
>>>>>>> ed85c93d83e3c402cdc671af7be1d1922a11e1f1
   "id": "f4c0aaaf-d0a4-4805-b17f-75a119fd494f",
   "metadata": {},
   "outputs": [],
   "source": [
    "conn.close()"
   ]
  },
  {
   "cell_type": "code",
<<<<<<< HEAD
   "execution_count": 7,
=======
   "execution_count": 8,
>>>>>>> ed85c93d83e3c402cdc671af7be1d1922a11e1f1
   "id": "faf98c5f-b7ab-4230-991e-c371f2a07e47",
   "metadata": {},
   "outputs": [],
   "source": [
    "# while(0<1):\n",
    "#     conn = sqlite3.connect('../geitems.db')\n",
    "#     cur = conn.cursor()\n",
    "#     cur.execute(\"\"\"SELECT * FROM prices\"\"\")\n",
    "#     response = cur.fetchall()\n",
    "#     conn.close()\n",
    "#     tableContents = len(pd.DataFrame(response,columns=['id','item_id','timestamp','avgHighPrice','highPriceVolume','avgLowPrice','lowPriceVolume']).id)\n",
    "#     print('Table Contains {tableContents} rows')"
   ]
  },
  {
   "cell_type": "code",
<<<<<<< HEAD
   "execution_count": 8,
   "id": "0bf649eb-2f90-4101-98d9-647b49c7c383",
   "metadata": {},
   "outputs": [
    {
     "name": "stdout",
     "output_type": "stream",
     "text": [
      "<class 'pandas.core.frame.DataFrame'>\n",
      "RangeIndex: 12549808 entries, 0 to 12549807\n",
      "Data columns (total 7 columns):\n",
      " #   Column           Dtype \n",
      "---  ------           ----- \n",
      " 0   id               int64 \n",
      " 1   item_id          int64 \n",
      " 2   timestamp        int64 \n",
      " 3   avgHighPrice     object\n",
      " 4   highPriceVolume  int64 \n",
      " 5   avgLowPrice      object\n",
      " 6   lowPriceVolume   int64 \n",
      "dtypes: int64(5), object(2)\n",
      "memory usage: 670.2+ MB\n"
     ]
    }
   ],
   "source": [
    "AugustDate.info()"
   ]
  },
  {
   "cell_type": "code",
   "execution_count": 19,
   "id": "20c0d9a3-dd4a-4fdb-907d-0a2e0892776e",
   "metadata": {},
   "outputs": [],
   "source": [
    "AugustDate.timestamp = pd.to_datetime(AugustDate.timestamp,unit='s')\n",
    "AugustDate.avgHighPrice.replace('',np.nan,inplace=True)\n",
    "AugustDate.avgLowPrice.replace('',np.nan,inplace=True)"
   ]
  },
  {
   "cell_type": "code",
   "execution_count": 23,
   "id": "dd8b3e74-e8a5-4740-a833-346d2f874f0a",
   "metadata": {},
   "outputs": [],
   "source": [
    "AugustDate.avgHighPrice = AugustDate.avgHighPrice.astype(float,errors='ignore')\n",
    "AugustDate.avgLowPrice = AugustDate.avgLowPrice.astype(float)"
   ]
  },
  {
   "cell_type": "code",
   "execution_count": 30,
   "id": "75159f4c-1be0-4f53-aafc-9800fc730ccf",
   "metadata": {},
   "outputs": [],
   "source": []
  },
  {
   "cell_type": "code",
   "execution_count": 35,
   "id": "7f4ee376-1f41-4dde-81a4-e3c4687b6b2c",
   "metadata": {},
   "outputs": [],
   "source": [
    "AugustDate.index = AugustDate.timestamp"
   ]
  },
  {
   "cell_type": "code",
   "execution_count": 36,
   "id": "12047dc0-97b8-4362-b70c-d56176301d8f",
   "metadata": {},
   "outputs": [
    {
     "name": "stdout",
     "output_type": "stream",
     "text": [
      "<class 'pandas.core.frame.DataFrame'>\n",
      "DatetimeIndex: 12549808 entries, 2022-08-01 05:05:00 to 2022-09-01 04:55:00\n",
      "Data columns (total 7 columns):\n",
      " #   Column           Dtype         \n",
      "---  ------           -----         \n",
      " 0   id               int64         \n",
      " 1   item_id          int64         \n",
      " 2   timestamp        datetime64[ns]\n",
      " 3   avgHighPrice     float64       \n",
      " 4   highPriceVolume  int64         \n",
      " 5   avgLowPrice      object        \n",
      " 6   lowPriceVolume   int64         \n",
      "dtypes: datetime64[ns](1), float64(1), int64(4), object(1)\n",
      "memory usage: 766.0+ MB\n"
     ]
    }
   ],
   "source": [
    "AugustDate.info()"
   ]
  },
  {
   "cell_type": "code",
   "execution_count": 44,
   "id": "1daa5018-51cb-4905-98d7-92350881351d",
   "metadata": {},
   "outputs": [],
   "source": [
    "August1h = AugustDate.resample('1h').mean()"
   ]
  },
  {
   "cell_type": "code",
   "execution_count": 55,
   "id": "b603e739-3e64-43b5-b13c-8ef6c777ca40",
   "metadata": {},
   "outputs": [],
   "source": [
    "August1391_1h = AugustDate.loc[AugustDate.item_id == 1391].resample('1h').mean()"
   ]
  },
  {
   "cell_type": "code",
   "execution_count": 56,
   "id": "d3bb0212-1fb7-4eb3-96cd-9ae2c2f5ea19",
   "metadata": {},
   "outputs": [
    {
     "data": {
      "text/plain": [
       "<AxesSubplot:xlabel='timestamp'>"
      ]
     },
     "execution_count": 56,
     "metadata": {},
     "output_type": "execute_result"
    },
    {
     "data": {
      "image/png": "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\n",
      "text/plain": [
       "<Figure size 432x288 with 1 Axes>"
      ]
     },
     "metadata": {
      "needs_background": "light"
     },
     "output_type": "display_data"
    }
   ],
   "source": [
    "August1391_1h.plot(y='avgHighPrice',kind='line')"
   ]
  },
  {
   "cell_type": "code",
   "execution_count": null,
   "id": "a531c0e0-b4bd-42e1-bb8d-089a3343d9ee",
=======
   "execution_count": null,
   "id": "d3bb0212-1fb7-4eb3-96cd-9ae2c2f5ea19",
>>>>>>> ed85c93d83e3c402cdc671af7be1d1922a11e1f1
   "metadata": {},
   "outputs": [],
   "source": []
  }
 ],
 "metadata": {
  "kernelspec": {
   "display_name": "Python 3",
   "language": "python",
   "name": "python3"
  },
  "language_info": {
   "codemirror_mode": {
    "name": "ipython",
    "version": 3
   },
   "file_extension": ".py",
   "mimetype": "text/x-python",
   "name": "python",
   "nbconvert_exporter": "python",
   "pygments_lexer": "ipython3",
   "version": "3.8.8"
  }
 },
 "nbformat": 4,
 "nbformat_minor": 5
}
