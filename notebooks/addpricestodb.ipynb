{
 "cells": [
  {
   "cell_type": "code",
   "execution_count": null,
   "id": "94bedf51-6bca-4236-8d29-a38ed667e0a1",
   "metadata": {},
   "outputs": [],
   "source": []
  },
  {
   "cell_type": "code",
   "execution_count": 1,
   "id": "bdde8db6-a81b-48c4-9cbc-6b0c3d0373d5",
   "metadata": {},
   "outputs": [],
   "source": [
    "import sqlite3\n",
    "from sqlite3 import Error\n",
    "import pandas as pd"
   ]
  },
  {
   "cell_type": "code",
   "execution_count": 2,
   "id": "4584f925-d97c-4175-8977-e26a0daffb81",
   "metadata": {},
   "outputs": [],
   "source": [
    "conn = sqlite3.connect('../geitems.db')"
   ]
  },
  {
   "cell_type": "code",
   "execution_count": 3,
   "id": "668ae6f0-43de-4575-a9d8-dace0325efbf",
   "metadata": {},
   "outputs": [],
   "source": [
    "cur = conn.cursor()"
   ]
  },
  {
   "cell_type": "code",
   "execution_count": 4,
   "id": "ba26f1fc-f05c-4dee-8e9d-6077fe4ab37e",
   "metadata": {},
   "outputs": [],
   "source": [
    "def add_prices(conn, item):\n",
    "    \"\"\"\n",
    "    Create a new project into the items table\n",
    "    :param conn:\n",
    "    :param item:\n",
    "    :return: item id\n",
    "    \"\"\"\n",
    "    sql = ''' INSERT INTO prices(item_id,timestamp,avgHighPrice,highPriceVolume,avgLowPrice,lowPriceVolume)\n",
    "              VALUES(?,?,?,?,?,?) '''\n",
    "    cur = conn.cursor()\n",
    "    cur.execute(sql, item)\n",
    "    conn.commit()\n",
    "    return cur.lastrowid"
   ]
  },
  {
   "cell_type": "code",
   "execution_count": 5,
   "id": "87694be8-fa17-462a-ab80-df45a37741ba",
   "metadata": {},
   "outputs": [],
   "source": [
    "#connection\n",
    "\n",
    "def create_connection(db_file):\n",
    "    \"\"\"Create conn to sqlite db\"\"\"\n",
    "    \n",
    "    conn = None\n",
    "    \n",
    "    try:\n",
    "        conn = sqlite3.connect(db_file)\n",
    "        print(sqlite3.version)\n",
    "    except Error as e:\n",
    "        print(e)\n",
    "    return conn"
   ]
  },
  {
   "cell_type": "code",
   "execution_count": 6,
   "id": "07e53f71-cf5b-412e-9239-3eaf93bd150e",
   "metadata": {},
   "outputs": [],
   "source": [
    "price_df = pd.read_csv('../prices/item_prices_2022-03-07 12-56-49.csv')"
   ]
  },
  {
   "cell_type": "code",
   "execution_count": 7,
   "id": "b6e6e355-13ce-4e06-a3cc-17c974c9e321",
   "metadata": {},
   "outputs": [],
   "source": [
    "price_df.drop('Unnamed: 0',axis=1,inplace=True)"
   ]
  },
  {
   "cell_type": "code",
   "execution_count": 8,
   "id": "fd3a1643-97c3-4da6-bd82-c674d84cf879",
   "metadata": {},
   "outputs": [
    {
     "name": "stdout",
     "output_type": "stream",
     "text": [
      "<class 'pandas.core.frame.DataFrame'>\n",
      "RangeIndex: 1318 entries, 0 to 1317\n",
      "Data columns (total 6 columns):\n",
      " #   Column           Non-Null Count  Dtype  \n",
      "---  ------           --------------  -----  \n",
      " 0   avgHighPrice     904 non-null    float64\n",
      " 1   highPriceVolume  1318 non-null   int64  \n",
      " 2   avgLowPrice      893 non-null    float64\n",
      " 3   lowPriceVolume   1318 non-null   int64  \n",
      " 4   timestamp        1318 non-null   int64  \n",
      " 5   id               1318 non-null   int64  \n",
      "dtypes: float64(2), int64(4)\n",
      "memory usage: 61.9 KB\n"
     ]
    }
   ],
   "source": [
    "price_df.info()"
   ]
  },
  {
   "cell_type": "code",
   "execution_count": null,
   "id": "33c63ba3-2087-4baf-9979-01739f70a449",
   "metadata": {},
   "outputs": [],
   "source": []
  },
  {
   "cell_type": "code",
   "execution_count": 9,
   "id": "8bb30c4c-c18c-4a19-bf1f-8b9bf88049b0",
   "metadata": {},
   "outputs": [
    {
     "data": {
      "text/plain": [
       "10010.0"
      ]
     },
     "execution_count": 9,
     "metadata": {},
     "output_type": "execute_result"
    }
   ],
   "source": [
    "price_df.iloc[0]['id']"
   ]
  },
  {
   "cell_type": "code",
   "execution_count": 10,
   "id": "c02337fe-6def-4e74-8102-80b3b7d4bca9",
   "metadata": {},
   "outputs": [],
   "source": [
    "# conn = create_connection('geitems.db')\n",
    "\n",
    "# #id,members,lowalch,buyLimit,value,highalch,icon,name,examine\n",
    "# #add item\n",
    "\n",
    "# item_id = int(item_df.iloc[0]['id'])\n",
    "# mems = str(item_df.iloc[0]['members'])\n",
    "# lowal = item_df.iloc[0]['lowalch']\n",
    "# lim = item_df.iloc[0]['limit']\n",
    "# val = int(item_df.iloc[0]['value'])\n",
    "# highal = item_df.iloc[0]['highalch']\n",
    "# icon = item_df.iloc[0]['icon']\n",
    "# name = item_df.iloc[0]['name']\n",
    "# examine = item_df.iloc[0]['examine']\n",
    "\n",
    "# item = (item_id,mems,lowal,lim,val,highal,icon,name,examine);\n",
    "# item_id = add_items(conn, item)"
   ]
  },
  {
   "cell_type": "code",
   "execution_count": 11,
   "id": "268ac8b4-c9df-4b0d-a2a7-0c9035fc9d56",
   "metadata": {},
   "outputs": [
    {
     "name": "stdout",
     "output_type": "stream",
     "text": [
      "<class 'pandas.core.frame.DataFrame'>\n",
      "RangeIndex: 1318 entries, 0 to 1317\n",
      "Data columns (total 6 columns):\n",
      " #   Column           Non-Null Count  Dtype  \n",
      "---  ------           --------------  -----  \n",
      " 0   avgHighPrice     904 non-null    float64\n",
      " 1   highPriceVolume  1318 non-null   int64  \n",
      " 2   avgLowPrice      893 non-null    float64\n",
      " 3   lowPriceVolume   1318 non-null   int64  \n",
      " 4   timestamp        1318 non-null   int64  \n",
      " 5   id               1318 non-null   int64  \n",
      "dtypes: float64(2), int64(4)\n",
      "memory usage: 61.9 KB\n"
     ]
    }
   ],
   "source": [
    "price_df.info()"
   ]
  },
  {
   "cell_type": "code",
   "execution_count": 12,
   "id": "6f0a29b6-e45e-40b6-898b-a349b22cdda5",
   "metadata": {},
   "outputs": [],
   "source": [
    "for row in range(0,len(price_df)):\n",
    "    item_id = int(price_df.iloc[row]['id'])\n",
    "    timestamp = int(price_df.iloc[row]['timestamp'])\n",
    "    avghigh = float(price_df.iloc[row]['avgHighPrice'])\n",
    "    highvol = int(price_df.iloc[row]['highPriceVolume'])\n",
    "    avglow = float(price_df.iloc[row]['avgLowPrice'])\n",
    "    lowvol = int(price_df.iloc[row]['lowPriceVolume'])\n",
    "\n",
    "    \n",
    "    price = (item_id,timestamp,avghigh,highvol,avglow,lowvol);\n",
    "    price_id = add_prices(conn, price)"
   ]
  },
  {
   "cell_type": "code",
   "execution_count": 13,
   "id": "8d2dcfa8-46c1-4085-9f80-177cd49a499c",
   "metadata": {},
   "outputs": [],
   "source": [
    "conn.close()"
   ]
  },
  {
   "cell_type": "code",
   "execution_count": null,
   "id": "7420422d-1397-473c-ab48-94f1f7e49cd1",
   "metadata": {},
   "outputs": [],
   "source": []
  },
  {
   "cell_type": "code",
   "execution_count": null,
   "id": "3300b43c-b32d-479e-a14b-d972e7a3f595",
   "metadata": {},
   "outputs": [],
   "source": []
  },
  {
   "cell_type": "code",
   "execution_count": null,
   "id": "410d7451-df7f-4344-89e7-e13b0d45fe4b",
   "metadata": {},
   "outputs": [],
   "source": []
  },
  {
   "cell_type": "code",
   "execution_count": null,
   "id": "9bd2ff5a-7424-4b00-9c27-e4fd49a1c30a",
   "metadata": {},
   "outputs": [],
   "source": []
  }
 ],
 "metadata": {
  "kernelspec": {
   "display_name": "Python 3",
   "language": "python",
   "name": "python3"
  },
  "language_info": {
   "codemirror_mode": {
    "name": "ipython",
    "version": 3
   },
   "file_extension": ".py",
   "mimetype": "text/x-python",
   "name": "python",
   "nbconvert_exporter": "python",
   "pygments_lexer": "ipython3",
   "version": "3.8.8"
  }
 },
 "nbformat": 4,
 "nbformat_minor": 5
}
