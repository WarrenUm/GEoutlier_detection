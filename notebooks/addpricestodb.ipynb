{
 "cells": [
  {
   "cell_type": "code",
   "execution_count": null,
   "id": "94bedf51-6bca-4236-8d29-a38ed667e0a1",
   "metadata": {},
   "outputs": [],
   "source": []
  },
  {
   "cell_type": "code",
   "execution_count": 1,
   "id": "bdde8db6-a81b-48c4-9cbc-6b0c3d0373d5",
   "metadata": {},
   "outputs": [],
   "source": [
    "import sqlite3\n",
    "from sqlite3 import Error\n",
    "import pandas as pd"
   ]
  },
  {
   "cell_type": "code",
   "execution_count": 2,
   "id": "4584f925-d97c-4175-8977-e26a0daffb81",
   "metadata": {},
   "outputs": [],
   "source": [
    "conn = sqlite3.connect('../geitems.db')"
   ]
  },
  {
   "cell_type": "code",
   "execution_count": 3,
   "id": "668ae6f0-43de-4575-a9d8-dace0325efbf",
   "metadata": {},
   "outputs": [],
   "source": [
    "cur = conn.cursor()"
   ]
  },
  {
   "cell_type": "code",
   "execution_count": 4,
   "id": "ba26f1fc-f05c-4dee-8e9d-6077fe4ab37e",
   "metadata": {},
   "outputs": [],
   "source": [
    "def add_prices(conn, item):\n",
    "    \"\"\"\n",
    "    Create a new project into the items table\n",
    "    :param conn:\n",
    "    :param item:\n",
    "    :return: item id\n",
    "    \"\"\"\n",
    "    sql = ''' INSERT INTO prices(item_id,timestamp,avgHighPrice,highPriceVolume,avgLowPrice,lowPriceVolume)\n",
    "              VALUES(?,?,?,?,?,?) '''\n",
    "    cur = conn.cursor()\n",
    "    cur.execute(sql, item)\n",
    "    conn.commit()\n",
    "    return cur.lastrowid"
   ]
  },
  {
   "cell_type": "code",
   "execution_count": 5,
   "id": "87694be8-fa17-462a-ab80-df45a37741ba",
   "metadata": {},
   "outputs": [],
   "source": [
    "#connection\n",
    "\n",
    "def create_connection(db_file):\n",
    "    \"\"\"Create conn to sqlite db\"\"\"\n",
    "    \n",
    "    conn = None\n",
    "    \n",
    "    try:\n",
    "        conn = sqlite3.connect(db_file)\n",
    "        print(sqlite3.version)\n",
    "    except Error as e:\n",
    "        print(e)\n",
    "    return conn"
   ]
  },
  {
   "cell_type": "code",
   "execution_count": 6,
   "id": "3e629bfe-9928-42b1-9269-a5106eaa3381",
   "metadata": {},
   "outputs": [],
   "source": [
    "import csv"
   ]
  },
  {
   "cell_type": "code",
   "execution_count": 6,
   "id": "07e53f71-cf5b-412e-9239-3eaf93bd150e",
   "metadata": {},
   "outputs": [],
   "source": [
    "price_df = pd.read_csv('Most_recent_data.csv')"
   ]
  },
  {
   "cell_type": "code",
   "execution_count": 7,
   "id": "8ce3dcb4-bd9a-45c2-99ed-ae7eb4cd1c7b",
   "metadata": {},
   "outputs": [
    {
     "ename": "MemoryError",
     "evalue": "",
     "output_type": "error",
     "traceback": [
      "\u001b[1;31m---------------------------------------------------------------------------\u001b[0m",
      "\u001b[1;31mMemoryError\u001b[0m                               Traceback (most recent call last)",
      "\u001b[1;32m<ipython-input-7-52857d681d38>\u001b[0m in \u001b[0;36m<module>\u001b[1;34m\u001b[0m\n\u001b[0;32m      1\u001b[0m \u001b[1;32mwith\u001b[0m \u001b[0mopen\u001b[0m\u001b[1;33m(\u001b[0m\u001b[1;34m'Most_recent_data.csv'\u001b[0m\u001b[1;33m,\u001b[0m\u001b[1;34m'r'\u001b[0m\u001b[1;33m)\u001b[0m \u001b[1;32mas\u001b[0m \u001b[0mfin\u001b[0m\u001b[1;33m:\u001b[0m\u001b[1;33m\u001b[0m\u001b[1;33m\u001b[0m\u001b[0m\n\u001b[0;32m      2\u001b[0m     \u001b[0mdr\u001b[0m \u001b[1;33m=\u001b[0m \u001b[0mcsv\u001b[0m\u001b[1;33m.\u001b[0m\u001b[0mDictReader\u001b[0m\u001b[1;33m(\u001b[0m\u001b[0mfin\u001b[0m\u001b[1;33m)\u001b[0m\u001b[1;33m\u001b[0m\u001b[1;33m\u001b[0m\u001b[0m\n\u001b[1;32m----> 3\u001b[1;33m     \u001b[0mto_db\u001b[0m \u001b[1;33m=\u001b[0m \u001b[1;33m[\u001b[0m\u001b[1;33m(\u001b[0m\u001b[0mi\u001b[0m\u001b[1;33m[\u001b[0m\u001b[1;34m'item_id'\u001b[0m\u001b[1;33m]\u001b[0m\u001b[1;33m,\u001b[0m \u001b[0mi\u001b[0m\u001b[1;33m[\u001b[0m\u001b[1;34m'timestamp'\u001b[0m\u001b[1;33m]\u001b[0m\u001b[1;33m,\u001b[0m \u001b[0mi\u001b[0m\u001b[1;33m[\u001b[0m\u001b[1;34m'avgHighPrice'\u001b[0m\u001b[1;33m]\u001b[0m\u001b[1;33m,\u001b[0m \u001b[0mi\u001b[0m\u001b[1;33m[\u001b[0m\u001b[1;34m'highPriceVolume'\u001b[0m\u001b[1;33m]\u001b[0m\u001b[1;33m,\u001b[0m \u001b[0mi\u001b[0m\u001b[1;33m[\u001b[0m\u001b[1;34m'avgLowPrice'\u001b[0m\u001b[1;33m]\u001b[0m\u001b[1;33m,\u001b[0m \u001b[0mi\u001b[0m\u001b[1;33m[\u001b[0m\u001b[1;34m'lowPriceVolume'\u001b[0m\u001b[1;33m]\u001b[0m\u001b[1;33m)\u001b[0m \u001b[1;32mfor\u001b[0m \u001b[0mi\u001b[0m \u001b[1;32min\u001b[0m \u001b[0mdr\u001b[0m\u001b[1;33m]\u001b[0m\u001b[1;33m\u001b[0m\u001b[1;33m\u001b[0m\u001b[0m\n\u001b[0m\u001b[0;32m      4\u001b[0m \u001b[1;33m\u001b[0m\u001b[0m\n\u001b[0;32m      5\u001b[0m     cur.executemany(\"\"\"INSERT INTO prices ((item_id,timestamp,avgHighPrice,highPriceVolume,avgLowPrice,lowPriceVolume)\n",
      "\u001b[1;32m<ipython-input-7-52857d681d38>\u001b[0m in \u001b[0;36m<listcomp>\u001b[1;34m(.0)\u001b[0m\n\u001b[0;32m      1\u001b[0m \u001b[1;32mwith\u001b[0m \u001b[0mopen\u001b[0m\u001b[1;33m(\u001b[0m\u001b[1;34m'Most_recent_data.csv'\u001b[0m\u001b[1;33m,\u001b[0m\u001b[1;34m'r'\u001b[0m\u001b[1;33m)\u001b[0m \u001b[1;32mas\u001b[0m \u001b[0mfin\u001b[0m\u001b[1;33m:\u001b[0m\u001b[1;33m\u001b[0m\u001b[1;33m\u001b[0m\u001b[0m\n\u001b[0;32m      2\u001b[0m     \u001b[0mdr\u001b[0m \u001b[1;33m=\u001b[0m \u001b[0mcsv\u001b[0m\u001b[1;33m.\u001b[0m\u001b[0mDictReader\u001b[0m\u001b[1;33m(\u001b[0m\u001b[0mfin\u001b[0m\u001b[1;33m)\u001b[0m\u001b[1;33m\u001b[0m\u001b[1;33m\u001b[0m\u001b[0m\n\u001b[1;32m----> 3\u001b[1;33m     \u001b[0mto_db\u001b[0m \u001b[1;33m=\u001b[0m \u001b[1;33m[\u001b[0m\u001b[1;33m(\u001b[0m\u001b[0mi\u001b[0m\u001b[1;33m[\u001b[0m\u001b[1;34m'item_id'\u001b[0m\u001b[1;33m]\u001b[0m\u001b[1;33m,\u001b[0m \u001b[0mi\u001b[0m\u001b[1;33m[\u001b[0m\u001b[1;34m'timestamp'\u001b[0m\u001b[1;33m]\u001b[0m\u001b[1;33m,\u001b[0m \u001b[0mi\u001b[0m\u001b[1;33m[\u001b[0m\u001b[1;34m'avgHighPrice'\u001b[0m\u001b[1;33m]\u001b[0m\u001b[1;33m,\u001b[0m \u001b[0mi\u001b[0m\u001b[1;33m[\u001b[0m\u001b[1;34m'highPriceVolume'\u001b[0m\u001b[1;33m]\u001b[0m\u001b[1;33m,\u001b[0m \u001b[0mi\u001b[0m\u001b[1;33m[\u001b[0m\u001b[1;34m'avgLowPrice'\u001b[0m\u001b[1;33m]\u001b[0m\u001b[1;33m,\u001b[0m \u001b[0mi\u001b[0m\u001b[1;33m[\u001b[0m\u001b[1;34m'lowPriceVolume'\u001b[0m\u001b[1;33m]\u001b[0m\u001b[1;33m)\u001b[0m \u001b[1;32mfor\u001b[0m \u001b[0mi\u001b[0m \u001b[1;32min\u001b[0m \u001b[0mdr\u001b[0m\u001b[1;33m]\u001b[0m\u001b[1;33m\u001b[0m\u001b[1;33m\u001b[0m\u001b[0m\n\u001b[0m\u001b[0;32m      4\u001b[0m \u001b[1;33m\u001b[0m\u001b[0m\n\u001b[0;32m      5\u001b[0m     cur.executemany(\"\"\"INSERT INTO prices ((item_id,timestamp,avgHighPrice,highPriceVolume,avgLowPrice,lowPriceVolume)\n",
      "\u001b[1;31mMemoryError\u001b[0m: "
     ]
    }
   ],
   "source": [
    "with open('Most_recent_data.csv','r') as fin:\n",
    "    dr = csv.DictReader(fin)\n",
    "    to_db = [(i['item_id'], i['timestamp'], i['avgHighPrice'], i['highPriceVolume'], i['avgLowPrice'], i['lowPriceVolume']) for i in dr]\n",
    "\n",
    "    cur.executemany(\"\"\"INSERT INTO prices ((item_id,timestamp,avgHighPrice,highPriceVolume,avgLowPrice,lowPriceVolume)\n",
    "              VALUES(?,?,?,?,?,?);\"\"\",to_db)\n",
    "    conn.commit()\n",
    "    conn.close"
   ]
  },
  {
   "cell_type": "code",
   "execution_count": 10,
   "id": "b6e6e355-13ce-4e06-a3cc-17c974c9e321",
   "metadata": {},
   "outputs": [],
   "source": [
    "price_df.drop('Unnamed: 0.1',axis=1,inplace=True)"
   ]
  },
  {
   "cell_type": "code",
   "execution_count": 11,
   "id": "fd3a1643-97c3-4da6-bd82-c674d84cf879",
   "metadata": {},
   "outputs": [
    {
     "name": "stdout",
     "output_type": "stream",
     "text": [
      "<class 'pandas.core.frame.DataFrame'>\n",
      "RangeIndex: 213865814 entries, 0 to 213865813\n",
      "Data columns (total 6 columns):\n",
      " #   Column           Dtype  \n",
      "---  ------           -----  \n",
      " 0   item_id          float64\n",
      " 1   timestamp        float64\n",
      " 2   avgHighPrice     float64\n",
      " 3   highPriceVolume  float64\n",
      " 4   avgLowPrice      float64\n",
      " 5   lowPriceVolume   float64\n",
      "dtypes: float64(6)\n",
      "memory usage: 9.6 GB\n"
     ]
    }
   ],
   "source": [
    "price_df.info()"
   ]
  },
  {
   "cell_type": "code",
   "execution_count": null,
   "id": "33c63ba3-2087-4baf-9979-01739f70a449",
   "metadata": {},
   "outputs": [],
   "source": []
  },
  {
   "cell_type": "code",
   "execution_count": 15,
   "id": "8bb30c4c-c18c-4a19-bf1f-8b9bf88049b0",
   "metadata": {},
   "outputs": [
    {
     "data": {
      "text/plain": [
       "0                2.0\n",
       "1               36.0\n",
       "2               45.0\n",
       "3               56.0\n",
       "4               91.0\n",
       "              ...   \n",
       "213865809    27235.0\n",
       "213865810    27238.0\n",
       "213865811    27241.0\n",
       "213865812    27272.0\n",
       "213865813    27277.0\n",
       "Name: item_id, Length: 213865814, dtype: float64"
      ]
     },
     "execution_count": 15,
     "metadata": {},
     "output_type": "execute_result"
    }
   ],
   "source": [
    "price_df['item_id']"
   ]
  },
  {
   "cell_type": "code",
   "execution_count": 10,
   "id": "c02337fe-6def-4e74-8102-80b3b7d4bca9",
   "metadata": {},
   "outputs": [],
   "source": [
    "# conn = create_connection('geitems.db')\n",
    "\n",
    "# #id,members,lowalch,buyLimit,value,highalch,icon,name,examine\n",
    "# #add item\n",
    "\n",
    "# item_id = int(item_df.iloc[0]['id'])\n",
    "# mems = str(item_df.iloc[0]['members'])\n",
    "# lowal = item_df.iloc[0]['lowalch']\n",
    "# lim = item_df.iloc[0]['limit']\n",
    "# val = int(item_df.iloc[0]['value'])\n",
    "# highal = item_df.iloc[0]['highalch']\n",
    "# icon = item_df.iloc[0]['icon']\n",
    "# name = item_df.iloc[0]['name']\n",
    "# examine = item_df.iloc[0]['examine']\n",
    "\n",
    "# item = (item_id,mems,lowal,lim,val,highal,icon,name,examine);\n",
    "# item_id = add_items(conn, item)"
   ]
  },
  {
   "cell_type": "code",
   "execution_count": 11,
   "id": "268ac8b4-c9df-4b0d-a2a7-0c9035fc9d56",
   "metadata": {},
   "outputs": [
    {
     "name": "stdout",
     "output_type": "stream",
     "text": [
      "<class 'pandas.core.frame.DataFrame'>\n",
      "RangeIndex: 1318 entries, 0 to 1317\n",
      "Data columns (total 6 columns):\n",
      " #   Column           Non-Null Count  Dtype  \n",
      "---  ------           --------------  -----  \n",
      " 0   avgHighPrice     904 non-null    float64\n",
      " 1   highPriceVolume  1318 non-null   int64  \n",
      " 2   avgLowPrice      893 non-null    float64\n",
      " 3   lowPriceVolume   1318 non-null   int64  \n",
      " 4   timestamp        1318 non-null   int64  \n",
      " 5   id               1318 non-null   int64  \n",
      "dtypes: float64(2), int64(4)\n",
      "memory usage: 61.9 KB\n"
     ]
    }
   ],
   "source": [
    "price_df.info()"
   ]
  },
  {
   "cell_type": "code",
   "execution_count": 18,
   "id": "5270f76c-1b56-4b7f-9b51-2e9b83923c4f",
   "metadata": {},
   "outputs": [],
   "source": [
    "from tqdm.notebook import tqdm"
   ]
  },
  {
   "cell_type": "code",
   "execution_count": 19,
   "id": "6f0a29b6-e45e-40b6-898b-a349b22cdda5",
   "metadata": {},
   "outputs": [
    {
     "data": {
      "application/vnd.jupyter.widget-view+json": {
       "model_id": "12e7c3c3e8944d72a5218d500232dc88",
       "version_major": 2,
       "version_minor": 0
      },
      "text/plain": [
       "  0%|          | 0/213865814 [00:00<?, ?it/s]"
      ]
     },
     "metadata": {},
     "output_type": "display_data"
    },
    {
     "ename": "KeyboardInterrupt",
     "evalue": "",
     "output_type": "error",
     "traceback": [
      "\u001b[1;31m---------------------------------------------------------------------------\u001b[0m",
      "\u001b[1;31mKeyboardInterrupt\u001b[0m                         Traceback (most recent call last)",
      "\u001b[1;32m<ipython-input-19-407be810dc6f>\u001b[0m in \u001b[0;36m<module>\u001b[1;34m\u001b[0m\n\u001b[0;32m      9\u001b[0m \u001b[1;33m\u001b[0m\u001b[0m\n\u001b[0;32m     10\u001b[0m     \u001b[0mprice\u001b[0m \u001b[1;33m=\u001b[0m \u001b[1;33m(\u001b[0m\u001b[0mitem_id\u001b[0m\u001b[1;33m,\u001b[0m\u001b[0mtimestamp\u001b[0m\u001b[1;33m,\u001b[0m\u001b[0mavghigh\u001b[0m\u001b[1;33m,\u001b[0m\u001b[0mhighvol\u001b[0m\u001b[1;33m,\u001b[0m\u001b[0mavglow\u001b[0m\u001b[1;33m,\u001b[0m\u001b[0mlowvol\u001b[0m\u001b[1;33m)\u001b[0m\u001b[1;33m;\u001b[0m\u001b[1;33m\u001b[0m\u001b[1;33m\u001b[0m\u001b[0m\n\u001b[1;32m---> 11\u001b[1;33m     \u001b[0mprice_id\u001b[0m \u001b[1;33m=\u001b[0m \u001b[0madd_prices\u001b[0m\u001b[1;33m(\u001b[0m\u001b[0mconn\u001b[0m\u001b[1;33m,\u001b[0m \u001b[0mprice\u001b[0m\u001b[1;33m)\u001b[0m\u001b[1;33m\u001b[0m\u001b[1;33m\u001b[0m\u001b[0m\n\u001b[0m",
      "\u001b[1;32m<ipython-input-4-bd2530ceb9b9>\u001b[0m in \u001b[0;36madd_prices\u001b[1;34m(conn, item)\u001b[0m\n\u001b[0;32m      9\u001b[0m               VALUES(?,?,?,?,?,?) '''\n\u001b[0;32m     10\u001b[0m     \u001b[0mcur\u001b[0m \u001b[1;33m=\u001b[0m \u001b[0mconn\u001b[0m\u001b[1;33m.\u001b[0m\u001b[0mcursor\u001b[0m\u001b[1;33m(\u001b[0m\u001b[1;33m)\u001b[0m\u001b[1;33m\u001b[0m\u001b[1;33m\u001b[0m\u001b[0m\n\u001b[1;32m---> 11\u001b[1;33m     \u001b[0mcur\u001b[0m\u001b[1;33m.\u001b[0m\u001b[0mexecute\u001b[0m\u001b[1;33m(\u001b[0m\u001b[0msql\u001b[0m\u001b[1;33m,\u001b[0m \u001b[0mitem\u001b[0m\u001b[1;33m)\u001b[0m\u001b[1;33m\u001b[0m\u001b[1;33m\u001b[0m\u001b[0m\n\u001b[0m\u001b[0;32m     12\u001b[0m     \u001b[0mconn\u001b[0m\u001b[1;33m.\u001b[0m\u001b[0mcommit\u001b[0m\u001b[1;33m(\u001b[0m\u001b[1;33m)\u001b[0m\u001b[1;33m\u001b[0m\u001b[1;33m\u001b[0m\u001b[0m\n\u001b[0;32m     13\u001b[0m     \u001b[1;32mreturn\u001b[0m \u001b[0mcur\u001b[0m\u001b[1;33m.\u001b[0m\u001b[0mlastrowid\u001b[0m\u001b[1;33m\u001b[0m\u001b[1;33m\u001b[0m\u001b[0m\n",
      "\u001b[1;31mKeyboardInterrupt\u001b[0m: "
     ]
    }
   ],
   "source": [
    "for row in tqdm(range(0,len(price_df))):\n",
    "    item_id = int(price_df.iloc[row]['item_id'])\n",
    "    timestamp = int(price_df.iloc[row]['timestamp'])\n",
    "    avghigh = float(price_df.iloc[row]['avgHighPrice'])\n",
    "    highvol = int(price_df.iloc[row]['highPriceVolume'])\n",
    "    avglow = float(price_df.iloc[row]['avgLowPrice'])\n",
    "    lowvol = int(price_df.iloc[row]['lowPriceVolume'])\n",
    "\n",
    "    \n",
    "    price = (item_id,timestamp,avghigh,highvol,avglow,lowvol);\n",
    "    price_id = add_prices(conn, price)"
   ]
  },
  {
   "cell_type": "code",
   "execution_count": 13,
   "id": "8d2dcfa8-46c1-4085-9f80-177cd49a499c",
   "metadata": {},
   "outputs": [],
   "source": [
    "conn.close()"
   ]
  },
  {
   "cell_type": "code",
   "execution_count": null,
   "id": "7420422d-1397-473c-ab48-94f1f7e49cd1",
   "metadata": {},
   "outputs": [],
   "source": []
  },
  {
   "cell_type": "code",
   "execution_count": null,
   "id": "3300b43c-b32d-479e-a14b-d972e7a3f595",
   "metadata": {},
   "outputs": [],
   "source": []
  },
  {
   "cell_type": "code",
   "execution_count": null,
   "id": "410d7451-df7f-4344-89e7-e13b0d45fe4b",
   "metadata": {},
   "outputs": [],
   "source": []
  },
  {
   "cell_type": "code",
   "execution_count": null,
   "id": "9bd2ff5a-7424-4b00-9c27-e4fd49a1c30a",
   "metadata": {},
   "outputs": [],
   "source": []
  }
 ],
 "metadata": {
  "kernelspec": {
   "display_name": "Python 3",
   "language": "python",
   "name": "python3"
  },
  "language_info": {
   "codemirror_mode": {
    "name": "ipython",
    "version": 3
   },
   "file_extension": ".py",
   "mimetype": "text/x-python",
   "name": "python",
   "nbconvert_exporter": "python",
   "pygments_lexer": "ipython3",
   "version": "3.8.8"
  }
 },
 "nbformat": 4,
 "nbformat_minor": 5
}
