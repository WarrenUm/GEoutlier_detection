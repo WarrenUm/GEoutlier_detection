{
 "cells": [
  {
   "cell_type": "code",
   "execution_count": 1,
   "id": "25b62619-bfb6-4cf3-aef2-ede3ee20e433",
   "metadata": {},
   "outputs": [],
   "source": [
    "import sqlite3\n",
    "from sqlite3 import Error\n",
    "import pandas as pd"
   ]
  },
  {
   "cell_type": "code",
   "execution_count": 2,
   "id": "4a39e14f-3ffc-4720-9a55-12f768ad45dc",
   "metadata": {},
   "outputs": [],
   "source": [
    "conn = sqlite3.connect('geitems.db')"
   ]
  },
  {
   "cell_type": "code",
   "execution_count": 3,
   "id": "c6f54a4b-87f2-4178-bfd5-e8c678a1a724",
   "metadata": {},
   "outputs": [],
   "source": [
    "cur = conn.cursor()"
   ]
  },
  {
   "cell_type": "code",
   "execution_count": 4,
   "id": "f6c1f972-2202-4ed4-8b4a-95d474a8f53a",
   "metadata": {},
   "outputs": [],
   "source": [
    "#make items table\n",
    "query = \"\"\" CREATE TABLE items (id integer primary key, item_id integer, members integer, lowalch real, buyLimit real, value real, highalch real, icon blob, name text, examine text) \"\"\"\n",
    "\n"
   ]
  },
  {
   "cell_type": "code",
   "execution_count": 5,
   "id": "cd719fc0-5144-4d22-8d55-b84bb2f4ae3e",
   "metadata": {},
   "outputs": [
    {
     "data": {
      "text/plain": [
       "<sqlite3.Cursor at 0x265a7331180>"
      ]
     },
     "execution_count": 5,
     "metadata": {},
     "output_type": "execute_result"
    }
   ],
   "source": [
    "cur.execute(query)\n"
   ]
  },
  {
   "cell_type": "code",
   "execution_count": 6,
   "id": "8ad430a4-fcc1-4c7f-a6f0-f36e53550e86",
   "metadata": {},
   "outputs": [],
   "source": [
    "conn.close()"
   ]
  },
  {
   "cell_type": "code",
   "execution_count": null,
   "id": "b3317f74-90d1-46de-ae1f-20408fe55865",
   "metadata": {},
   "outputs": [],
   "source": []
  }
 ],
 "metadata": {
  "kernelspec": {
   "display_name": "Python 3",
   "language": "python",
   "name": "python3"
  },
  "language_info": {
   "codemirror_mode": {
    "name": "ipython",
    "version": 3
   },
   "file_extension": ".py",
   "mimetype": "text/x-python",
   "name": "python",
   "nbconvert_exporter": "python",
   "pygments_lexer": "ipython3",
   "version": "3.8.8"
  }
 },
 "nbformat": 4,
 "nbformat_minor": 5
}
