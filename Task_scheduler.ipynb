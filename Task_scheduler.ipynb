{
 "cells": [
  {
   "cell_type": "code",
   "execution_count": 1,
   "id": "8e5333b5-f91c-444d-a6e8-cd39e90556d7",
   "metadata": {},
   "outputs": [],
   "source": [
    "import pandas as pd\n",
    "import numpy as np\n",
    "import requests\n",
    "import json\n",
    "from osrs_fcns import *\n",
    "import schedule\n",
    "import time"
   ]
  },
  {
   "cell_type": "code",
   "execution_count": null,
   "id": "3c9ed674-28fa-4a5c-b8d6-ae46980a23a2",
   "metadata": {},
   "outputs": [],
   "source": []
  },
  {
   "cell_type": "code",
   "execution_count": 2,
   "id": "4cdbd100-6485-48b1-b20c-e3f43b8715e5",
   "metadata": {},
   "outputs": [
    {
     "data": {
      "text/plain": [
       "Every 5 minutes do update_local_price_db() (last run: [never], next run: 2022-03-13 14:00:58)"
      ]
     },
     "execution_count": 2,
     "metadata": {},
     "output_type": "execute_result"
    }
   ],
   "source": [
    "schedule.every(5).minutes.do(update_local_price_db)"
   ]
  },
  {
   "cell_type": "code",
   "execution_count": null,
   "id": "e6c1afd8-56a1-44f7-840d-1ac0f859ce8e",
   "metadata": {},
   "outputs": [],
   "source": [
    "while True:\n",
    "    schedule.run_pending()\n",
    "    time.sleep(1)"
   ]
  },
  {
   "cell_type": "code",
   "execution_count": null,
   "id": "7047e334-fe8a-4732-9588-496a8894abcc",
   "metadata": {},
   "outputs": [],
   "source": [
    "#6 months of data with be very approx: 2.7 GB"
   ]
  },
  {
   "cell_type": "code",
   "execution_count": null,
   "id": "db37dd0f-97a9-4a49-b61a-a52452fdd647",
   "metadata": {},
   "outputs": [],
   "source": []
  }
 ],
 "metadata": {
  "kernelspec": {
   "display_name": "Python 3",
   "language": "python",
   "name": "python3"
  },
  "language_info": {
   "codemirror_mode": {
    "name": "ipython",
    "version": 3
   },
   "file_extension": ".py",
   "mimetype": "text/x-python",
   "name": "python",
   "nbconvert_exporter": "python",
   "pygments_lexer": "ipython3",
   "version": "3.8.8"
  }
 },
 "nbformat": 4,
 "nbformat_minor": 5
}
