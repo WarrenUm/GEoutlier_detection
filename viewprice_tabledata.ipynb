{
 "cells": [
  {
   "cell_type": "code",
   "execution_count": 1,
   "id": "9f82f79e-bd56-4a7f-aca6-efd8554e782f",
   "metadata": {},
   "outputs": [],
   "source": [
    "#fetching and viewing prices data table"
   ]
  },
  {
   "cell_type": "code",
   "execution_count": null,
   "id": "bfdda309-e84f-43c6-8c57-ac22cf3cfeb4",
   "metadata": {},
   "outputs": [],
   "source": []
  },
  {
   "cell_type": "code",
   "execution_count": 2,
   "id": "16911ae5-06c7-46c4-88e2-af028e9e9e28",
   "metadata": {},
   "outputs": [],
   "source": [
    "import sqlite3\n",
    "from sqlite3 import Error\n",
    "import pandas as pd"
   ]
  },
  {
   "cell_type": "code",
   "execution_count": 3,
   "id": "ea8ed3a8-5cda-4909-b43c-ec74de3a966c",
   "metadata": {},
   "outputs": [],
   "source": [
    "conn = sqlite3.connect('geitems.db')\n",
    "cur = conn.cursor()"
   ]
  },
  {
   "cell_type": "code",
   "execution_count": 4,
   "id": "b6de076d-fad7-4d0b-b68d-88d2d625e5f9",
   "metadata": {},
   "outputs": [
    {
     "data": {
      "text/plain": [
       "<sqlite3.Cursor at 0x26812da7f80>"
      ]
     },
     "execution_count": 4,
     "metadata": {},
     "output_type": "execute_result"
    }
   ],
   "source": [
    "cur.execute(\"\"\"SELECT * FROM prices\"\"\")"
   ]
  },
  {
   "cell_type": "code",
   "execution_count": 5,
   "id": "cde9dfeb-1eef-4d25-8021-28c417568fea",
   "metadata": {},
   "outputs": [],
   "source": [
    "response = cur.fetchall()"
   ]
  },
  {
   "cell_type": "code",
   "execution_count": null,
   "id": "46f940eb-5e47-4bf5-9f1a-a1daf59273b7",
   "metadata": {},
   "outputs": [],
   "source": []
  },
  {
   "cell_type": "code",
   "execution_count": 6,
   "id": "da12493c-d146-4e81-83c5-e9ecc7c24fcb",
   "metadata": {},
   "outputs": [
    {
     "data": {
      "text/html": [
       "<div>\n",
       "<style scoped>\n",
       "    .dataframe tbody tr th:only-of-type {\n",
       "        vertical-align: middle;\n",
       "    }\n",
       "\n",
       "    .dataframe tbody tr th {\n",
       "        vertical-align: top;\n",
       "    }\n",
       "\n",
       "    .dataframe thead th {\n",
       "        text-align: right;\n",
       "    }\n",
       "</style>\n",
       "<table border=\"1\" class=\"dataframe\">\n",
       "  <thead>\n",
       "    <tr style=\"text-align: right;\">\n",
       "      <th></th>\n",
       "      <th>id</th>\n",
       "      <th>item_id</th>\n",
       "      <th>timestamp</th>\n",
       "      <th>avgHighPrice</th>\n",
       "      <th>highPriceVolume</th>\n",
       "      <th>avgLowPrice</th>\n",
       "      <th>lowPriceVolume</th>\n",
       "    </tr>\n",
       "  </thead>\n",
       "  <tbody>\n",
       "    <tr>\n",
       "      <th>0</th>\n",
       "      <td>1</td>\n",
       "      <td>9998</td>\n",
       "      <td>1647194100</td>\n",
       "      <td>6750.0</td>\n",
       "      <td>4</td>\n",
       "      <td>5990.0</td>\n",
       "      <td>16</td>\n",
       "    </tr>\n",
       "    <tr>\n",
       "      <th>1</th>\n",
       "      <td>2</td>\n",
       "      <td>9998</td>\n",
       "      <td>1647194400</td>\n",
       "      <td>6934.0</td>\n",
       "      <td>31</td>\n",
       "      <td>NaN</td>\n",
       "      <td>0</td>\n",
       "    </tr>\n",
       "    <tr>\n",
       "      <th>2</th>\n",
       "      <td>3</td>\n",
       "      <td>9998</td>\n",
       "      <td>1647194700</td>\n",
       "      <td>6998.0</td>\n",
       "      <td>2</td>\n",
       "      <td>5500.0</td>\n",
       "      <td>20</td>\n",
       "    </tr>\n",
       "    <tr>\n",
       "      <th>3</th>\n",
       "      <td>4</td>\n",
       "      <td>10010</td>\n",
       "      <td>1646679000</td>\n",
       "      <td>15.0</td>\n",
       "      <td>1</td>\n",
       "      <td>NaN</td>\n",
       "      <td>0</td>\n",
       "    </tr>\n",
       "    <tr>\n",
       "      <th>4</th>\n",
       "      <td>5</td>\n",
       "      <td>10029</td>\n",
       "      <td>1646679000</td>\n",
       "      <td>6.0</td>\n",
       "      <td>3</td>\n",
       "      <td>NaN</td>\n",
       "      <td>0</td>\n",
       "    </tr>\n",
       "    <tr>\n",
       "      <th>...</th>\n",
       "      <td>...</td>\n",
       "      <td>...</td>\n",
       "      <td>...</td>\n",
       "      <td>...</td>\n",
       "      <td>...</td>\n",
       "      <td>...</td>\n",
       "      <td>...</td>\n",
       "    </tr>\n",
       "    <tr>\n",
       "      <th>11177</th>\n",
       "      <td>11178</td>\n",
       "      <td>987</td>\n",
       "      <td>1647197100</td>\n",
       "      <td>9615.0</td>\n",
       "      <td>1</td>\n",
       "      <td>9500.0</td>\n",
       "      <td>19</td>\n",
       "    </tr>\n",
       "    <tr>\n",
       "      <th>11178</th>\n",
       "      <td>11179</td>\n",
       "      <td>989</td>\n",
       "      <td>1647197100</td>\n",
       "      <td>19859.0</td>\n",
       "      <td>7</td>\n",
       "      <td>19380.0</td>\n",
       "      <td>6</td>\n",
       "    </tr>\n",
       "    <tr>\n",
       "      <th>11179</th>\n",
       "      <td>11180</td>\n",
       "      <td>99</td>\n",
       "      <td>1647197100</td>\n",
       "      <td>9747.0</td>\n",
       "      <td>430</td>\n",
       "      <td>9578.0</td>\n",
       "      <td>190</td>\n",
       "    </tr>\n",
       "    <tr>\n",
       "      <th>11180</th>\n",
       "      <td>11181</td>\n",
       "      <td>993</td>\n",
       "      <td>1647197100</td>\n",
       "      <td>NaN</td>\n",
       "      <td>0</td>\n",
       "      <td>39740.0</td>\n",
       "      <td>1</td>\n",
       "    </tr>\n",
       "    <tr>\n",
       "      <th>11181</th>\n",
       "      <td>11182</td>\n",
       "      <td>9998</td>\n",
       "      <td>1647197100</td>\n",
       "      <td>5570.0</td>\n",
       "      <td>3</td>\n",
       "      <td>6402.0</td>\n",
       "      <td>4</td>\n",
       "    </tr>\n",
       "  </tbody>\n",
       "</table>\n",
       "<p>11182 rows × 7 columns</p>\n",
       "</div>"
      ],
      "text/plain": [
       "          id  item_id   timestamp  avgHighPrice  highPriceVolume  avgLowPrice  \\\n",
       "0          1     9998  1647194100        6750.0                4       5990.0   \n",
       "1          2     9998  1647194400        6934.0               31          NaN   \n",
       "2          3     9998  1647194700        6998.0                2       5500.0   \n",
       "3          4    10010  1646679000          15.0                1          NaN   \n",
       "4          5    10029  1646679000           6.0                3          NaN   \n",
       "...      ...      ...         ...           ...              ...          ...   \n",
       "11177  11178      987  1647197100        9615.0                1       9500.0   \n",
       "11178  11179      989  1647197100       19859.0                7      19380.0   \n",
       "11179  11180       99  1647197100        9747.0              430       9578.0   \n",
       "11180  11181      993  1647197100           NaN                0      39740.0   \n",
       "11181  11182     9998  1647197100        5570.0                3       6402.0   \n",
       "\n",
       "       lowPriceVolume  \n",
       "0                  16  \n",
       "1                   0  \n",
       "2                  20  \n",
       "3                   0  \n",
       "4                   0  \n",
       "...               ...  \n",
       "11177              19  \n",
       "11178               6  \n",
       "11179             190  \n",
       "11180               1  \n",
       "11181               4  \n",
       "\n",
       "[11182 rows x 7 columns]"
      ]
     },
     "execution_count": 6,
     "metadata": {},
     "output_type": "execute_result"
    }
   ],
   "source": [
    "pd.DataFrame(response,columns=['id','item_id','timestamp','avgHighPrice','highPriceVolume','avgLowPrice','lowPriceVolume'])"
   ]
  },
  {
   "cell_type": "code",
   "execution_count": null,
   "id": "f4c0aaaf-d0a4-4805-b17f-75a119fd494f",
   "metadata": {},
   "outputs": [],
   "source": []
  }
 ],
 "metadata": {
  "kernelspec": {
   "display_name": "Python 3",
   "language": "python",
   "name": "python3"
  },
  "language_info": {
   "codemirror_mode": {
    "name": "ipython",
    "version": 3
   },
   "file_extension": ".py",
   "mimetype": "text/x-python",
   "name": "python",
   "nbconvert_exporter": "python",
   "pygments_lexer": "ipython3",
   "version": "3.8.8"
  }
 },
 "nbformat": 4,
 "nbformat_minor": 5
}
