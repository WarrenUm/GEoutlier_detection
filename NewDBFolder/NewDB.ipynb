{
 "cells": [
  {
   "cell_type": "code",
   "execution_count": 10,
   "id": "15c4df8b-53d3-4614-aa9d-e6b0699dc633",
   "metadata": {},
   "outputs": [],
   "source": [
    "import sqlite3\n",
    "from sqlite3 import Error\n",
    "import pandas as pd\n",
    "import os"
   ]
  },
  {
   "cell_type": "code",
   "execution_count": 2,
   "id": "c4e15c88-e495-447e-8774-ca8221d789db",
   "metadata": {},
   "outputs": [],
   "source": [
    "conn = sqlite3.connect('../smallgedb.db')"
   ]
  },
  {
   "cell_type": "code",
   "execution_count": 7,
   "id": "89e5090c-d46f-427a-9d4f-d20915984504",
   "metadata": {},
   "outputs": [
    {
     "ename": "OperationalError",
     "evalue": "table prices already exists",
     "output_type": "error",
     "traceback": [
      "\u001b[1;31m---------------------------------------------------------------------------\u001b[0m",
      "\u001b[1;31mOperationalError\u001b[0m                          Traceback (most recent call last)",
      "\u001b[1;32m<ipython-input-7-48d28fb0fb96>\u001b[0m in \u001b[0;36m<module>\u001b[1;34m\u001b[0m\n\u001b[0;32m      2\u001b[0m \u001b[0mcur\u001b[0m \u001b[1;33m=\u001b[0m \u001b[0mconn\u001b[0m\u001b[1;33m.\u001b[0m\u001b[0mcursor\u001b[0m\u001b[1;33m(\u001b[0m\u001b[1;33m)\u001b[0m\u001b[1;33m\u001b[0m\u001b[1;33m\u001b[0m\u001b[0m\n\u001b[0;32m      3\u001b[0m \u001b[0mquery\u001b[0m \u001b[1;33m=\u001b[0m \u001b[1;34m\"\"\" CREATE TABLE prices (timestamp integer primary key, data blob) \"\"\"\u001b[0m\u001b[1;33m\u001b[0m\u001b[1;33m\u001b[0m\u001b[0m\n\u001b[1;32m----> 4\u001b[1;33m \u001b[0mcur\u001b[0m\u001b[1;33m.\u001b[0m\u001b[0mexecute\u001b[0m\u001b[1;33m(\u001b[0m\u001b[0mquery\u001b[0m\u001b[1;33m)\u001b[0m\u001b[1;33m\u001b[0m\u001b[1;33m\u001b[0m\u001b[0m\n\u001b[0m",
      "\u001b[1;31mOperationalError\u001b[0m: table prices already exists"
     ]
    }
   ],
   "source": [
    "#make items table\n",
    "cur = conn.cursor()\n",
    "query = \"\"\" CREATE TABLE prices (timestamp integer primary key, data blob) \"\"\"\n",
    "cur.execute(query)\n"
   ]
  },
  {
   "cell_type": "code",
   "execution_count": 3,
   "id": "01a0a469-c8bd-4064-92e8-34d823acd6bd",
   "metadata": {},
   "outputs": [],
   "source": [
    "cur = conn.cursor()\n",
    "query = \"\"\" SELECT * from prices \"\"\"\n",
    "response = cur.execute(query).fetchall()\n"
   ]
  },
  {
   "cell_type": "code",
   "execution_count": 4,
   "id": "763ad651-3c27-4aa0-9687-08b5c8d569b2",
   "metadata": {},
   "outputs": [],
   "source": [
    "Data = pd.DataFrame(response,columns=['timestamp','data'])"
   ]
  },
  {
   "cell_type": "code",
   "execution_count": 5,
   "id": "2179e99e-2cdb-4c17-b646-0094a6f9bd11",
   "metadata": {},
   "outputs": [
    {
     "data": {
      "text/html": [
       "<div>\n",
       "<style scoped>\n",
       "    .dataframe tbody tr th:only-of-type {\n",
       "        vertical-align: middle;\n",
       "    }\n",
       "\n",
       "    .dataframe tbody tr th {\n",
       "        vertical-align: top;\n",
       "    }\n",
       "\n",
       "    .dataframe thead th {\n",
       "        text-align: right;\n",
       "    }\n",
       "</style>\n",
       "<table border=\"1\" class=\"dataframe\">\n",
       "  <thead>\n",
       "    <tr style=\"text-align: right;\">\n",
       "      <th></th>\n",
       "      <th>timestamp</th>\n",
       "      <th>data</th>\n",
       "    </tr>\n",
       "  </thead>\n",
       "  <tbody>\n",
       "  </tbody>\n",
       "</table>\n",
       "</div>"
      ],
      "text/plain": [
       "Empty DataFrame\n",
       "Columns: [timestamp, data]\n",
       "Index: []"
      ]
     },
     "execution_count": 5,
     "metadata": {},
     "output_type": "execute_result"
    }
   ],
   "source": [
    "Data"
   ]
  },
  {
   "cell_type": "code",
   "execution_count": 6,
   "id": "fd7e2d44-9de8-481d-a5c4-0e1637ae3c17",
   "metadata": {},
   "outputs": [],
   "source": [
    "def add_prices(contents,conn):\n",
    "    \"\"\"\n",
    "    Create a new project into the items table\n",
    "    :param conn:\n",
    "    :param item:\n",
    "    :return: item id\n",
    "    \"\"\"\n",
    "    sql = ''' INSERT INTO prices(timestamp,data)\n",
    "              VALUES(?,?) '''\n",
    "    cur = conn.cursor()\n",
    "    cur.executemany(sql, contents)\n",
    "    conn.commit()\n",
    "    return cur.lastrowid\n"
   ]
  },
  {
   "cell_type": "code",
   "execution_count": 28,
   "id": "3e4175e8-68da-4619-b1da-bc7574822c3f",
   "metadata": {},
   "outputs": [],
   "source": [
    "def getCSVList():\n",
    "    # folder path\n",
    "    \n",
    "    dir_path = '../notebooks/Imported'\n",
    "    # list to store files\n",
    "    res = []\n",
    "    # Iterate directory\n",
    "    for path in os.listdir(dir_path):\n",
    "        # check if current path is a file\n",
    "        if os.path.isfile(os.path.join(dir_path, path)):\n",
    "            res.append(os.path.join(dir_path, path))\n",
    "    return res"
   ]
  },
  {
   "cell_type": "code",
   "execution_count": 114,
   "id": "16da69c4-ce3f-4292-9d14-dc183132ee9b",
   "metadata": {},
   "outputs": [],
   "source": [
    "def convert_csvtoformat(csvFileName):\n",
    "    df = pd.read_csv(csvFileName,index_col=False)\n",
    "    df.drop('Unnamed: 0',axis=1,inplace=True)\n",
    "    itemDict = {}\n",
    "    for i in df.iterrows():\n",
    "        itemDict[i[1].item_id.astype(int)] = {\"avgHighPrice\":i[1].avgHighPrice,\"highPriceVolume\":i[1].highPriceVolume,\"avgLowPrice\":i[1].avgLowPrice,\"lowPriceVolume\":i[1].lowPriceVolume}\n",
    "    timestamp = df.timestamp[0]\n",
    "    timeDF = pd.DataFrame(data=[[timestamp,itemDict]],columns=['timestamp','data'])\n",
    "    return df, itemDict, timeDF"
   ]
  },
  {
   "cell_type": "code",
   "execution_count": 39,
   "id": "8d4b61bc-1956-4967-be81-ed96d96121d1",
   "metadata": {},
   "outputs": [],
   "source": [
    "res = getCSVList()\n"
   ]
  },
  {
   "cell_type": "code",
   "execution_count": null,
   "id": "58a0d887-22a5-4aba-aacf-07a00218b425",
   "metadata": {},
   "outputs": [],
   "source": []
  },
  {
   "cell_type": "code",
   "execution_count": 115,
   "id": "d2af914d-89e2-41ab-be39-1471b6026b85",
   "metadata": {},
   "outputs": [],
   "source": [
    "\n",
    "df, itemDict, timeDF = convert_csvtoformat(res[0])"
   ]
  },
  {
   "cell_type": "code",
   "execution_count": 116,
   "id": "3a0f28ad-de15-4bc4-ae20-a0ffd552c4b8",
   "metadata": {},
   "outputs": [
    {
     "data": {
      "text/html": [
       "<div>\n",
       "<style scoped>\n",
       "    .dataframe tbody tr th:only-of-type {\n",
       "        vertical-align: middle;\n",
       "    }\n",
       "\n",
       "    .dataframe tbody tr th {\n",
       "        vertical-align: top;\n",
       "    }\n",
       "\n",
       "    .dataframe thead th {\n",
       "        text-align: right;\n",
       "    }\n",
       "</style>\n",
       "<table border=\"1\" class=\"dataframe\">\n",
       "  <thead>\n",
       "    <tr style=\"text-align: right;\">\n",
       "      <th></th>\n",
       "      <th>timestamp</th>\n",
       "      <th>data</th>\n",
       "    </tr>\n",
       "  </thead>\n",
       "  <tbody>\n",
       "    <tr>\n",
       "      <th>0</th>\n",
       "      <td>1615188900</td>\n",
       "      <td>{2: {'avgHighPrice': 161.0, 'highPriceVolume':...</td>\n",
       "    </tr>\n",
       "  </tbody>\n",
       "</table>\n",
       "</div>"
      ],
      "text/plain": [
       "    timestamp                                               data\n",
       "0  1615188900  {2: {'avgHighPrice': 161.0, 'highPriceVolume':..."
      ]
     },
     "execution_count": 116,
     "metadata": {},
     "output_type": "execute_result"
    }
   ],
   "source": [
    "timeDF"
   ]
  },
  {
   "cell_type": "code",
   "execution_count": 15,
   "id": "297f2965-92c3-41f9-8a96-e6591024da2c",
   "metadata": {},
   "outputs": [],
   "source": [
    "def runTableAdder():\n",
    "    csvList = getCSVList()\n",
    "    conn = create_connection('../smallgedb.db')\n",
    "#     print(csvList)\n",
    "    for i in tqdm(csvList):\n",
    "        dfName = 'Import\\\\'+i\n",
    "        \n",
    "        price_df = pd.read_csv(dfName)\n",
    "        price_df.drop('Unnamed: 0',axis=1,inplace=True)\n",
    "        newDF = pd.DataFrame(columns=['timestamp','data'])\n",
    "        newDF.timestamp = price_df.timestamp\n",
    "        newDF.data = newDF[['item_id','timestamp','avgHighPrice','highPriceVolume','avgLowPrice','lowPriceVolume']]\n",
    "#         shutil.move(dfName,'Imported\\\\'+i)\n",
    "        if(len(price_df) == 0):\n",
    "#             print('No Columns!')\n",
    "            continue\n",
    "        #move dfName to folder called Imported\n",
    "        \n",
    "        addCSV_ToDB(price_df,conn)\n",
    "    \n",
    "    conn.close()"
   ]
  },
  {
   "cell_type": "code",
   "execution_count": null,
   "id": "4b11782c-e35c-4b32-9c84-98460f73e752",
   "metadata": {},
   "outputs": [],
   "source": []
  }
 ],
 "metadata": {
  "kernelspec": {
   "display_name": "Python 3",
   "language": "python",
   "name": "python3"
  },
  "language_info": {
   "codemirror_mode": {
    "name": "ipython",
    "version": 3
   },
   "file_extension": ".py",
   "mimetype": "text/x-python",
   "name": "python",
   "nbconvert_exporter": "python",
   "pygments_lexer": "ipython3",
   "version": "3.8.8"
  }
 },
 "nbformat": 4,
 "nbformat_minor": 5
}
