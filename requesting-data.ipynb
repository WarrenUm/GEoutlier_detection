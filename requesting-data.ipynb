{
 "cells": [
  {
   "cell_type": "code",
   "execution_count": 1,
   "id": "75bc9550-250c-47ed-b212-21b42398ac2a",
   "metadata": {},
   "outputs": [],
   "source": [
    "#get updated ge data from the api and store it with the date and time in a folder.\n",
    "#make a function that gets updates continuously."
   ]
  },
  {
   "cell_type": "code",
   "execution_count": 2,
   "id": "c14c5ad9-6c94-46f0-8d01-b38a379e76d2",
   "metadata": {},
   "outputs": [],
   "source": [
    "import pandas as pd\n",
    "import numpy as np\n",
    "import requests\n",
    "import json"
   ]
  },
  {
   "cell_type": "code",
   "execution_count": 3,
   "id": "af668976-8bbd-4205-ad4c-cfa93ff02d0b",
   "metadata": {},
   "outputs": [],
   "source": [
    "headers = {'User-Agent':'GEoutlier-detection'}"
   ]
  },
  {
   "cell_type": "code",
   "execution_count": 4,
   "id": "e1ccd580-aac6-4957-ba62-97662babfcb0",
   "metadata": {},
   "outputs": [],
   "source": [
    "api_endpt = \"https://prices.runescape.wiki/api/v1/osrs\""
   ]
  },
  {
   "cell_type": "code",
   "execution_count": 18,
   "id": "279df762-6042-48e5-a679-59e1ff59e8fb",
   "metadata": {},
   "outputs": [],
   "source": [
    "items_endpt = \"/mapping\"\n",
    "latest_endpt = \"/latest\"\n",
    "five_min_endpt = \"/5m\"\n"
   ]
  },
  {
   "cell_type": "code",
   "execution_count": 6,
   "id": "225e457c-f037-478b-b385-63265fa2449d",
   "metadata": {},
   "outputs": [],
   "source": [
    "items_response = requests.get((api_endpt+items_endpt), headers=headers)\n",
    "all_items = pd.DataFrame.from_dict(json.loads(items_response.text))"
   ]
  },
  {
   "cell_type": "code",
   "execution_count": 7,
   "id": "34a86171-2312-46eb-ae94-e8763fb8232a",
   "metadata": {},
   "outputs": [
    {
     "data": {
      "text/html": [
       "<div>\n",
       "<style scoped>\n",
       "    .dataframe tbody tr th:only-of-type {\n",
       "        vertical-align: middle;\n",
       "    }\n",
       "\n",
       "    .dataframe tbody tr th {\n",
       "        vertical-align: top;\n",
       "    }\n",
       "\n",
       "    .dataframe thead th {\n",
       "        text-align: right;\n",
       "    }\n",
       "</style>\n",
       "<table border=\"1\" class=\"dataframe\">\n",
       "  <thead>\n",
       "    <tr style=\"text-align: right;\">\n",
       "      <th></th>\n",
       "      <th>examine</th>\n",
       "      <th>id</th>\n",
       "      <th>members</th>\n",
       "      <th>lowalch</th>\n",
       "      <th>limit</th>\n",
       "      <th>value</th>\n",
       "      <th>highalch</th>\n",
       "      <th>icon</th>\n",
       "      <th>name</th>\n",
       "    </tr>\n",
       "  </thead>\n",
       "  <tbody>\n",
       "    <tr>\n",
       "      <th>0</th>\n",
       "      <td>Fabulously ancient mage protection enchanted i...</td>\n",
       "      <td>10344</td>\n",
       "      <td>True</td>\n",
       "      <td>20200.0</td>\n",
       "      <td>8.0</td>\n",
       "      <td>50500</td>\n",
       "      <td>30300.0</td>\n",
       "      <td>3rd age amulet.png</td>\n",
       "      <td>3rd age amulet</td>\n",
       "    </tr>\n",
       "    <tr>\n",
       "      <th>1</th>\n",
       "      <td>A beautifully crafted axe, shaped by ancient s...</td>\n",
       "      <td>20011</td>\n",
       "      <td>True</td>\n",
       "      <td>22000.0</td>\n",
       "      <td>40.0</td>\n",
       "      <td>55000</td>\n",
       "      <td>33000.0</td>\n",
       "      <td>3rd age axe.png</td>\n",
       "      <td>3rd age axe</td>\n",
       "    </tr>\n",
       "    <tr>\n",
       "      <th>2</th>\n",
       "      <td>A beautifully crafted bow carved by ancient ar...</td>\n",
       "      <td>12424</td>\n",
       "      <td>True</td>\n",
       "      <td>60000.0</td>\n",
       "      <td>8.0</td>\n",
       "      <td>150000</td>\n",
       "      <td>90000.0</td>\n",
       "      <td>3rd age bow.png</td>\n",
       "      <td>3rd age bow</td>\n",
       "    </tr>\n",
       "    <tr>\n",
       "      <th>3</th>\n",
       "      <td>A beautiful cloak woven by ancient tailors.</td>\n",
       "      <td>12437</td>\n",
       "      <td>True</td>\n",
       "      <td>34000.0</td>\n",
       "      <td>8.0</td>\n",
       "      <td>85000</td>\n",
       "      <td>51000.0</td>\n",
       "      <td>3rd age cloak.png</td>\n",
       "      <td>3rd age cloak</td>\n",
       "    </tr>\n",
       "    <tr>\n",
       "      <th>4</th>\n",
       "      <td>A fabulously ancient vine cloak as worn by the...</td>\n",
       "      <td>23345</td>\n",
       "      <td>True</td>\n",
       "      <td>80000.0</td>\n",
       "      <td>8.0</td>\n",
       "      <td>200000</td>\n",
       "      <td>120000.0</td>\n",
       "      <td>3rd age druidic cloak.png</td>\n",
       "      <td>3rd age druidic cloak</td>\n",
       "    </tr>\n",
       "    <tr>\n",
       "      <th>...</th>\n",
       "      <td>...</td>\n",
       "      <td>...</td>\n",
       "      <td>...</td>\n",
       "      <td>...</td>\n",
       "      <td>...</td>\n",
       "      <td>...</td>\n",
       "      <td>...</td>\n",
       "      <td>...</td>\n",
       "      <td>...</td>\n",
       "    </tr>\n",
       "    <tr>\n",
       "      <th>3877</th>\n",
       "      <td>A pile of Zombie Ogre bones.</td>\n",
       "      <td>4812</td>\n",
       "      <td>True</td>\n",
       "      <td>1.0</td>\n",
       "      <td>3000.0</td>\n",
       "      <td>1</td>\n",
       "      <td>1.0</td>\n",
       "      <td>Zogre bones.png</td>\n",
       "      <td>Zogre bones</td>\n",
       "    </tr>\n",
       "    <tr>\n",
       "      <th>3878</th>\n",
       "      <td>Get a head in life.</td>\n",
       "      <td>19912</td>\n",
       "      <td>True</td>\n",
       "      <td>2000.0</td>\n",
       "      <td>4.0</td>\n",
       "      <td>5000</td>\n",
       "      <td>3000.0</td>\n",
       "      <td>Zombie head (Treasure Trails).png</td>\n",
       "      <td>Zombie head (Treasure Trails)</td>\n",
       "    </tr>\n",
       "    <tr>\n",
       "      <th>3879</th>\n",
       "      <td>Teleports you to Zul-Andra.</td>\n",
       "      <td>12938</td>\n",
       "      <td>True</td>\n",
       "      <td>4.0</td>\n",
       "      <td>10000.0</td>\n",
       "      <td>10</td>\n",
       "      <td>6.0</td>\n",
       "      <td>Zul-andra teleport.png</td>\n",
       "      <td>Zul-andra teleport</td>\n",
       "    </tr>\n",
       "    <tr>\n",
       "      <th>3880</th>\n",
       "      <td>Flakes of toxic snakeskin.</td>\n",
       "      <td>12934</td>\n",
       "      <td>True</td>\n",
       "      <td>8.0</td>\n",
       "      <td>30000.0</td>\n",
       "      <td>20</td>\n",
       "      <td>12.0</td>\n",
       "      <td>Zulrah's scales 5.png</td>\n",
       "      <td>Zulrah's scales</td>\n",
       "    </tr>\n",
       "    <tr>\n",
       "      <th>3881</th>\n",
       "      <td>A powerful staff.</td>\n",
       "      <td>22647</td>\n",
       "      <td>True</td>\n",
       "      <td>120000.0</td>\n",
       "      <td>10.0</td>\n",
       "      <td>300000</td>\n",
       "      <td>180000.0</td>\n",
       "      <td>Zuriel's staff.png</td>\n",
       "      <td>Zuriel's staff</td>\n",
       "    </tr>\n",
       "  </tbody>\n",
       "</table>\n",
       "<p>3882 rows × 9 columns</p>\n",
       "</div>"
      ],
      "text/plain": [
       "                                                examine     id  members  \\\n",
       "0     Fabulously ancient mage protection enchanted i...  10344     True   \n",
       "1     A beautifully crafted axe, shaped by ancient s...  20011     True   \n",
       "2     A beautifully crafted bow carved by ancient ar...  12424     True   \n",
       "3           A beautiful cloak woven by ancient tailors.  12437     True   \n",
       "4     A fabulously ancient vine cloak as worn by the...  23345     True   \n",
       "...                                                 ...    ...      ...   \n",
       "3877                       A pile of Zombie Ogre bones.   4812     True   \n",
       "3878                                Get a head in life.  19912     True   \n",
       "3879                        Teleports you to Zul-Andra.  12938     True   \n",
       "3880                         Flakes of toxic snakeskin.  12934     True   \n",
       "3881                                  A powerful staff.  22647     True   \n",
       "\n",
       "       lowalch    limit   value  highalch                               icon  \\\n",
       "0      20200.0      8.0   50500   30300.0                 3rd age amulet.png   \n",
       "1      22000.0     40.0   55000   33000.0                    3rd age axe.png   \n",
       "2      60000.0      8.0  150000   90000.0                    3rd age bow.png   \n",
       "3      34000.0      8.0   85000   51000.0                  3rd age cloak.png   \n",
       "4      80000.0      8.0  200000  120000.0          3rd age druidic cloak.png   \n",
       "...        ...      ...     ...       ...                                ...   \n",
       "3877       1.0   3000.0       1       1.0                    Zogre bones.png   \n",
       "3878    2000.0      4.0    5000    3000.0  Zombie head (Treasure Trails).png   \n",
       "3879       4.0  10000.0      10       6.0             Zul-andra teleport.png   \n",
       "3880       8.0  30000.0      20      12.0              Zulrah's scales 5.png   \n",
       "3881  120000.0     10.0  300000  180000.0                 Zuriel's staff.png   \n",
       "\n",
       "                               name  \n",
       "0                    3rd age amulet  \n",
       "1                       3rd age axe  \n",
       "2                       3rd age bow  \n",
       "3                     3rd age cloak  \n",
       "4             3rd age druidic cloak  \n",
       "...                             ...  \n",
       "3877                    Zogre bones  \n",
       "3878  Zombie head (Treasure Trails)  \n",
       "3879             Zul-andra teleport  \n",
       "3880                Zulrah's scales  \n",
       "3881                 Zuriel's staff  \n",
       "\n",
       "[3882 rows x 9 columns]"
      ]
     },
     "execution_count": 7,
     "metadata": {},
     "output_type": "execute_result"
    }
   ],
   "source": [
    "all_items"
   ]
  },
  {
   "cell_type": "code",
   "execution_count": 8,
   "id": "0e68d54b-2ad6-4f7b-b7b6-c33f363b652f",
   "metadata": {},
   "outputs": [],
   "source": [
    "latest_response = requests.get((api_endpt+latest_endpt), headers=headers)\n",
    "latest_data = pd.DataFrame.from_dict(json.loads(latest_response.text[8:-1]),orient='columns').T\n",
    "latest_data['id'] = latest_data.index"
   ]
  },
  {
   "cell_type": "code",
   "execution_count": 27,
   "id": "8ad3a668-ebf1-41ee-84d8-6f0181bb92b0",
   "metadata": {},
   "outputs": [],
   "source": [
    "#high and low Time need to be converted to unix time\n",
    "latest_data.highTime = pd.to_datetime(latest_data['highTime'], unit='s')"
   ]
  },
  {
   "cell_type": "code",
   "execution_count": 32,
   "id": "7b92271c-5333-4cdc-9961-d56fbe0b777c",
   "metadata": {},
   "outputs": [],
   "source": [
    "def unix_conv(df,col):\n",
    "    converted_col = pd.to_datetime(df[col], unit='s')\n",
    "    \n",
    "    return pd.DataFrame(converted_col, columns=[col])"
   ]
  },
  {
   "cell_type": "code",
   "execution_count": 34,
   "id": "b9cfca70-7eae-4a61-aca1-292de5727ae7",
   "metadata": {},
   "outputs": [],
   "source": [
    "latest_data.lowTime = unix_conv(latest_data,'lowTime')"
   ]
  },
  {
   "cell_type": "code",
   "execution_count": 35,
   "id": "959193c2-d545-4935-bd1c-fad6e4b81f02",
   "metadata": {},
   "outputs": [
    {
     "name": "stdout",
     "output_type": "stream",
     "text": [
      "<class 'pandas.core.frame.DataFrame'>\n",
      "Index: 3796 entries, 2 to 26394\n",
      "Data columns (total 5 columns):\n",
      " #   Column    Non-Null Count  Dtype         \n",
      "---  ------    --------------  -----         \n",
      " 0   high      3795 non-null   float64       \n",
      " 1   highTime  3795 non-null   datetime64[ns]\n",
      " 2   low       3795 non-null   float64       \n",
      " 3   lowTime   3795 non-null   datetime64[ns]\n",
      " 4   id        3796 non-null   int64         \n",
      "dtypes: datetime64[ns](2), float64(2), int64(1)\n",
      "memory usage: 307.0+ KB\n"
     ]
    }
   ],
   "source": [
    "latest_data.info()"
   ]
  },
  {
   "cell_type": "code",
   "execution_count": 29,
   "id": "d349a0dd-65b9-4bc3-b65f-dcd108e5df43",
   "metadata": {},
   "outputs": [
    {
     "data": {
      "text/html": [
       "<div>\n",
       "<style scoped>\n",
       "    .dataframe tbody tr th:only-of-type {\n",
       "        vertical-align: middle;\n",
       "    }\n",
       "\n",
       "    .dataframe tbody tr th {\n",
       "        vertical-align: top;\n",
       "    }\n",
       "\n",
       "    .dataframe thead th {\n",
       "        text-align: right;\n",
       "    }\n",
       "</style>\n",
       "<table border=\"1\" class=\"dataframe\">\n",
       "  <thead>\n",
       "    <tr style=\"text-align: right;\">\n",
       "      <th></th>\n",
       "      <th>high</th>\n",
       "      <th>highTime</th>\n",
       "      <th>low</th>\n",
       "      <th>lowTime</th>\n",
       "      <th>id</th>\n",
       "    </tr>\n",
       "  </thead>\n",
       "  <tbody>\n",
       "    <tr>\n",
       "      <th>2</th>\n",
       "      <td>157.0</td>\n",
       "      <td>2022-02-28 18:28:05</td>\n",
       "      <td>150.0</td>\n",
       "      <td>1.646073e+09</td>\n",
       "      <td>2</td>\n",
       "    </tr>\n",
       "    <tr>\n",
       "      <th>6</th>\n",
       "      <td>193090.0</td>\n",
       "      <td>2022-02-28 18:15:53</td>\n",
       "      <td>183578.0</td>\n",
       "      <td>1.646073e+09</td>\n",
       "      <td>6</td>\n",
       "    </tr>\n",
       "    <tr>\n",
       "      <th>8</th>\n",
       "      <td>186442.0</td>\n",
       "      <td>2022-02-28 18:15:17</td>\n",
       "      <td>183667.0</td>\n",
       "      <td>1.646073e+09</td>\n",
       "      <td>8</td>\n",
       "    </tr>\n",
       "    <tr>\n",
       "      <th>10</th>\n",
       "      <td>183799.0</td>\n",
       "      <td>2022-02-28 18:14:58</td>\n",
       "      <td>182058.0</td>\n",
       "      <td>1.646073e+09</td>\n",
       "      <td>10</td>\n",
       "    </tr>\n",
       "    <tr>\n",
       "      <th>12</th>\n",
       "      <td>190669.0</td>\n",
       "      <td>2022-02-28 18:15:15</td>\n",
       "      <td>187078.0</td>\n",
       "      <td>1.646073e+09</td>\n",
       "      <td>12</td>\n",
       "    </tr>\n",
       "    <tr>\n",
       "      <th>...</th>\n",
       "      <td>...</td>\n",
       "      <td>...</td>\n",
       "      <td>...</td>\n",
       "      <td>...</td>\n",
       "      <td>...</td>\n",
       "    </tr>\n",
       "    <tr>\n",
       "      <th>26382</th>\n",
       "      <td>263000000.0</td>\n",
       "      <td>2022-02-28 18:25:39</td>\n",
       "      <td>257688000.0</td>\n",
       "      <td>1.646069e+09</td>\n",
       "      <td>26382</td>\n",
       "    </tr>\n",
       "    <tr>\n",
       "      <th>26384</th>\n",
       "      <td>466762725.0</td>\n",
       "      <td>2022-02-28 18:22:20</td>\n",
       "      <td>462777777.0</td>\n",
       "      <td>1.646070e+09</td>\n",
       "      <td>26384</td>\n",
       "    </tr>\n",
       "    <tr>\n",
       "      <th>26386</th>\n",
       "      <td>478888000.0</td>\n",
       "      <td>2022-02-28 18:25:49</td>\n",
       "      <td>466000000.0</td>\n",
       "      <td>1.646067e+09</td>\n",
       "      <td>26386</td>\n",
       "    </tr>\n",
       "    <tr>\n",
       "      <th>26390</th>\n",
       "      <td>136656.0</td>\n",
       "      <td>2022-02-28 18:16:19</td>\n",
       "      <td>136656.0</td>\n",
       "      <td>1.646072e+09</td>\n",
       "      <td>26390</td>\n",
       "    </tr>\n",
       "    <tr>\n",
       "      <th>26394</th>\n",
       "      <td>8594999.0</td>\n",
       "      <td>2022-02-28 11:37:43</td>\n",
       "      <td>8300000.0</td>\n",
       "      <td>1.646038e+09</td>\n",
       "      <td>26394</td>\n",
       "    </tr>\n",
       "  </tbody>\n",
       "</table>\n",
       "<p>3796 rows × 5 columns</p>\n",
       "</div>"
      ],
      "text/plain": [
       "              high            highTime          low       lowTime     id\n",
       "2            157.0 2022-02-28 18:28:05        150.0  1.646073e+09      2\n",
       "6         193090.0 2022-02-28 18:15:53     183578.0  1.646073e+09      6\n",
       "8         186442.0 2022-02-28 18:15:17     183667.0  1.646073e+09      8\n",
       "10        183799.0 2022-02-28 18:14:58     182058.0  1.646073e+09     10\n",
       "12        190669.0 2022-02-28 18:15:15     187078.0  1.646073e+09     12\n",
       "...            ...                 ...          ...           ...    ...\n",
       "26382  263000000.0 2022-02-28 18:25:39  257688000.0  1.646069e+09  26382\n",
       "26384  466762725.0 2022-02-28 18:22:20  462777777.0  1.646070e+09  26384\n",
       "26386  478888000.0 2022-02-28 18:25:49  466000000.0  1.646067e+09  26386\n",
       "26390     136656.0 2022-02-28 18:16:19     136656.0  1.646072e+09  26390\n",
       "26394    8594999.0 2022-02-28 11:37:43    8300000.0  1.646038e+09  26394\n",
       "\n",
       "[3796 rows x 5 columns]"
      ]
     },
     "execution_count": 29,
     "metadata": {},
     "output_type": "execute_result"
    }
   ],
   "source": [
    "latest_data"
   ]
  },
  {
   "cell_type": "code",
   "execution_count": 68,
   "id": "3daa83ee-7378-4881-9c1d-7618778a5dff",
   "metadata": {},
   "outputs": [],
   "source": [
    "five_min_response = requests.get((api_endpt+five_min_endpt), headers=headers)\n"
   ]
  },
  {
   "cell_type": "code",
   "execution_count": 73,
   "id": "fcb09ab8-27f2-4b34-9cf4-8ee2aca14547",
   "metadata": {},
   "outputs": [],
   "source": [
    "five_min_data = pd.DataFrame.from_dict(json.loads(five_min_response.text))"
   ]
  },
  {
   "cell_type": "code",
   "execution_count": 95,
   "id": "69219c9a-7eba-43a3-9831-9ec02886bad4",
   "metadata": {},
   "outputs": [
    {
     "data": {
      "text/plain": [
       "10000    {'avgHighPrice': None, 'highPriceVolume': 0, '...\n",
       "10006    {'avgHighPrice': 30, 'highPriceVolume': 10, 'a...\n",
       "10008    {'avgHighPrice': 53, 'highPriceVolume': 210, '...\n",
       "10012    {'avgHighPrice': 112, 'highPriceVolume': 6, 'a...\n",
       "10029    {'avgHighPrice': 10, 'highPriceVolume': 4, 'av...\n",
       "                               ...                        \n",
       "985      {'avgHighPrice': 10275, 'highPriceVolume': 1, ...\n",
       "987      {'avgHighPrice': 9995, 'highPriceVolume': 1, '...\n",
       "989      {'avgHighPrice': 19710, 'highPriceVolume': 14,...\n",
       "99       {'avgHighPrice': 9629, 'highPriceVolume': 7537...\n",
       "993      {'avgHighPrice': None, 'highPriceVolume': 0, '...\n",
       "Name: data, Length: 1438, dtype: object"
      ]
     },
     "execution_count": 95,
     "metadata": {},
     "output_type": "execute_result"
    }
   ],
   "source": [
    "(five_min_data['data'])"
   ]
  },
  {
   "cell_type": "code",
   "execution_count": 98,
   "id": "09a21aae-3883-468b-9489-aec60213f250",
   "metadata": {},
   "outputs": [
    {
     "ename": "TypeError",
     "evalue": "the JSON object must be str, bytes or bytearray, not Series",
     "output_type": "error",
     "traceback": [
      "\u001b[1;31m---------------------------------------------------------------------------\u001b[0m",
      "\u001b[1;31mTypeError\u001b[0m                                 Traceback (most recent call last)",
      "\u001b[1;32m<ipython-input-98-620a93c6454b>\u001b[0m in \u001b[0;36m<module>\u001b[1;34m\u001b[0m\n\u001b[1;32m----> 1\u001b[1;33m \u001b[0mjson\u001b[0m\u001b[1;33m.\u001b[0m\u001b[0mloads\u001b[0m\u001b[1;33m(\u001b[0m\u001b[0mfive_min_data\u001b[0m\u001b[1;33m[\u001b[0m\u001b[1;34m'data'\u001b[0m\u001b[1;33m]\u001b[0m\u001b[1;33m)\u001b[0m\u001b[1;33m\u001b[0m\u001b[1;33m\u001b[0m\u001b[0m\n\u001b[0m",
      "\u001b[1;32m~\\anaconda3\\lib\\json\\__init__.py\u001b[0m in \u001b[0;36mloads\u001b[1;34m(s, cls, object_hook, parse_float, parse_int, parse_constant, object_pairs_hook, **kw)\u001b[0m\n\u001b[0;32m    339\u001b[0m     \u001b[1;32melse\u001b[0m\u001b[1;33m:\u001b[0m\u001b[1;33m\u001b[0m\u001b[1;33m\u001b[0m\u001b[0m\n\u001b[0;32m    340\u001b[0m         \u001b[1;32mif\u001b[0m \u001b[1;32mnot\u001b[0m \u001b[0misinstance\u001b[0m\u001b[1;33m(\u001b[0m\u001b[0ms\u001b[0m\u001b[1;33m,\u001b[0m \u001b[1;33m(\u001b[0m\u001b[0mbytes\u001b[0m\u001b[1;33m,\u001b[0m \u001b[0mbytearray\u001b[0m\u001b[1;33m)\u001b[0m\u001b[1;33m)\u001b[0m\u001b[1;33m:\u001b[0m\u001b[1;33m\u001b[0m\u001b[1;33m\u001b[0m\u001b[0m\n\u001b[1;32m--> 341\u001b[1;33m             raise TypeError(f'the JSON object must be str, bytes or bytearray, '\n\u001b[0m\u001b[0;32m    342\u001b[0m                             f'not {s.__class__.__name__}')\n\u001b[0;32m    343\u001b[0m         \u001b[0ms\u001b[0m \u001b[1;33m=\u001b[0m \u001b[0ms\u001b[0m\u001b[1;33m.\u001b[0m\u001b[0mdecode\u001b[0m\u001b[1;33m(\u001b[0m\u001b[0mdetect_encoding\u001b[0m\u001b[1;33m(\u001b[0m\u001b[0ms\u001b[0m\u001b[1;33m)\u001b[0m\u001b[1;33m,\u001b[0m \u001b[1;34m'surrogatepass'\u001b[0m\u001b[1;33m)\u001b[0m\u001b[1;33m\u001b[0m\u001b[1;33m\u001b[0m\u001b[0m\n",
      "\u001b[1;31mTypeError\u001b[0m: the JSON object must be str, bytes or bytearray, not Series"
     ]
    }
   ],
   "source": [
    "json.loads(five_min_data['data'])"
   ]
  },
  {
   "cell_type": "code",
   "execution_count": 67,
   "id": "be947071-ee8a-4de8-be93-bbba1cb9c72a",
   "metadata": {},
   "outputs": [
    {
     "ename": "JSONDecodeError",
     "evalue": "Extra data: line 1 column 127016 (char 127015)",
     "output_type": "error",
     "traceback": [
      "\u001b[1;31m---------------------------------------------------------------------------\u001b[0m",
      "\u001b[1;31mJSONDecodeError\u001b[0m                           Traceback (most recent call last)",
      "\u001b[1;32m<ipython-input-67-90dd4dd60695>\u001b[0m in \u001b[0;36m<module>\u001b[1;34m\u001b[0m\n\u001b[0;32m      1\u001b[0m \u001b[0mfive_min_response\u001b[0m \u001b[1;33m=\u001b[0m \u001b[0mrequests\u001b[0m\u001b[1;33m.\u001b[0m\u001b[0mget\u001b[0m\u001b[1;33m(\u001b[0m\u001b[1;33m(\u001b[0m\u001b[0mapi_endpt\u001b[0m\u001b[1;33m+\u001b[0m\u001b[0mfive_min_endpt\u001b[0m\u001b[1;33m)\u001b[0m\u001b[1;33m,\u001b[0m \u001b[0mheaders\u001b[0m\u001b[1;33m=\u001b[0m\u001b[0mheaders\u001b[0m\u001b[1;33m)\u001b[0m\u001b[1;33m\u001b[0m\u001b[1;33m\u001b[0m\u001b[0m\n\u001b[1;32m----> 2\u001b[1;33m \u001b[0mfive_min_data\u001b[0m \u001b[1;33m=\u001b[0m \u001b[0mpd\u001b[0m\u001b[1;33m.\u001b[0m\u001b[0mDataFrame\u001b[0m\u001b[1;33m.\u001b[0m\u001b[0mfrom_dict\u001b[0m\u001b[1;33m(\u001b[0m\u001b[0mjson\u001b[0m\u001b[1;33m.\u001b[0m\u001b[0mloads\u001b[0m\u001b[1;33m(\u001b[0m\u001b[0mfive_min_response\u001b[0m\u001b[1;33m.\u001b[0m\u001b[0mtext\u001b[0m\u001b[1;33m[\u001b[0m\u001b[1;36m8\u001b[0m\u001b[1;33m:\u001b[0m\u001b[1;33m-\u001b[0m\u001b[1;36m1\u001b[0m\u001b[1;33m]\u001b[0m\u001b[1;33m)\u001b[0m\u001b[1;33m,\u001b[0m\u001b[0morient\u001b[0m\u001b[1;33m=\u001b[0m\u001b[1;34m'columns'\u001b[0m\u001b[1;33m)\u001b[0m\u001b[1;33m.\u001b[0m\u001b[0mT\u001b[0m\u001b[1;33m\u001b[0m\u001b[1;33m\u001b[0m\u001b[0m\n\u001b[0m\u001b[0;32m      3\u001b[0m \u001b[0mfive_min_data\u001b[0m\u001b[1;33m[\u001b[0m\u001b[1;34m'id'\u001b[0m\u001b[1;33m]\u001b[0m \u001b[1;33m=\u001b[0m \u001b[0mfive_min_data\u001b[0m\u001b[1;33m.\u001b[0m\u001b[0mindex\u001b[0m\u001b[1;33m\u001b[0m\u001b[1;33m\u001b[0m\u001b[0m\n",
      "\u001b[1;32m~\\anaconda3\\lib\\json\\__init__.py\u001b[0m in \u001b[0;36mloads\u001b[1;34m(s, cls, object_hook, parse_float, parse_int, parse_constant, object_pairs_hook, **kw)\u001b[0m\n\u001b[0;32m    355\u001b[0m             \u001b[0mparse_int\u001b[0m \u001b[1;32mis\u001b[0m \u001b[1;32mNone\u001b[0m \u001b[1;32mand\u001b[0m \u001b[0mparse_float\u001b[0m \u001b[1;32mis\u001b[0m \u001b[1;32mNone\u001b[0m \u001b[1;32mand\u001b[0m\u001b[1;33m\u001b[0m\u001b[1;33m\u001b[0m\u001b[0m\n\u001b[0;32m    356\u001b[0m             parse_constant is None and object_pairs_hook is None and not kw):\n\u001b[1;32m--> 357\u001b[1;33m         \u001b[1;32mreturn\u001b[0m \u001b[0m_default_decoder\u001b[0m\u001b[1;33m.\u001b[0m\u001b[0mdecode\u001b[0m\u001b[1;33m(\u001b[0m\u001b[0ms\u001b[0m\u001b[1;33m)\u001b[0m\u001b[1;33m\u001b[0m\u001b[1;33m\u001b[0m\u001b[0m\n\u001b[0m\u001b[0;32m    358\u001b[0m     \u001b[1;32mif\u001b[0m \u001b[0mcls\u001b[0m \u001b[1;32mis\u001b[0m \u001b[1;32mNone\u001b[0m\u001b[1;33m:\u001b[0m\u001b[1;33m\u001b[0m\u001b[1;33m\u001b[0m\u001b[0m\n\u001b[0;32m    359\u001b[0m         \u001b[0mcls\u001b[0m \u001b[1;33m=\u001b[0m \u001b[0mJSONDecoder\u001b[0m\u001b[1;33m\u001b[0m\u001b[1;33m\u001b[0m\u001b[0m\n",
      "\u001b[1;32m~\\anaconda3\\lib\\json\\decoder.py\u001b[0m in \u001b[0;36mdecode\u001b[1;34m(self, s, _w)\u001b[0m\n\u001b[0;32m    338\u001b[0m         \u001b[0mend\u001b[0m \u001b[1;33m=\u001b[0m \u001b[0m_w\u001b[0m\u001b[1;33m(\u001b[0m\u001b[0ms\u001b[0m\u001b[1;33m,\u001b[0m \u001b[0mend\u001b[0m\u001b[1;33m)\u001b[0m\u001b[1;33m.\u001b[0m\u001b[0mend\u001b[0m\u001b[1;33m(\u001b[0m\u001b[1;33m)\u001b[0m\u001b[1;33m\u001b[0m\u001b[1;33m\u001b[0m\u001b[0m\n\u001b[0;32m    339\u001b[0m         \u001b[1;32mif\u001b[0m \u001b[0mend\u001b[0m \u001b[1;33m!=\u001b[0m \u001b[0mlen\u001b[0m\u001b[1;33m(\u001b[0m\u001b[0ms\u001b[0m\u001b[1;33m)\u001b[0m\u001b[1;33m:\u001b[0m\u001b[1;33m\u001b[0m\u001b[1;33m\u001b[0m\u001b[0m\n\u001b[1;32m--> 340\u001b[1;33m             \u001b[1;32mraise\u001b[0m \u001b[0mJSONDecodeError\u001b[0m\u001b[1;33m(\u001b[0m\u001b[1;34m\"Extra data\"\u001b[0m\u001b[1;33m,\u001b[0m \u001b[0ms\u001b[0m\u001b[1;33m,\u001b[0m \u001b[0mend\u001b[0m\u001b[1;33m)\u001b[0m\u001b[1;33m\u001b[0m\u001b[1;33m\u001b[0m\u001b[0m\n\u001b[0m\u001b[0;32m    341\u001b[0m         \u001b[1;32mreturn\u001b[0m \u001b[0mobj\u001b[0m\u001b[1;33m\u001b[0m\u001b[1;33m\u001b[0m\u001b[0m\n\u001b[0;32m    342\u001b[0m \u001b[1;33m\u001b[0m\u001b[0m\n",
      "\u001b[1;31mJSONDecodeError\u001b[0m: Extra data: line 1 column 127016 (char 127015)"
     ]
    }
   ],
   "source": [
    "five_min_response = requests.get((api_endpt+five_min_endpt), headers=headers)\n",
    "five_min_data = pd.DataFrame.from_dict(json.loads(five_min_response.text[8:-1]),orient='columns').T\n",
    "five_min_data['id'] = five_min_data.index"
   ]
  },
  {
   "cell_type": "code",
   "execution_count": 36,
   "id": "90969580-071b-46d3-984c-dc84a21429f5",
   "metadata": {},
   "outputs": [],
   "source": [
    "#changing datetimes\n",
    "five_min_data.highTime = unix_conv(five_min_data,'highTime')\n",
    "five_min_data.lowTime = unix_conv(five_min_data,'lowTime')"
   ]
  },
  {
   "cell_type": "code",
   "execution_count": 25,
   "id": "77a62a06-72c7-44d6-9c8a-dc67b3e6e9d8",
   "metadata": {},
   "outputs": [],
   "source": [
    "#the id columns for the latest data and five_min data needs to be changed to an int64 type\n",
    "latest_data.id = latest_data.id.astype('int64')\n",
    "five_min_data.id = five_min_data.id.astype('int64')"
   ]
  },
  {
   "cell_type": "code",
   "execution_count": 40,
   "id": "feb1bffa-df67-4e73-8f1d-69af5de9bb97",
   "metadata": {},
   "outputs": [],
   "source": [
    "#merge the five_min_data with all_items\n",
    "#this will only include data that has new information\n",
    "all_w_latest = all_items.merge(five_min_data,on='id')"
   ]
  },
  {
   "cell_type": "code",
   "execution_count": 39,
   "id": "5472c225-8005-4b22-a9bb-a5073db31f9e",
   "metadata": {},
   "outputs": [
    {
     "name": "stdout",
     "output_type": "stream",
     "text": [
      "<class 'pandas.core.frame.DataFrame'>\n",
      "Int64Index: 3794 entries, 0 to 3793\n",
      "Data columns (total 13 columns):\n",
      " #   Column    Non-Null Count  Dtype         \n",
      "---  ------    --------------  -----         \n",
      " 0   examine   3794 non-null   object        \n",
      " 1   id        3794 non-null   int64         \n",
      " 2   members   3794 non-null   bool          \n",
      " 3   lowalch   3792 non-null   float64       \n",
      " 4   limit     3710 non-null   float64       \n",
      " 5   value     3794 non-null   int64         \n",
      " 6   highalch  3792 non-null   float64       \n",
      " 7   icon      3794 non-null   object        \n",
      " 8   name      3794 non-null   object        \n",
      " 9   high      3794 non-null   float64       \n",
      " 10  highTime  3794 non-null   datetime64[ns]\n",
      " 11  low       3794 non-null   float64       \n",
      " 12  lowTime   3794 non-null   datetime64[ns]\n",
      "dtypes: bool(1), datetime64[ns](2), float64(5), int64(2), object(3)\n",
      "memory usage: 389.0+ KB\n"
     ]
    }
   ],
   "source": [
    "all_w_latest.info()"
   ]
  },
  {
   "cell_type": "code",
   "execution_count": 60,
   "id": "82bb76ee-34ef-4056-bfd2-ec7e0cc6133e",
   "metadata": {},
   "outputs": [
    {
     "data": {
      "text/plain": [
       "'2022-02-28 17:27:56'"
      ]
     },
     "execution_count": 60,
     "metadata": {},
     "output_type": "execute_result"
    }
   ],
   "source": [
    "str(all_w_latest['lowTime'][0])"
   ]
  },
  {
   "cell_type": "code",
   "execution_count": 65,
   "id": "ee3815e9-33f8-4a42-8b4f-ec0176e4dc86",
   "metadata": {},
   "outputs": [],
   "source": [
    "timestamp = current_time.strftime(\"%Y-%m-%d %H-%M-%S\")"
   ]
  },
  {
   "cell_type": "code",
   "execution_count": 66,
   "id": "4a90b61c-fc6c-4a44-a3f7-22a784611e40",
   "metadata": {},
   "outputs": [],
   "source": [
    "all_items.to_csv(f'latest_osrs_items{str(timestamp)}.csv',index=False)"
   ]
  },
  {
   "cell_type": "code",
   "execution_count": 45,
   "id": "8a8d0be9-8488-4faf-99a3-79f47bae86da",
   "metadata": {},
   "outputs": [],
   "source": [
    "from datetime import datetime"
   ]
  },
  {
   "cell_type": "code",
   "execution_count": 48,
   "id": "1fb2bd3f-11dc-4b44-8979-d1169b53e3aa",
   "metadata": {},
   "outputs": [],
   "source": [
    "current_time = datetime.now()"
   ]
  },
  {
   "cell_type": "code",
   "execution_count": 49,
   "id": "9e2d7917-f175-4fd4-9a7b-4caea1a49b21",
   "metadata": {},
   "outputs": [],
   "source": [
    "timestamp = current_time.strftime(\"%Y-%m-%d %H:%M:%S\")"
   ]
  },
  {
   "cell_type": "code",
   "execution_count": 50,
   "id": "784a0006-7b4d-4fbb-99cd-2a8b931caafd",
   "metadata": {},
   "outputs": [
    {
     "data": {
      "text/plain": [
       "'2022-02-28 13:22:59'"
      ]
     },
     "execution_count": 50,
     "metadata": {},
     "output_type": "execute_result"
    }
   ],
   "source": [
    "timestamp"
   ]
  },
  {
   "cell_type": "code",
   "execution_count": 51,
   "id": "e711ed73-a6f8-4a2d-b303-9fe2e76dac42",
   "metadata": {},
   "outputs": [
    {
     "name": "stdout",
     "output_type": "stream",
     "text": [
      "tick\n",
      "tick\n",
      "tick\n",
      "tick\n",
      "tick\n"
     ]
    },
    {
     "ename": "KeyboardInterrupt",
     "evalue": "",
     "output_type": "error",
     "traceback": [
      "\u001b[1;31m---------------------------------------------------------------------------\u001b[0m",
      "\u001b[1;31mKeyboardInterrupt\u001b[0m                         Traceback (most recent call last)",
      "\u001b[1;32m<ipython-input-51-47f766796fe1>\u001b[0m in \u001b[0;36m<module>\u001b[1;34m\u001b[0m\n\u001b[0;32m      5\u001b[0m \u001b[1;32mwhile\u001b[0m \u001b[1;32mTrue\u001b[0m\u001b[1;33m:\u001b[0m\u001b[1;33m\u001b[0m\u001b[1;33m\u001b[0m\u001b[0m\n\u001b[0;32m      6\u001b[0m     \u001b[0mprint\u001b[0m\u001b[1;33m(\u001b[0m\u001b[1;34m\"tick\"\u001b[0m\u001b[1;33m)\u001b[0m\u001b[1;33m\u001b[0m\u001b[1;33m\u001b[0m\u001b[0m\n\u001b[1;32m----> 7\u001b[1;33m     \u001b[0mtime\u001b[0m\u001b[1;33m.\u001b[0m\u001b[0msleep\u001b[0m\u001b[1;33m(\u001b[0m\u001b[1;36m60.0\u001b[0m \u001b[1;33m-\u001b[0m \u001b[1;33m(\u001b[0m\u001b[1;33m(\u001b[0m\u001b[0mtime\u001b[0m\u001b[1;33m.\u001b[0m\u001b[0mtime\u001b[0m\u001b[1;33m(\u001b[0m\u001b[1;33m)\u001b[0m \u001b[1;33m-\u001b[0m \u001b[0mstarttime\u001b[0m\u001b[1;33m)\u001b[0m \u001b[1;33m%\u001b[0m \u001b[1;36m60.0\u001b[0m\u001b[1;33m)\u001b[0m\u001b[1;33m)\u001b[0m\u001b[1;33m\u001b[0m\u001b[1;33m\u001b[0m\u001b[0m\n\u001b[0m",
      "\u001b[1;31mKeyboardInterrupt\u001b[0m: "
     ]
    }
   ],
   "source": [
    "import time\n",
    "\n",
    "starttime = time.time()\n",
    "while True:\n",
    "    print(\"tick\")\n",
    "    time.sleep(60.0 - ((time.time() - starttime) % 60.0))"
   ]
  },
  {
   "cell_type": "code",
   "execution_count": null,
   "id": "277ee4b9-c3d5-4fd3-b7eb-267d0667d979",
   "metadata": {},
   "outputs": [],
   "source": []
  },
  {
   "cell_type": "code",
   "execution_count": null,
   "id": "1c593bbf-0a11-4dc9-ae0a-af4efae5cd42",
   "metadata": {},
   "outputs": [],
   "source": []
  }
 ],
 "metadata": {
  "kernelspec": {
   "display_name": "Python 3",
   "language": "python",
   "name": "python3"
  },
  "language_info": {
   "codemirror_mode": {
    "name": "ipython",
    "version": 3
   },
   "file_extension": ".py",
   "mimetype": "text/x-python",
   "name": "python",
   "nbconvert_exporter": "python",
   "pygments_lexer": "ipython3",
   "version": "3.8.8"
  }
 },
 "nbformat": 4,
 "nbformat_minor": 5
}
