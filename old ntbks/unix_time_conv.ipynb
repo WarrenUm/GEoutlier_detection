{
 "cells": [
  {
   "cell_type": "code",
   "execution_count": 1,
   "id": "3e05e0ea-4051-4d76-b301-a6d8491fbda5",
   "metadata": {},
   "outputs": [],
   "source": [
    "#function to take a datetime and convert it to unix time.\n",
    "import time\n",
    "import datetime"
   ]
  },
  {
   "cell_type": "code",
   "execution_count": 2,
   "id": "bb8bb2ce-1e30-47ba-8ca0-ff72d915645e",
   "metadata": {},
   "outputs": [],
   "source": [
    "def unix_conv(time_string):\n",
    "    unix = time.mktime(datetime.datetime.strptime(time_string, \"%d/%m/%Y\").timetuple())\n",
    "    \n",
    "    return unix"
   ]
  },
  {
   "cell_type": "code",
   "execution_count": null,
   "id": "6c5913f2-476c-41be-9446-bc65bcac0020",
   "metadata": {},
   "outputs": [],
   "source": []
  },
  {
   "cell_type": "code",
   "execution_count": 3,
   "id": "4066e546-b642-41e3-876b-8219c2d1c56f",
   "metadata": {},
   "outputs": [
    {
     "data": {
      "text/plain": [
       "1647493200.0"
      ]
     },
     "execution_count": 3,
     "metadata": {},
     "output_type": "execute_result"
    }
   ],
   "source": [
    "unix_conv('17/03/2022')"
   ]
  },
  {
   "cell_type": "code",
   "execution_count": null,
   "id": "2c29e1c5-3418-4be3-b3ba-e666c479af32",
   "metadata": {},
   "outputs": [],
   "source": []
  }
 ],
 "metadata": {
  "kernelspec": {
   "display_name": "Python 3",
   "language": "python",
   "name": "python3"
  },
  "language_info": {
   "codemirror_mode": {
    "name": "ipython",
    "version": 3
   },
   "file_extension": ".py",
   "mimetype": "text/x-python",
   "name": "python",
   "nbconvert_exporter": "python",
   "pygments_lexer": "ipython3",
   "version": "3.8.8"
  }
 },
 "nbformat": 4,
 "nbformat_minor": 5
}
