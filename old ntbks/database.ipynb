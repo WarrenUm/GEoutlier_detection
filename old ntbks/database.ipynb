{
 "cells": [
  {
   "cell_type": "code",
   "execution_count": 248,
   "id": "61364ae8-3de1-4cbd-a790-7aca12211110",
   "metadata": {},
   "outputs": [],
   "source": [
    "import sqlite3\n",
    "from sqlite3 import Error\n",
    "import pandas as pd"
   ]
  },
  {
   "cell_type": "code",
   "execution_count": 249,
   "id": "7a306474-8df4-4db9-8a62-9f5bc2741d4b",
   "metadata": {},
   "outputs": [],
   "source": [
    "#connection\n",
    "\n",
    "def create_connection(db_file):\n",
    "    \"\"\"Create conn to sqlite db\"\"\"\n",
    "    \n",
    "    conn = None\n",
    "    \n",
    "    try:\n",
    "        conn = sqlite3.connect(db_file)\n",
    "        print(sqlite3.version)\n",
    "    except Error as e:\n",
    "        print(e)\n",
    "    return conn"
   ]
  },
  {
   "cell_type": "code",
   "execution_count": 250,
   "id": "3f10641c-6379-4672-b831-f0b066d706f4",
   "metadata": {},
   "outputs": [],
   "source": [
    "# conn.close()"
   ]
  },
  {
   "cell_type": "code",
   "execution_count": 251,
   "id": "d79a1cae-5202-481d-8b5d-99a8d62afce6",
   "metadata": {},
   "outputs": [],
   "source": [
    "# create_connection('geitems.db')"
   ]
  },
  {
   "cell_type": "code",
   "execution_count": 252,
   "id": "2ccda155-27cd-48f2-b36e-904ee96daa08",
   "metadata": {},
   "outputs": [],
   "source": [
    "conn = sqlite3.connect('../geitems.db')"
   ]
  },
  {
   "cell_type": "code",
   "execution_count": 253,
   "id": "2bd62fd8-254b-430c-8730-e22f7f02bcf4",
   "metadata": {},
   "outputs": [],
   "source": [
    "cur = conn.cursor()"
   ]
  },
  {
   "cell_type": "code",
   "execution_count": 177,
   "id": "f7fccc94-50ad-4ec2-a80a-825389bc1464",
   "metadata": {},
   "outputs": [],
   "source": [
    "#make items table\n",
    "query = \"\"\" CREATE TABLE items (id integer, members integer, lowalch real, buyLimit real, value real, highalch real, icon blob, name text, examine text) \"\"\"\n",
    "\n"
   ]
  },
  {
   "cell_type": "code",
   "execution_count": 254,
   "id": "16b0f6a6-605b-42b5-9b49-b333a0c12e90",
   "metadata": {},
   "outputs": [],
   "source": [
    "# query = ''' DROP TABLE prices '''"
   ]
  },
  {
   "cell_type": "code",
   "execution_count": 255,
   "id": "b6b69fac-475b-4168-b41b-55c5674a22ce",
   "metadata": {},
   "outputs": [
    {
     "data": {
      "text/plain": [
       "<sqlite3.Cursor at 0x2b6e5d67dc0>"
      ]
     },
     "execution_count": 255,
     "metadata": {},
     "output_type": "execute_result"
    }
   ],
   "source": [
    "cur.execute(query)\n"
   ]
  },
  {
   "cell_type": "code",
   "execution_count": null,
   "id": "43f3aa57-b905-4436-a59c-0b69dbc61aa3",
   "metadata": {},
   "outputs": [],
   "source": []
  },
  {
   "cell_type": "code",
   "execution_count": 179,
   "id": "98f8685d-a865-4d4a-86c6-3ece3a5643f7",
   "metadata": {},
   "outputs": [],
   "source": [
    "def add_items(conn, item):\n",
    "    \"\"\"\n",
    "    Create a new project into the items table\n",
    "    :param conn:\n",
    "    :param item:\n",
    "    :return: item id\n",
    "    \"\"\"\n",
    "    sql = ''' INSERT INTO items(id,members,lowalch,buyLimit,value,highalch,icon,name,examine)\n",
    "              VALUES(?,?,?,?,?,?,?,?,?) '''\n",
    "    cur = conn.cursor()\n",
    "    cur.execute(sql, item)\n",
    "    conn.commit()\n",
    "    return cur.lastrowid"
   ]
  },
  {
   "cell_type": "code",
   "execution_count": 180,
   "id": "181b6d40-f17e-4a00-97de-ec4b1d5fa69e",
   "metadata": {},
   "outputs": [],
   "source": [
    "item_df = pd.read_csv('latest_osrs_items2022-03-07 12-41-21.csv')"
   ]
  },
  {
   "cell_type": "code",
   "execution_count": 181,
   "id": "5f3921b1-fb0f-4ab5-b79f-a18b42a1d60a",
   "metadata": {},
   "outputs": [
    {
     "name": "stdout",
     "output_type": "stream",
     "text": [
      "<class 'pandas.core.frame.DataFrame'>\n",
      "RangeIndex: 3882 entries, 0 to 3881\n",
      "Data columns (total 9 columns):\n",
      " #   Column    Non-Null Count  Dtype  \n",
      "---  ------    --------------  -----  \n",
      " 0   examine   3882 non-null   object \n",
      " 1   id        3882 non-null   int64  \n",
      " 2   members   3882 non-null   bool   \n",
      " 3   lowalch   3880 non-null   float64\n",
      " 4   limit     3776 non-null   float64\n",
      " 5   value     3882 non-null   int64  \n",
      " 6   highalch  3880 non-null   float64\n",
      " 7   icon      3882 non-null   object \n",
      " 8   name      3882 non-null   object \n",
      "dtypes: bool(1), float64(3), int64(2), object(3)\n",
      "memory usage: 246.5+ KB\n"
     ]
    }
   ],
   "source": [
    "item_df.info()"
   ]
  },
  {
   "cell_type": "code",
   "execution_count": 193,
   "id": "48f841eb-f3da-415a-8ae6-cdaee63f5a51",
   "metadata": {},
   "outputs": [
    {
     "ename": "TypeError",
     "evalue": "cannot convert the series to <class 'int'>",
     "output_type": "error",
     "traceback": [
      "\u001b[1;31m---------------------------------------------------------------------------\u001b[0m",
      "\u001b[1;31mTypeError\u001b[0m                                 Traceback (most recent call last)",
      "\u001b[1;32m<ipython-input-193-38beeb5d5b73>\u001b[0m in \u001b[0;36m<module>\u001b[1;34m\u001b[0m\n\u001b[1;32m----> 1\u001b[1;33m \u001b[0mint\u001b[0m\u001b[1;33m(\u001b[0m\u001b[0mitem_df\u001b[0m\u001b[1;33m.\u001b[0m\u001b[0mid\u001b[0m\u001b[1;33m)\u001b[0m\u001b[1;33m\u001b[0m\u001b[1;33m\u001b[0m\u001b[0m\n\u001b[0m",
      "\u001b[1;32mC:\\ProgramData\\Anaconda3\\lib\\site-packages\\pandas\\core\\series.py\u001b[0m in \u001b[0;36mwrapper\u001b[1;34m(self)\u001b[0m\n\u001b[0;32m    139\u001b[0m         \u001b[1;32mif\u001b[0m \u001b[0mlen\u001b[0m\u001b[1;33m(\u001b[0m\u001b[0mself\u001b[0m\u001b[1;33m)\u001b[0m \u001b[1;33m==\u001b[0m \u001b[1;36m1\u001b[0m\u001b[1;33m:\u001b[0m\u001b[1;33m\u001b[0m\u001b[1;33m\u001b[0m\u001b[0m\n\u001b[0;32m    140\u001b[0m             \u001b[1;32mreturn\u001b[0m \u001b[0mconverter\u001b[0m\u001b[1;33m(\u001b[0m\u001b[0mself\u001b[0m\u001b[1;33m.\u001b[0m\u001b[0miloc\u001b[0m\u001b[1;33m[\u001b[0m\u001b[1;36m0\u001b[0m\u001b[1;33m]\u001b[0m\u001b[1;33m)\u001b[0m\u001b[1;33m\u001b[0m\u001b[1;33m\u001b[0m\u001b[0m\n\u001b[1;32m--> 141\u001b[1;33m         \u001b[1;32mraise\u001b[0m \u001b[0mTypeError\u001b[0m\u001b[1;33m(\u001b[0m\u001b[1;34mf\"cannot convert the series to {converter}\"\u001b[0m\u001b[1;33m)\u001b[0m\u001b[1;33m\u001b[0m\u001b[1;33m\u001b[0m\u001b[0m\n\u001b[0m\u001b[0;32m    142\u001b[0m \u001b[1;33m\u001b[0m\u001b[0m\n\u001b[0;32m    143\u001b[0m     \u001b[0mwrapper\u001b[0m\u001b[1;33m.\u001b[0m\u001b[0m__name__\u001b[0m \u001b[1;33m=\u001b[0m \u001b[1;34mf\"__{converter.__name__}__\"\u001b[0m\u001b[1;33m\u001b[0m\u001b[1;33m\u001b[0m\u001b[0m\n",
      "\u001b[1;31mTypeError\u001b[0m: cannot convert the series to <class 'int'>"
     ]
    }
   ],
   "source": [
    "item_df.id"
   ]
  },
  {
   "cell_type": "code",
   "execution_count": 183,
   "id": "1a2b88fd-18be-4ab5-b1b5-a264d3f411b8",
   "metadata": {},
   "outputs": [
    {
     "data": {
      "text/plain": [
       "'Fabulously ancient mage protection enchanted in the 3rd Age.'"
      ]
     },
     "execution_count": 183,
     "metadata": {},
     "output_type": "execute_result"
    }
   ],
   "source": [
    "item_df.iloc[0]['examine']"
   ]
  },
  {
   "cell_type": "code",
   "execution_count": 204,
   "id": "fa0692bf-6818-419b-a51c-c6a5ba17c06f",
   "metadata": {},
   "outputs": [
    {
     "name": "stdout",
     "output_type": "stream",
     "text": [
      "2.6.0\n"
     ]
    }
   ],
   "source": [
    "conn = create_connection('geitems.db')\n",
    "\n",
    "#id,members,lowalch,buyLimit,value,highalch,icon,name,examine\n",
    "#add item\n",
    "\n",
    "item_id = int(item_df.iloc[0]['id'])\n",
    "mems = str(item_df.iloc[0]['members'])\n",
    "lowal = item_df.iloc[0]['lowalch']\n",
    "lim = item_df.iloc[0]['limit']\n",
    "val = int(item_df.iloc[0]['value'])\n",
    "highal = item_df.iloc[0]['highalch']\n",
    "icon = item_df.iloc[0]['icon']\n",
    "name = item_df.iloc[0]['name']\n",
    "examine = item_df.iloc[0]['examine']\n",
    "\n",
    "item = (item_id,mems,lowal,lim,val,highal,icon,name,examine);\n",
    "item_id = add_items(conn, item)"
   ]
  },
  {
   "cell_type": "code",
   "execution_count": 205,
   "id": "7730ee61-1037-472d-bf1c-f82b0d5a68bd",
   "metadata": {},
   "outputs": [
    {
     "data": {
      "text/plain": [
       "sqlite3.Connection"
      ]
     },
     "execution_count": 205,
     "metadata": {},
     "output_type": "execute_result"
    }
   ],
   "source": [
    "type(conn)"
   ]
  },
  {
   "cell_type": "code",
   "execution_count": 206,
   "id": "eaefa797-13a0-45d6-877d-a268b7d0d8a0",
   "metadata": {},
   "outputs": [],
   "source": [
    "# cur.execute('''DROP TABLE items''')"
   ]
  },
  {
   "cell_type": "code",
   "execution_count": 256,
   "id": "e36789d7-6586-45a2-a0c5-5134fa8227e9",
   "metadata": {},
   "outputs": [],
   "source": [
    "conn.close()"
   ]
  },
  {
   "cell_type": "code",
   "execution_count": 208,
   "id": "7964e5ee-63fd-47b1-abec-42d6496c1510",
   "metadata": {},
   "outputs": [],
   "source": [
    "conn = sqlite3.connect('../geitems.db')\n",
    "cur = conn.cursor()"
   ]
  },
  {
   "cell_type": "code",
   "execution_count": 209,
   "id": "12838300-3a36-40fd-8491-0921d6350784",
   "metadata": {},
   "outputs": [
    {
     "data": {
      "text/plain": [
       "<sqlite3.Cursor at 0x2b6e5c3c880>"
      ]
     },
     "execution_count": 209,
     "metadata": {},
     "output_type": "execute_result"
    }
   ],
   "source": [
    "cur.execute(\"\"\"SELECT * FROM items\"\"\")"
   ]
  },
  {
   "cell_type": "code",
   "execution_count": 210,
   "id": "aeb0bc79-69e2-4cb2-b8c1-cc2d4ec1182d",
   "metadata": {},
   "outputs": [
    {
     "data": {
      "text/plain": [
       "[(b'h(\\x00\\x00\\x00\\x00\\x00\\x00',\n",
       "  b'\\x01',\n",
       "  20200.0,\n",
       "  8.0,\n",
       "  b'D\\xc5\\x00\\x00\\x00\\x00\\x00\\x00',\n",
       "  30300.0,\n",
       "  '3rd age amulet.png',\n",
       "  '3rd age amulet',\n",
       "  'Fabulously ancient mage protection enchanted in the 3rd Age.'),\n",
       " (10344,\n",
       "  b'\\x01',\n",
       "  20200.0,\n",
       "  8.0,\n",
       "  b'D\\xc5\\x00\\x00\\x00\\x00\\x00\\x00',\n",
       "  30300.0,\n",
       "  '3rd age amulet.png',\n",
       "  '3rd age amulet',\n",
       "  'Fabulously ancient mage protection enchanted in the 3rd Age.'),\n",
       " (10344,\n",
       "  b'\\x01',\n",
       "  20200.0,\n",
       "  8.0,\n",
       "  50500.0,\n",
       "  30300.0,\n",
       "  '3rd age amulet.png',\n",
       "  '3rd age amulet',\n",
       "  'Fabulously ancient mage protection enchanted in the 3rd Age.'),\n",
       " (10344,\n",
       "  'True',\n",
       "  20200.0,\n",
       "  8.0,\n",
       "  50500.0,\n",
       "  30300.0,\n",
       "  '3rd age amulet.png',\n",
       "  '3rd age amulet',\n",
       "  'Fabulously ancient mage protection enchanted in the 3rd Age.')]"
      ]
     },
     "execution_count": 210,
     "metadata": {},
     "output_type": "execute_result"
    }
   ],
   "source": [
    "cur.fetchall()"
   ]
  },
  {
   "cell_type": "code",
   "execution_count": 211,
   "id": "3bab06f3-c5d3-47cf-b0dc-479d7c2fb095",
   "metadata": {},
   "outputs": [
    {
     "data": {
      "text/plain": [
       "50500"
      ]
     },
     "execution_count": 211,
     "metadata": {},
     "output_type": "execute_result"
    }
   ],
   "source": [
    "val"
   ]
  },
  {
   "cell_type": "code",
   "execution_count": null,
   "id": "73969748-aef3-40e9-9e2e-f93853aec067",
   "metadata": {},
   "outputs": [],
   "source": []
  }
 ],
 "metadata": {
  "kernelspec": {
   "display_name": "Python 3",
   "language": "python",
   "name": "python3"
  },
  "language_info": {
   "codemirror_mode": {
    "name": "ipython",
    "version": 3
   },
   "file_extension": ".py",
   "mimetype": "text/x-python",
   "name": "python",
   "nbconvert_exporter": "python",
   "pygments_lexer": "ipython3",
   "version": "3.8.8"
  }
 },
 "nbformat": 4,
 "nbformat_minor": 5
}
